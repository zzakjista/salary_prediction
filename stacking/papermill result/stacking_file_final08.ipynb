{
 "cells": [
  {
   "cell_type": "code",
   "execution_count": 1,
   "id": "bd04bb40",
   "metadata": {
    "execution": {
     "iopub.execute_input": "2022-11-25T03:40:34.113517Z",
     "iopub.status.busy": "2022-11-25T03:40:34.113517Z",
     "iopub.status.idle": "2022-11-25T03:40:34.129142Z",
     "shell.execute_reply": "2022-11-25T03:40:34.129142Z"
    },
    "papermill": {
     "duration": 0.046867,
     "end_time": "2022-11-25T03:40:34.129142",
     "exception": false,
     "start_time": "2022-11-25T03:40:34.082275",
     "status": "completed"
    },
    "tags": [
     "injected-parameters"
    ]
   },
   "outputs": [],
   "source": [
    "# Parameters\n",
    "VERSION = \"9.08\"\n",
    "NFOLDS = 5\n",
    "SEED = 9225\n"
   ]
  },
  {
   "cell_type": "code",
   "execution_count": 2,
   "id": "aa51720f",
   "metadata": {
    "execution": {
     "iopub.execute_input": "2022-11-25T03:40:34.160802Z",
     "iopub.status.busy": "2022-11-25T03:40:34.158807Z",
     "iopub.status.idle": "2022-11-25T03:40:39.399205Z",
     "shell.execute_reply": "2022-11-25T03:40:39.399205Z"
    },
    "papermill": {
     "duration": 5.270063,
     "end_time": "2022-11-25T03:40:39.399205",
     "exception": false,
     "start_time": "2022-11-25T03:40:34.129142",
     "status": "completed"
    },
    "tags": []
   },
   "outputs": [],
   "source": [
    "run -i import_file.py"
   ]
  },
  {
   "cell_type": "code",
   "execution_count": 3,
   "id": "0158828e",
   "metadata": {
    "execution": {
     "iopub.execute_input": "2022-11-25T03:40:39.449651Z",
     "iopub.status.busy": "2022-11-25T03:40:39.448654Z",
     "iopub.status.idle": "2022-11-25T03:40:40.111607Z",
     "shell.execute_reply": "2022-11-25T03:40:40.111607Z"
    },
    "papermill": {
     "duration": 0.696782,
     "end_time": "2022-11-25T03:40:40.111607",
     "exception": false,
     "start_time": "2022-11-25T03:40:39.414825",
     "status": "completed"
    },
    "tags": []
   },
   "outputs": [],
   "source": [
    "modelA_cat_train = pd.read_csv('modelA_cat_data.csv')['modelA_train']\n",
    "modelA_cat_test = pd.read_csv('modelA_cat_data.csv')['modelA_test']\n",
    "modelA_lgbm_train = pd.read_csv('modelA_lgbm_data.csv')['modelA_lgbm_train']\n",
    "modelA_lgbm_test = pd.read_csv('modelA_lgbm_data.csv')['modelA_lgbm_test']\n",
    "modelB_cat_train = pd.read_csv('modelB_cat_data.csv')['modelB_train']\n",
    "modelB_cat_test = pd.read_csv('modelB_cat_data.csv')['modelB_test']\n",
    "modelB_lgbm_train = pd.read_csv('modelB_lgbm_data.csv')['modelB_lgbm_train']\n",
    "modelB_lgbm_test = pd.read_csv('modelB_lgbm_data.csv')['modelB_lgbm_test']\n",
    "modelC_cat_train = pd.read_csv('modelC_cat_data.csv')['modelC_cat_train']\n",
    "modelC_cat_test = pd.read_csv('modelC_cat_data.csv')['modelC_cat_test']\n",
    "modelC_lgbm_train = pd.read_csv('modelC_lgbm_data.csv')['modelC_lgbm_train']\n",
    "modelC_lgbm_test = pd.read_csv('modelC_lgbm_data.csv')['modelC_lgbm_test']\n",
    "modelC_ridge_train = pd.read_csv('modelC_ridge_data.csv')['modelC_ridge_train']\n",
    "modelC_ridge_test = pd.read_csv('modelC_ridge_data.csv')['modelC_ridge_test']\n",
    "modelD_cat_train = pd.read_csv('modelD_cat_data.csv')['modelD_cat_train']\n",
    "modelD_cat_test = pd.read_csv('modelD_cat_data.csv')['modelD_cat_test']\n",
    "modelD_lgbm_train = pd.read_csv('modelD_lgbm_data.csv')['modelD_lgbm_train']\n",
    "modelD_lgbm_test = pd.read_csv('modelD_lgbm_data.csv')['modelD_lgbm_test']\n",
    "modelE_cat_train = pd.read_csv('modelE_cat_data.csv')['modelE_cat_train']\n",
    "modelE_cat_test = pd.read_csv('modelE_cat_data.csv')['modelE_cat_test']\n",
    "modelE_lgbm_train = pd.read_csv('modelE_lgbm_data.csv')['modelE_lgbm_train']\n",
    "modelE_lgbm_test = pd.read_csv('modelE_lgbm_data.csv')['modelE_lgbm_test']\n",
    "y_train = pd.read_csv('y_train.csv', encoding='cp949').Salary\n",
    "test_id = pd.read_csv('X_test.csv', encoding='cp949')['ID']"
   ]
  },
  {
   "cell_type": "markdown",
   "id": "31ea986b",
   "metadata": {
    "papermill": {
     "duration": 0.0,
     "end_time": "2022-11-25T03:40:40.127229",
     "exception": false,
     "start_time": "2022-11-25T03:40:40.127229",
     "status": "completed"
    },
    "tags": []
   },
   "source": [
    "- ver1"
   ]
  },
  {
   "cell_type": "code",
   "execution_count": 4,
   "id": "a1dddb43",
   "metadata": {
    "execution": {
     "iopub.execute_input": "2022-11-25T03:40:40.181743Z",
     "iopub.status.busy": "2022-11-25T03:40:40.180747Z",
     "iopub.status.idle": "2022-11-25T03:40:40.192714Z",
     "shell.execute_reply": "2022-11-25T03:40:40.193712Z"
    },
    "papermill": {
     "duration": 0.037899,
     "end_time": "2022-11-25T03:40:40.193712",
     "exception": false,
     "start_time": "2022-11-25T03:40:40.155813",
     "status": "completed"
    },
    "tags": []
   },
   "outputs": [],
   "source": [
    "X_train  = pd.concat([modelA_cat_train,modelA_lgbm_train,modelB_cat_train,modelB_lgbm_train\n",
    "                      ,modelC_cat_train,modelC_lgbm_train,modelD_cat_train,modelD_lgbm_train],axis=1)\n",
    "X_test  = pd.concat([modelA_cat_test,modelA_lgbm_test,modelB_cat_test,modelB_lgbm_test\n",
    "                      ,modelC_cat_test,modelC_lgbm_test,modelD_cat_test,modelD_lgbm_test],axis=1).dropna()"
   ]
  },
  {
   "cell_type": "code",
   "execution_count": 5,
   "id": "5f9d169d",
   "metadata": {
    "execution": {
     "iopub.execute_input": "2022-11-25T03:40:40.219355Z",
     "iopub.status.busy": "2022-11-25T03:40:40.219355Z",
     "iopub.status.idle": "2022-11-25T03:40:40.234978Z",
     "shell.execute_reply": "2022-11-25T03:40:40.234978Z"
    },
    "papermill": {
     "duration": 0.031245,
     "end_time": "2022-11-25T03:40:40.234978",
     "exception": false,
     "start_time": "2022-11-25T03:40:40.203733",
     "status": "completed"
    },
    "tags": []
   },
   "outputs": [],
   "source": [
    "model = Ridge(alpha = 1.0 )"
   ]
  },
  {
   "cell_type": "code",
   "execution_count": 6,
   "id": "eddb7c53",
   "metadata": {
    "execution": {
     "iopub.execute_input": "2022-11-25T03:40:40.270081Z",
     "iopub.status.busy": "2022-11-25T03:40:40.270081Z",
     "iopub.status.idle": "2022-11-25T03:40:40.368618Z",
     "shell.execute_reply": "2022-11-25T03:40:40.368618Z"
    },
    "papermill": {
     "duration": 0.13364,
     "end_time": "2022-11-25T03:40:40.368618",
     "exception": false,
     "start_time": "2022-11-25T03:40:40.234978",
     "status": "completed"
    },
    "tags": []
   },
   "outputs": [
    {
     "name": "stdout",
     "output_type": "stream",
     "text": [
      "\n",
      "Tuned LM CV scores:  [729.1199429  729.5460742  788.27680914 846.60710761 893.78305978]\n",
      "Tuned LM CV mean = 800.10 with std = 323.60\n"
     ]
    }
   ],
   "source": [
    "from sklearn.model_selection import ShuffleSplit\n",
    "#sscv = ShuffleSplit(test_size=0.3334, n_splits=5,random_state=12)\n",
    "# OOF Prediction\n",
    "models = cross_validate(model,\n",
    "                        X_train, y_train,\n",
    "                        cv=NFOLDS,\n",
    "                        scoring='neg_mean_squared_error',\n",
    "                        return_estimator=True)\n",
    "oof_pred = np.array([m.predict(X_test) for m in models['estimator']]).mean(axis=0)\n",
    "\n",
    "scores = models['test_score']\n",
    "print(\"\\nTuned LM CV scores: \", np.sqrt(-1*scores))\n",
    "print(\"Tuned LM CV mean = %.2f\" % np.sqrt(-1*scores.mean()), \"with std = %.2f\" % np.sqrt(scores.std()))"
   ]
  },
  {
   "cell_type": "code",
   "execution_count": 7,
   "id": "22ca9078",
   "metadata": {
    "execution": {
     "iopub.execute_input": "2022-11-25T03:40:40.415483Z",
     "iopub.status.busy": "2022-11-25T03:40:40.399861Z",
     "iopub.status.idle": "2022-11-25T03:40:40.493588Z",
     "shell.execute_reply": "2022-11-25T03:40:40.493588Z"
    },
    "papermill": {
     "duration": 0.109348,
     "end_time": "2022-11-25T03:40:40.493588",
     "exception": false,
     "start_time": "2022-11-25T03:40:40.384240",
     "status": "completed"
    },
    "tags": []
   },
   "outputs": [],
   "source": [
    "# submission 화일 생성\n",
    "LM_VERSION = VERSION\n",
    "\n",
    "filename = f'LM_{LM_VERSION}_{np.sqrt(-1*scores.mean()):.2f}_{np.sqrt(scores.std()):.2f}.csv'\n",
    "pd.DataFrame({'ID':test_id, 'Salary':oof_pred}).to_csv(filename, index=False)"
   ]
  }
 ],
 "metadata": {
  "kernelspec": {
   "display_name": "Python 3 (ipykernel)",
   "language": "python",
   "name": "python3"
  },
  "language_info": {
   "codemirror_mode": {
    "name": "ipython",
    "version": 3
   },
   "file_extension": ".py",
   "mimetype": "text/x-python",
   "name": "python",
   "nbconvert_exporter": "python",
   "pygments_lexer": "ipython3",
   "version": "3.9.7"
  },
  "papermill": {
   "default_parameters": {},
   "duration": 11.231257,
   "end_time": "2022-11-25T03:40:41.683459",
   "environment_variables": {},
   "exception": null,
   "input_path": "STACKING.ipynb",
   "output_path": "stacking_file_final08.ipynb",
   "parameters": {
    "NFOLDS": 5,
    "SEED": 9225,
    "VERSION": "9.08"
   },
   "start_time": "2022-11-25T03:40:30.452202",
   "version": "2.4.0"
  }
 },
 "nbformat": 4,
 "nbformat_minor": 5
}