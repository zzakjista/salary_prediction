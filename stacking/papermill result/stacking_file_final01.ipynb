{
 "cells": [
  {
   "cell_type": "code",
   "execution_count": 1,
   "id": "e44e4b6b",
   "metadata": {
    "execution": {
     "iopub.execute_input": "2022-11-25T03:39:15.422249Z",
     "iopub.status.busy": "2022-11-25T03:39:15.422249Z",
     "iopub.status.idle": "2022-11-25T03:39:15.437908Z",
     "shell.execute_reply": "2022-11-25T03:39:15.437908Z"
    },
    "papermill": {
     "duration": 0.031245,
     "end_time": "2022-11-25T03:39:15.437908",
     "exception": false,
     "start_time": "2022-11-25T03:39:15.406663",
     "status": "completed"
    },
    "tags": [
     "injected-parameters"
    ]
   },
   "outputs": [],
   "source": [
    "# Parameters\n",
    "VERSION = \"9.01\"\n",
    "NFOLDS = 7\n",
    "SEED = 4402\n"
   ]
  },
  {
   "cell_type": "code",
   "execution_count": 2,
   "id": "aa51720f",
   "metadata": {
    "execution": {
     "iopub.execute_input": "2022-11-25T03:39:15.468763Z",
     "iopub.status.busy": "2022-11-25T03:39:15.467767Z",
     "iopub.status.idle": "2022-11-25T03:39:20.571785Z",
     "shell.execute_reply": "2022-11-25T03:39:20.572782Z"
    },
    "papermill": {
     "duration": 5.135872,
     "end_time": "2022-11-25T03:39:20.573780",
     "exception": false,
     "start_time": "2022-11-25T03:39:15.437908",
     "status": "completed"
    },
    "tags": []
   },
   "outputs": [],
   "source": [
    "run -i import_file.py"
   ]
  },
  {
   "cell_type": "code",
   "execution_count": 3,
   "id": "0158828e",
   "metadata": {
    "execution": {
     "iopub.execute_input": "2022-11-25T03:39:20.622385Z",
     "iopub.status.busy": "2022-11-25T03:39:20.614407Z",
     "iopub.status.idle": "2022-11-25T03:39:21.321664Z",
     "shell.execute_reply": "2022-11-25T03:39:21.321664Z"
    },
    "papermill": {
     "duration": 0.741642,
     "end_time": "2022-11-25T03:39:21.321664",
     "exception": false,
     "start_time": "2022-11-25T03:39:20.580022",
     "status": "completed"
    },
    "tags": []
   },
   "outputs": [],
   "source": [
    "modelA_cat_train = pd.read_csv('modelA_cat_data.csv')['modelA_train']\n",
    "modelA_cat_test = pd.read_csv('modelA_cat_data.csv')['modelA_test']\n",
    "modelA_lgbm_train = pd.read_csv('modelA_lgbm_data.csv')['modelA_lgbm_train']\n",
    "modelA_lgbm_test = pd.read_csv('modelA_lgbm_data.csv')['modelA_lgbm_test']\n",
    "modelB_cat_train = pd.read_csv('modelB_cat_data.csv')['modelB_train']\n",
    "modelB_cat_test = pd.read_csv('modelB_cat_data.csv')['modelB_test']\n",
    "modelB_lgbm_train = pd.read_csv('modelB_lgbm_data.csv')['modelB_lgbm_train']\n",
    "modelB_lgbm_test = pd.read_csv('modelB_lgbm_data.csv')['modelB_lgbm_test']\n",
    "modelC_cat_train = pd.read_csv('modelC_cat_data.csv')['modelC_cat_train']\n",
    "modelC_cat_test = pd.read_csv('modelC_cat_data.csv')['modelC_cat_test']\n",
    "modelC_lgbm_train = pd.read_csv('modelC_lgbm_data.csv')['modelC_lgbm_train']\n",
    "modelC_lgbm_test = pd.read_csv('modelC_lgbm_data.csv')['modelC_lgbm_test']\n",
    "modelC_ridge_train = pd.read_csv('modelC_ridge_data.csv')['modelC_ridge_train']\n",
    "modelC_ridge_test = pd.read_csv('modelC_ridge_data.csv')['modelC_ridge_test']\n",
    "modelD_cat_train = pd.read_csv('modelD_cat_data.csv')['modelD_cat_train']\n",
    "modelD_cat_test = pd.read_csv('modelD_cat_data.csv')['modelD_cat_test']\n",
    "modelD_lgbm_train = pd.read_csv('modelD_lgbm_data.csv')['modelD_lgbm_train']\n",
    "modelD_lgbm_test = pd.read_csv('modelD_lgbm_data.csv')['modelD_lgbm_test']\n",
    "modelE_cat_train = pd.read_csv('modelE_cat_data.csv')['modelE_cat_train']\n",
    "modelE_cat_test = pd.read_csv('modelE_cat_data.csv')['modelE_cat_test']\n",
    "modelE_lgbm_train = pd.read_csv('modelE_lgbm_data.csv')['modelE_lgbm_train']\n",
    "modelE_lgbm_test = pd.read_csv('modelE_lgbm_data.csv')['modelE_lgbm_test']\n",
    "y_train = pd.read_csv('y_train.csv', encoding='cp949').Salary\n",
    "test_id = pd.read_csv('X_test.csv', encoding='cp949')['ID']"
   ]
  },
  {
   "cell_type": "markdown",
   "id": "31ea986b",
   "metadata": {
    "papermill": {
     "duration": 0.015619,
     "end_time": "2022-11-25T03:39:21.352906",
     "exception": false,
     "start_time": "2022-11-25T03:39:21.337287",
     "status": "completed"
    },
    "tags": []
   },
   "source": [
    "- ver1"
   ]
  },
  {
   "cell_type": "code",
   "execution_count": 4,
   "id": "a1dddb43",
   "metadata": {
    "execution": {
     "iopub.execute_input": "2022-11-25T03:39:21.402856Z",
     "iopub.status.busy": "2022-11-25T03:39:21.400860Z",
     "iopub.status.idle": "2022-11-25T03:39:21.420807Z",
     "shell.execute_reply": "2022-11-25T03:39:21.419810Z"
    },
    "papermill": {
     "duration": 0.048869,
     "end_time": "2022-11-25T03:39:21.421804",
     "exception": false,
     "start_time": "2022-11-25T03:39:21.372935",
     "status": "completed"
    },
    "tags": []
   },
   "outputs": [],
   "source": [
    "X_train  = pd.concat([modelA_cat_train,modelA_lgbm_train,modelB_cat_train,modelB_lgbm_train\n",
    "                      ,modelC_cat_train,modelC_lgbm_train,modelD_cat_train,modelD_lgbm_train],axis=1)\n",
    "X_test  = pd.concat([modelA_cat_test,modelA_lgbm_test,modelB_cat_test,modelB_lgbm_test\n",
    "                      ,modelC_cat_test,modelC_lgbm_test,modelD_cat_test,modelD_lgbm_test],axis=1).dropna()"
   ]
  },
  {
   "cell_type": "code",
   "execution_count": 5,
   "id": "5f9d169d",
   "metadata": {
    "execution": {
     "iopub.execute_input": "2022-11-25T03:39:21.457708Z",
     "iopub.status.busy": "2022-11-25T03:39:21.456712Z",
     "iopub.status.idle": "2022-11-25T03:39:21.461992Z",
     "shell.execute_reply": "2022-11-25T03:39:21.461992Z"
    },
    "papermill": {
     "duration": 0.027224,
     "end_time": "2022-11-25T03:39:21.461992",
     "exception": false,
     "start_time": "2022-11-25T03:39:21.434768",
     "status": "completed"
    },
    "tags": []
   },
   "outputs": [],
   "source": [
    "model = Ridge(alpha = 1.0 )"
   ]
  },
  {
   "cell_type": "code",
   "execution_count": 6,
   "id": "eddb7c53",
   "metadata": {
    "execution": {
     "iopub.execute_input": "2022-11-25T03:39:21.517551Z",
     "iopub.status.busy": "2022-11-25T03:39:21.515556Z",
     "iopub.status.idle": "2022-11-25T03:39:21.655478Z",
     "shell.execute_reply": "2022-11-25T03:39:21.655478Z"
    },
    "papermill": {
     "duration": 0.177864,
     "end_time": "2022-11-25T03:39:21.655478",
     "exception": false,
     "start_time": "2022-11-25T03:39:21.477614",
     "status": "completed"
    },
    "tags": []
   },
   "outputs": [
    {
     "name": "stdout",
     "output_type": "stream",
     "text": [
      "\n",
      "Tuned LM CV scores:  [732.48182435 726.5004521  749.11642281 784.44395815 795.89756542\n",
      " 878.55949278 914.94407329]\n",
      "Tuned LM CV mean = 800.29 with std = 333.32\n"
     ]
    }
   ],
   "source": [
    "from sklearn.model_selection import ShuffleSplit\n",
    "#sscv = ShuffleSplit(test_size=0.3334, n_splits=5,random_state=12)\n",
    "# OOF Prediction\n",
    "models = cross_validate(model,\n",
    "                        X_train, y_train,\n",
    "                        cv=NFOLDS,\n",
    "                        scoring='neg_mean_squared_error',\n",
    "                        return_estimator=True)\n",
    "oof_pred = np.array([m.predict(X_test) for m in models['estimator']]).mean(axis=0)\n",
    "\n",
    "scores = models['test_score']\n",
    "print(\"\\nTuned LM CV scores: \", np.sqrt(-1*scores))\n",
    "print(\"Tuned LM CV mean = %.2f\" % np.sqrt(-1*scores.mean()), \"with std = %.2f\" % np.sqrt(scores.std()))"
   ]
  },
  {
   "cell_type": "code",
   "execution_count": 7,
   "id": "22ca9078",
   "metadata": {
    "execution": {
     "iopub.execute_input": "2022-11-25T03:39:21.711556Z",
     "iopub.status.busy": "2022-11-25T03:39:21.709558Z",
     "iopub.status.idle": "2022-11-25T03:39:21.793716Z",
     "shell.execute_reply": "2022-11-25T03:39:21.793716Z"
    },
    "papermill": {
     "duration": 0.122605,
     "end_time": "2022-11-25T03:39:21.793716",
     "exception": false,
     "start_time": "2022-11-25T03:39:21.671111",
     "status": "completed"
    },
    "tags": []
   },
   "outputs": [],
   "source": [
    "# submission 화일 생성\n",
    "LM_VERSION = VERSION\n",
    "\n",
    "filename = f'LM_{LM_VERSION}_{np.sqrt(-1*scores.mean()):.2f}_{np.sqrt(scores.std()):.2f}.csv'\n",
    "pd.DataFrame({'ID':test_id, 'Salary':oof_pred}).to_csv(filename, index=False)"
   ]
  }
 ],
 "metadata": {
  "kernelspec": {
   "display_name": "Python 3 (ipykernel)",
   "language": "python",
   "name": "python3"
  },
  "language_info": {
   "codemirror_mode": {
    "name": "ipython",
    "version": 3
   },
   "file_extension": ".py",
   "mimetype": "text/x-python",
   "name": "python",
   "nbconvert_exporter": "python",
   "pygments_lexer": "ipython3",
   "version": "3.9.7"
  },
  "papermill": {
   "default_parameters": {},
   "duration": 10.062422,
   "end_time": "2022-11-25T03:39:22.471968",
   "environment_variables": {},
   "exception": null,
   "input_path": "STACKING.ipynb",
   "output_path": "stacking_file_final01.ipynb",
   "parameters": {
    "NFOLDS": 7,
    "SEED": 4402,
    "VERSION": "9.01"
   },
   "start_time": "2022-11-25T03:39:12.409546",
   "version": "2.4.0"
  }
 },
 "nbformat": 4,
 "nbformat_minor": 5
}