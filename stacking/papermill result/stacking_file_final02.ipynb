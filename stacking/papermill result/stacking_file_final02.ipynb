{
 "cells": [
  {
   "cell_type": "code",
   "execution_count": 1,
   "id": "b11da7fd",
   "metadata": {
    "execution": {
     "iopub.execute_input": "2022-11-25T03:39:26.131098Z",
     "iopub.status.busy": "2022-11-25T03:39:26.115476Z",
     "iopub.status.idle": "2022-11-25T03:39:26.146720Z",
     "shell.execute_reply": "2022-11-25T03:39:26.146720Z"
    },
    "papermill": {
     "duration": 0.046866,
     "end_time": "2022-11-25T03:39:26.146720",
     "exception": false,
     "start_time": "2022-11-25T03:39:26.099854",
     "status": "completed"
    },
    "tags": [
     "injected-parameters"
    ]
   },
   "outputs": [],
   "source": [
    "# Parameters\n",
    "VERSION = \"9.02\"\n",
    "NFOLDS = 6\n",
    "SEED = 8186\n"
   ]
  },
  {
   "cell_type": "code",
   "execution_count": 2,
   "id": "aa51720f",
   "metadata": {
    "execution": {
     "iopub.execute_input": "2022-11-25T03:39:26.186975Z",
     "iopub.status.busy": "2022-11-25T03:39:26.184983Z",
     "iopub.status.idle": "2022-11-25T03:39:31.549696Z",
     "shell.execute_reply": "2022-11-25T03:39:31.549696Z"
    },
    "papermill": {
     "duration": 5.387356,
     "end_time": "2022-11-25T03:39:31.549696",
     "exception": false,
     "start_time": "2022-11-25T03:39:26.162340",
     "status": "completed"
    },
    "tags": []
   },
   "outputs": [],
   "source": [
    "run -i import_file.py"
   ]
  },
  {
   "cell_type": "code",
   "execution_count": 3,
   "id": "0158828e",
   "metadata": {
    "execution": {
     "iopub.execute_input": "2022-11-25T03:39:31.608074Z",
     "iopub.status.busy": "2022-11-25T03:39:31.607076Z",
     "iopub.status.idle": "2022-11-25T03:39:32.176530Z",
     "shell.execute_reply": "2022-11-25T03:39:32.176530Z"
    },
    "papermill": {
     "duration": 0.611213,
     "end_time": "2022-11-25T03:39:32.176530",
     "exception": false,
     "start_time": "2022-11-25T03:39:31.565317",
     "status": "completed"
    },
    "tags": []
   },
   "outputs": [],
   "source": [
    "modelA_cat_train = pd.read_csv('modelA_cat_data.csv')['modelA_train']\n",
    "modelA_cat_test = pd.read_csv('modelA_cat_data.csv')['modelA_test']\n",
    "modelA_lgbm_train = pd.read_csv('modelA_lgbm_data.csv')['modelA_lgbm_train']\n",
    "modelA_lgbm_test = pd.read_csv('modelA_lgbm_data.csv')['modelA_lgbm_test']\n",
    "modelB_cat_train = pd.read_csv('modelB_cat_data.csv')['modelB_train']\n",
    "modelB_cat_test = pd.read_csv('modelB_cat_data.csv')['modelB_test']\n",
    "modelB_lgbm_train = pd.read_csv('modelB_lgbm_data.csv')['modelB_lgbm_train']\n",
    "modelB_lgbm_test = pd.read_csv('modelB_lgbm_data.csv')['modelB_lgbm_test']\n",
    "modelC_cat_train = pd.read_csv('modelC_cat_data.csv')['modelC_cat_train']\n",
    "modelC_cat_test = pd.read_csv('modelC_cat_data.csv')['modelC_cat_test']\n",
    "modelC_lgbm_train = pd.read_csv('modelC_lgbm_data.csv')['modelC_lgbm_train']\n",
    "modelC_lgbm_test = pd.read_csv('modelC_lgbm_data.csv')['modelC_lgbm_test']\n",
    "modelC_ridge_train = pd.read_csv('modelC_ridge_data.csv')['modelC_ridge_train']\n",
    "modelC_ridge_test = pd.read_csv('modelC_ridge_data.csv')['modelC_ridge_test']\n",
    "modelD_cat_train = pd.read_csv('modelD_cat_data.csv')['modelD_cat_train']\n",
    "modelD_cat_test = pd.read_csv('modelD_cat_data.csv')['modelD_cat_test']\n",
    "modelD_lgbm_train = pd.read_csv('modelD_lgbm_data.csv')['modelD_lgbm_train']\n",
    "modelD_lgbm_test = pd.read_csv('modelD_lgbm_data.csv')['modelD_lgbm_test']\n",
    "modelE_cat_train = pd.read_csv('modelE_cat_data.csv')['modelE_cat_train']\n",
    "modelE_cat_test = pd.read_csv('modelE_cat_data.csv')['modelE_cat_test']\n",
    "modelE_lgbm_train = pd.read_csv('modelE_lgbm_data.csv')['modelE_lgbm_train']\n",
    "modelE_lgbm_test = pd.read_csv('modelE_lgbm_data.csv')['modelE_lgbm_test']\n",
    "y_train = pd.read_csv('y_train.csv', encoding='cp949').Salary\n",
    "test_id = pd.read_csv('X_test.csv', encoding='cp949')['ID']"
   ]
  },
  {
   "cell_type": "markdown",
   "id": "31ea986b",
   "metadata": {
    "papermill": {
     "duration": 0.015622,
     "end_time": "2022-11-25T03:39:32.207773",
     "exception": false,
     "start_time": "2022-11-25T03:39:32.192151",
     "status": "completed"
    },
    "tags": []
   },
   "source": [
    "- ver1"
   ]
  },
  {
   "cell_type": "code",
   "execution_count": 4,
   "id": "a1dddb43",
   "metadata": {
    "execution": {
     "iopub.execute_input": "2022-11-25T03:39:32.250144Z",
     "iopub.status.busy": "2022-11-25T03:39:32.248150Z",
     "iopub.status.idle": "2022-11-25T03:39:32.272088Z",
     "shell.execute_reply": "2022-11-25T03:39:32.272088Z"
    },
    "papermill": {
     "duration": 0.042887,
     "end_time": "2022-11-25T03:39:32.273085",
     "exception": false,
     "start_time": "2022-11-25T03:39:32.230198",
     "status": "completed"
    },
    "tags": []
   },
   "outputs": [],
   "source": [
    "X_train  = pd.concat([modelA_cat_train,modelA_lgbm_train,modelB_cat_train,modelB_lgbm_train\n",
    "                      ,modelC_cat_train,modelC_lgbm_train,modelD_cat_train,modelD_lgbm_train],axis=1)\n",
    "X_test  = pd.concat([modelA_cat_test,modelA_lgbm_test,modelB_cat_test,modelB_lgbm_test\n",
    "                      ,modelC_cat_test,modelC_lgbm_test,modelD_cat_test,modelD_lgbm_test],axis=1).dropna()"
   ]
  },
  {
   "cell_type": "code",
   "execution_count": 5,
   "id": "5f9d169d",
   "metadata": {
    "execution": {
     "iopub.execute_input": "2022-11-25T03:39:32.294738Z",
     "iopub.status.busy": "2022-11-25T03:39:32.294738Z",
     "iopub.status.idle": "2022-11-25T03:39:32.310361Z",
     "shell.execute_reply": "2022-11-25T03:39:32.310361Z"
    },
    "papermill": {
     "duration": 0.031245,
     "end_time": "2022-11-25T03:39:32.310361",
     "exception": false,
     "start_time": "2022-11-25T03:39:32.279116",
     "status": "completed"
    },
    "tags": []
   },
   "outputs": [],
   "source": [
    "model = Ridge(alpha = 1.0 )"
   ]
  },
  {
   "cell_type": "code",
   "execution_count": 6,
   "id": "eddb7c53",
   "metadata": {
    "execution": {
     "iopub.execute_input": "2022-11-25T03:39:32.359708Z",
     "iopub.status.busy": "2022-11-25T03:39:32.357713Z",
     "iopub.status.idle": "2022-11-25T03:39:32.474107Z",
     "shell.execute_reply": "2022-11-25T03:39:32.474107Z"
    },
    "papermill": {
     "duration": 0.148124,
     "end_time": "2022-11-25T03:39:32.474107",
     "exception": false,
     "start_time": "2022-11-25T03:39:32.325983",
     "status": "completed"
    },
    "tags": []
   },
   "outputs": [
    {
     "name": "stdout",
     "output_type": "stream",
     "text": [
      "\n",
      "Tuned LM CV scores:  [740.66912686 725.09874575 758.62384107 779.30720906 879.36653434\n",
      " 900.84344866]\n",
      "Tuned LM CV mean = 800.21 with std = 333.04\n"
     ]
    }
   ],
   "source": [
    "from sklearn.model_selection import ShuffleSplit\n",
    "#sscv = ShuffleSplit(test_size=0.3334, n_splits=5,random_state=12)\n",
    "# OOF Prediction\n",
    "models = cross_validate(model,\n",
    "                        X_train, y_train,\n",
    "                        cv=NFOLDS,\n",
    "                        scoring='neg_mean_squared_error',\n",
    "                        return_estimator=True)\n",
    "oof_pred = np.array([m.predict(X_test) for m in models['estimator']]).mean(axis=0)\n",
    "\n",
    "scores = models['test_score']\n",
    "print(\"\\nTuned LM CV scores: \", np.sqrt(-1*scores))\n",
    "print(\"Tuned LM CV mean = %.2f\" % np.sqrt(-1*scores.mean()), \"with std = %.2f\" % np.sqrt(scores.std()))"
   ]
  },
  {
   "cell_type": "code",
   "execution_count": 7,
   "id": "22ca9078",
   "metadata": {
    "execution": {
     "iopub.execute_input": "2022-11-25T03:39:32.524596Z",
     "iopub.status.busy": "2022-11-25T03:39:32.522600Z",
     "iopub.status.idle": "2022-11-25T03:39:32.609745Z",
     "shell.execute_reply": "2022-11-25T03:39:32.609745Z"
    },
    "papermill": {
     "duration": 0.120018,
     "end_time": "2022-11-25T03:39:32.609745",
     "exception": false,
     "start_time": "2022-11-25T03:39:32.489727",
     "status": "completed"
    },
    "tags": []
   },
   "outputs": [],
   "source": [
    "# submission 화일 생성\n",
    "LM_VERSION = VERSION\n",
    "\n",
    "filename = f'LM_{LM_VERSION}_{np.sqrt(-1*scores.mean()):.2f}_{np.sqrt(scores.std()):.2f}.csv'\n",
    "pd.DataFrame({'ID':test_id, 'Salary':oof_pred}).to_csv(filename, index=False)"
   ]
  }
 ],
 "metadata": {
  "kernelspec": {
   "display_name": "Python 3 (ipykernel)",
   "language": "python",
   "name": "python3"
  },
  "language_info": {
   "codemirror_mode": {
    "name": "ipython",
    "version": 3
   },
   "file_extension": ".py",
   "mimetype": "text/x-python",
   "name": "python",
   "nbconvert_exporter": "python",
   "pygments_lexer": "ipython3",
   "version": "3.9.7"
  },
  "papermill": {
   "default_parameters": {},
   "duration": 11.205741,
   "end_time": "2022-11-25T03:39:33.774158",
   "environment_variables": {},
   "exception": null,
   "input_path": "STACKING.ipynb",
   "output_path": "stacking_file_final02.ipynb",
   "parameters": {
    "NFOLDS": 6,
    "SEED": 8186,
    "VERSION": "9.02"
   },
   "start_time": "2022-11-25T03:39:22.568417",
   "version": "2.4.0"
  }
 },
 "nbformat": 4,
 "nbformat_minor": 5
}