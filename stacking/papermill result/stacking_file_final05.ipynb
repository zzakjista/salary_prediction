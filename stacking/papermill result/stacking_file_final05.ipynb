{
 "cells": [
  {
   "cell_type": "code",
   "execution_count": 1,
   "id": "9e02ab2e",
   "metadata": {
    "execution": {
     "iopub.execute_input": "2022-11-25T03:39:59.733571Z",
     "iopub.status.busy": "2022-11-25T03:39:59.717950Z",
     "iopub.status.idle": "2022-11-25T03:39:59.733571Z",
     "shell.execute_reply": "2022-11-25T03:39:59.733571Z"
    },
    "papermill": {
     "duration": 0.03124,
     "end_time": "2022-11-25T03:39:59.733571",
     "exception": false,
     "start_time": "2022-11-25T03:39:59.702331",
     "status": "completed"
    },
    "tags": [
     "injected-parameters"
    ]
   },
   "outputs": [],
   "source": [
    "# Parameters\n",
    "VERSION = \"9.05\"\n",
    "NFOLDS = 6\n",
    "SEED = 2624\n"
   ]
  },
  {
   "cell_type": "code",
   "execution_count": 2,
   "id": "aa51720f",
   "metadata": {
    "execution": {
     "iopub.execute_input": "2022-11-25T03:39:59.774510Z",
     "iopub.status.busy": "2022-11-25T03:39:59.773513Z",
     "iopub.status.idle": "2022-11-25T03:40:05.188103Z",
     "shell.execute_reply": "2022-11-25T03:40:05.188103Z"
    },
    "papermill": {
     "duration": 5.438911,
     "end_time": "2022-11-25T03:40:05.188103",
     "exception": false,
     "start_time": "2022-11-25T03:39:59.749192",
     "status": "completed"
    },
    "tags": []
   },
   "outputs": [],
   "source": [
    "run -i import_file.py"
   ]
  },
  {
   "cell_type": "code",
   "execution_count": 3,
   "id": "0158828e",
   "metadata": {
    "execution": {
     "iopub.execute_input": "2022-11-25T03:40:05.242628Z",
     "iopub.status.busy": "2022-11-25T03:40:05.242628Z",
     "iopub.status.idle": "2022-11-25T03:40:05.903798Z",
     "shell.execute_reply": "2022-11-25T03:40:05.903798Z"
    },
    "papermill": {
     "duration": 0.700074,
     "end_time": "2022-11-25T03:40:05.903798",
     "exception": false,
     "start_time": "2022-11-25T03:40:05.203724",
     "status": "completed"
    },
    "tags": []
   },
   "outputs": [],
   "source": [
    "modelA_cat_train = pd.read_csv('modelA_cat_data.csv')['modelA_train']\n",
    "modelA_cat_test = pd.read_csv('modelA_cat_data.csv')['modelA_test']\n",
    "modelA_lgbm_train = pd.read_csv('modelA_lgbm_data.csv')['modelA_lgbm_train']\n",
    "modelA_lgbm_test = pd.read_csv('modelA_lgbm_data.csv')['modelA_lgbm_test']\n",
    "modelB_cat_train = pd.read_csv('modelB_cat_data.csv')['modelB_train']\n",
    "modelB_cat_test = pd.read_csv('modelB_cat_data.csv')['modelB_test']\n",
    "modelB_lgbm_train = pd.read_csv('modelB_lgbm_data.csv')['modelB_lgbm_train']\n",
    "modelB_lgbm_test = pd.read_csv('modelB_lgbm_data.csv')['modelB_lgbm_test']\n",
    "modelC_cat_train = pd.read_csv('modelC_cat_data.csv')['modelC_cat_train']\n",
    "modelC_cat_test = pd.read_csv('modelC_cat_data.csv')['modelC_cat_test']\n",
    "modelC_lgbm_train = pd.read_csv('modelC_lgbm_data.csv')['modelC_lgbm_train']\n",
    "modelC_lgbm_test = pd.read_csv('modelC_lgbm_data.csv')['modelC_lgbm_test']\n",
    "modelC_ridge_train = pd.read_csv('modelC_ridge_data.csv')['modelC_ridge_train']\n",
    "modelC_ridge_test = pd.read_csv('modelC_ridge_data.csv')['modelC_ridge_test']\n",
    "modelD_cat_train = pd.read_csv('modelD_cat_data.csv')['modelD_cat_train']\n",
    "modelD_cat_test = pd.read_csv('modelD_cat_data.csv')['modelD_cat_test']\n",
    "modelD_lgbm_train = pd.read_csv('modelD_lgbm_data.csv')['modelD_lgbm_train']\n",
    "modelD_lgbm_test = pd.read_csv('modelD_lgbm_data.csv')['modelD_lgbm_test']\n",
    "modelE_cat_train = pd.read_csv('modelE_cat_data.csv')['modelE_cat_train']\n",
    "modelE_cat_test = pd.read_csv('modelE_cat_data.csv')['modelE_cat_test']\n",
    "modelE_lgbm_train = pd.read_csv('modelE_lgbm_data.csv')['modelE_lgbm_train']\n",
    "modelE_lgbm_test = pd.read_csv('modelE_lgbm_data.csv')['modelE_lgbm_test']\n",
    "y_train = pd.read_csv('y_train.csv', encoding='cp949').Salary\n",
    "test_id = pd.read_csv('X_test.csv', encoding='cp949')['ID']"
   ]
  },
  {
   "cell_type": "markdown",
   "id": "31ea986b",
   "metadata": {
    "papermill": {
     "duration": 0.029719,
     "end_time": "2022-11-25T03:40:05.933517",
     "exception": false,
     "start_time": "2022-11-25T03:40:05.903798",
     "status": "completed"
    },
    "tags": []
   },
   "source": [
    "- ver1"
   ]
  },
  {
   "cell_type": "code",
   "execution_count": 4,
   "id": "a1dddb43",
   "metadata": {
    "execution": {
     "iopub.execute_input": "2022-11-25T03:40:05.973409Z",
     "iopub.status.busy": "2022-11-25T03:40:05.972412Z",
     "iopub.status.idle": "2022-11-25T03:40:05.985379Z",
     "shell.execute_reply": "2022-11-25T03:40:05.986375Z"
    },
    "papermill": {
     "duration": 0.038895,
     "end_time": "2022-11-25T03:40:05.986375",
     "exception": false,
     "start_time": "2022-11-25T03:40:05.947480",
     "status": "completed"
    },
    "tags": []
   },
   "outputs": [],
   "source": [
    "X_train  = pd.concat([modelA_cat_train,modelA_lgbm_train,modelB_cat_train,modelB_lgbm_train\n",
    "                      ,modelC_cat_train,modelC_lgbm_train,modelD_cat_train,modelD_lgbm_train],axis=1)\n",
    "X_test  = pd.concat([modelA_cat_test,modelA_lgbm_test,modelB_cat_test,modelB_lgbm_test\n",
    "                      ,modelC_cat_test,modelC_lgbm_test,modelD_cat_test,modelD_lgbm_test],axis=1).dropna()"
   ]
  },
  {
   "cell_type": "code",
   "execution_count": 5,
   "id": "5f9d169d",
   "metadata": {
    "execution": {
     "iopub.execute_input": "2022-11-25T03:40:06.007023Z",
     "iopub.status.busy": "2022-11-25T03:40:06.007023Z",
     "iopub.status.idle": "2022-11-25T03:40:06.022644Z",
     "shell.execute_reply": "2022-11-25T03:40:06.022644Z"
    },
    "papermill": {
     "duration": 0.031243,
     "end_time": "2022-11-25T03:40:06.022644",
     "exception": false,
     "start_time": "2022-11-25T03:40:05.991401",
     "status": "completed"
    },
    "tags": []
   },
   "outputs": [],
   "source": [
    "model = Ridge(alpha = 1.0 )"
   ]
  },
  {
   "cell_type": "code",
   "execution_count": 6,
   "id": "eddb7c53",
   "metadata": {
    "execution": {
     "iopub.execute_input": "2022-11-25T03:40:06.064860Z",
     "iopub.status.busy": "2022-11-25T03:40:06.063863Z",
     "iopub.status.idle": "2022-11-25T03:40:06.171617Z",
     "shell.execute_reply": "2022-11-25T03:40:06.171617Z"
    },
    "papermill": {
     "duration": 0.133351,
     "end_time": "2022-11-25T03:40:06.171617",
     "exception": false,
     "start_time": "2022-11-25T03:40:06.038266",
     "status": "completed"
    },
    "tags": []
   },
   "outputs": [
    {
     "name": "stdout",
     "output_type": "stream",
     "text": [
      "\n",
      "Tuned LM CV scores:  [740.66912686 725.09874575 758.62384107 779.30720906 879.36653434\n",
      " 900.84344866]\n",
      "Tuned LM CV mean = 800.21 with std = 333.04\n"
     ]
    }
   ],
   "source": [
    "from sklearn.model_selection import ShuffleSplit\n",
    "#sscv = ShuffleSplit(test_size=0.3334, n_splits=5,random_state=12)\n",
    "# OOF Prediction\n",
    "models = cross_validate(model,\n",
    "                        X_train, y_train,\n",
    "                        cv=NFOLDS,\n",
    "                        scoring='neg_mean_squared_error',\n",
    "                        return_estimator=True)\n",
    "oof_pred = np.array([m.predict(X_test) for m in models['estimator']]).mean(axis=0)\n",
    "\n",
    "scores = models['test_score']\n",
    "print(\"\\nTuned LM CV scores: \", np.sqrt(-1*scores))\n",
    "print(\"Tuned LM CV mean = %.2f\" % np.sqrt(-1*scores.mean()), \"with std = %.2f\" % np.sqrt(scores.std()))"
   ]
  },
  {
   "cell_type": "code",
   "execution_count": 7,
   "id": "22ca9078",
   "metadata": {
    "execution": {
     "iopub.execute_input": "2022-11-25T03:40:06.222049Z",
     "iopub.status.busy": "2022-11-25T03:40:06.221051Z",
     "iopub.status.idle": "2022-11-25T03:40:06.305203Z",
     "shell.execute_reply": "2022-11-25T03:40:06.305203Z"
    },
    "papermill": {
     "duration": 0.117964,
     "end_time": "2022-11-25T03:40:06.305203",
     "exception": false,
     "start_time": "2022-11-25T03:40:06.187239",
     "status": "completed"
    },
    "tags": []
   },
   "outputs": [],
   "source": [
    "# submission 화일 생성\n",
    "LM_VERSION = VERSION\n",
    "\n",
    "filename = f'LM_{LM_VERSION}_{np.sqrt(-1*scores.mean()):.2f}_{np.sqrt(scores.std()):.2f}.csv'\n",
    "pd.DataFrame({'ID':test_id, 'Salary':oof_pred}).to_csv(filename, index=False)"
   ]
  }
 ],
 "metadata": {
  "kernelspec": {
   "display_name": "Python 3 (ipykernel)",
   "language": "python",
   "name": "python3"
  },
  "language_info": {
   "codemirror_mode": {
    "name": "ipython",
    "version": 3
   },
   "file_extension": ".py",
   "mimetype": "text/x-python",
   "name": "python",
   "nbconvert_exporter": "python",
   "pygments_lexer": "ipython3",
   "version": "3.9.7"
  },
  "papermill": {
   "default_parameters": {},
   "duration": 10.946957,
   "end_time": "2022-11-25T03:40:06.999682",
   "environment_variables": {},
   "exception": null,
   "input_path": "STACKING.ipynb",
   "output_path": "stacking_file_final05.ipynb",
   "parameters": {
    "NFOLDS": 6,
    "SEED": 2624,
    "VERSION": "9.05"
   },
   "start_time": "2022-11-25T03:39:56.052725",
   "version": "2.4.0"
  }
 },
 "nbformat": 4,
 "nbformat_minor": 5
}