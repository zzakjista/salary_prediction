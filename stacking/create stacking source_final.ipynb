{
 "cells": [
  {
   "cell_type": "code",
   "execution_count": 2,
   "id": "be447c51",
   "metadata": {},
   "outputs": [],
   "source": [
    "run -i import_file.py"
   ]
  },
  {
   "cell_type": "markdown",
   "id": "515ad61c",
   "metadata": {},
   "source": [
    "## 준영 BEST 1"
   ]
  },
  {
   "cell_type": "code",
   "execution_count": 4,
   "id": "a98e3f95",
   "metadata": {},
   "outputs": [],
   "source": [
    "X_train  = pd.read_csv('X_train1.csv',encoding='cp949').drop(columns='Unnamed: 0')\n",
    "X_test  = pd.read_csv('X_test1.csv',encoding='cp949').drop(columns='Unnamed: 0')\n",
    "y_train = pd.read_csv('y_train.csv')['Salary']"
   ]
  },
  {
   "cell_type": "markdown",
   "id": "df8e0633",
   "metadata": {},
   "source": [
    "### CATBOOST"
   ]
  },
  {
   "cell_type": "code",
   "execution_count": 6,
   "id": "303f8b88",
   "metadata": {},
   "outputs": [],
   "source": [
    "categorical_features = list(X_train.select_dtypes(include=\"object\").columns)\n",
    "numeric_features = list(X_test.select_dtypes(exclude=\"object\").columns)"
   ]
  },
  {
   "cell_type": "code",
   "execution_count": 7,
   "id": "be902b3a",
   "metadata": {},
   "outputs": [],
   "source": [
    "def get_stacking_data(model, X_train, y_train, X_test, n_folds=5):   \n",
    "  kfold = KFold(n_splits = n_folds,shuffle=True, random_state = 20)\n",
    "  \n",
    "\n",
    "  train_fold_predict = np.zeros((X_train.shape[0],1))\n",
    "\n",
    "  test_predict = np.zeros((X_test.shape[0], n_folds))\n",
    "  print('model : ',model.__class__.__name__)\n",
    "  \n",
    "  for cnt, (train_index, valid_index) in enumerate(kfold.split(X_train)):\n",
    "    X_train_ = X_train.iloc[train_index]\n",
    "    y_train_ = y_train.iloc[train_index]\n",
    "    X_valid = X_train.iloc[valid_index]\n",
    "\n",
    "    # 학습\n",
    "    model.fit(X_train_,y_train_)\n",
    "    # 해당 폴드에서 학습된 모델에다가 검증 데이터 (X_valid)로 예측 후 저장\n",
    "    train_fold_predict[valid_index,:] = model.predict(X_valid).reshape(-1,1)\n",
    "    # 해당 폴드에서 생성된 모델에게 원본 테스트 데이터 (X_test)를 이용해서 예측하고 저장\n",
    "    test_predict[:,cnt] = model.predict(X_test)\n",
    "  \n",
    "  # for 문이 끝나면 test_pred는 평균을 내서 하나로 합친다.\n",
    "  test_predict_mean = np.mean(test_predict, axis=1).reshape(-1,1)\n",
    "  \n",
    "  return train_fold_predict, test_predict_mean"
   ]
  },
  {
   "cell_type": "code",
   "execution_count": 8,
   "id": "c633559d",
   "metadata": {},
   "outputs": [],
   "source": [
    "model = CatBoostRegressor(cat_features=categorical_features, verbose=False ,random_state=0)"
   ]
  },
  {
   "cell_type": "code",
   "execution_count": 9,
   "id": "743ef9ff",
   "metadata": {},
   "outputs": [
    {
     "name": "stdout",
     "output_type": "stream",
     "text": [
      "model :  CatBoostRegressor\n"
     ]
    }
   ],
   "source": [
    "cat_train , cat_test = get_stacking_data(model, X_train, y_train, X_test)"
   ]
  },
  {
   "cell_type": "code",
   "execution_count": 10,
   "id": "884004e1",
   "metadata": {},
   "outputs": [],
   "source": [
    "cat_data = pd.concat([pd.DataFrame(cat_train), pd.DataFrame(cat_test)],axis=1)\n",
    "cat_data.columns = ['modelC_cat_train','modelC_cat_test']\n",
    "cat_data.to_csv('modelC_cat_data.csv')"
   ]
  },
  {
   "cell_type": "markdown",
   "id": "7751c619",
   "metadata": {},
   "source": [
    "### LGBM"
   ]
  },
  {
   "cell_type": "code",
   "execution_count": 11,
   "id": "86aed76f",
   "metadata": {},
   "outputs": [],
   "source": [
    "def get_stacking_data(model, X_train, y_train, X_test, n_folds=5):    \n",
    "  kfold = KFold(n_splits = n_folds,shuffle=True, random_state = 1004)\n",
    "  \n",
    "\n",
    "  train_fold_predict = np.zeros((X_train.shape[0],1))\n",
    "\n",
    "  test_predict = np.zeros((X_test.shape[0], n_folds))\n",
    "  print('model : ',model.__class__.__name__)\n",
    "  \n",
    "  for cnt, (train_index, valid_index) in enumerate(kfold.split(X_train)):\n",
    "    X_train_ = X_train.iloc[train_index]\n",
    "    y_train_ = y_train.iloc[train_index]\n",
    "    X_valid = X_train.iloc[valid_index]\n",
    "\n",
    "    # 학습\n",
    "    model.fit(X_train_,y_train_)\n",
    "    # 해당 폴드에서 학습된 모델에다가 검증 데이터 (X_valid)로 예측 후 저장\n",
    "    train_fold_predict[valid_index,:] = model.predict(X_valid).reshape(-1,1)\n",
    "    # 해당 폴드에서 생성된 모델에게 원본 테스트 데이터 (X_test)를 이용해서 예측하고 저장\n",
    "    test_predict[:,cnt] = model.predict(X_test)\n",
    "  \n",
    "  # for 문이 끝나면 test_pred는 평균을 내서 하나로 합친다.\n",
    "  test_predict_mean = np.mean(test_predict, axis=1).reshape(-1,1)\n",
    "  \n",
    "  return train_fold_predict, test_predict_mean"
   ]
  },
  {
   "cell_type": "code",
   "execution_count": 12,
   "id": "5c5655c7",
   "metadata": {},
   "outputs": [],
   "source": [
    "# X_train.columns = list(map(str,X_train.columns))\n",
    "# X_test.columns = list(map(str,X_test.columns))\n",
    "# X_train.columns = X_train.columns+'temp'\n",
    "# X_test.columns = X_test.columns+'temp'\n",
    "categorical_features = list(X_train.select_dtypes(include=\"object\").columns)\n",
    "numeric_features = list(X_test.select_dtypes(exclude=\"object\").columns)\n",
    "X_train = X_train[numeric_features+categorical_features]\n",
    "X_test = X_test[numeric_features+categorical_features]"
   ]
  },
  {
   "cell_type": "code",
   "execution_count": 13,
   "id": "d072105b",
   "metadata": {},
   "outputs": [
    {
     "data": {
      "text/html": [
       "<style>#sk-container-id-1 {color: black;background-color: white;}#sk-container-id-1 pre{padding: 0;}#sk-container-id-1 div.sk-toggleable {background-color: white;}#sk-container-id-1 label.sk-toggleable__label {cursor: pointer;display: block;width: 100%;margin-bottom: 0;padding: 0.3em;box-sizing: border-box;text-align: center;}#sk-container-id-1 label.sk-toggleable__label-arrow:before {content: \"▸\";float: left;margin-right: 0.25em;color: #696969;}#sk-container-id-1 label.sk-toggleable__label-arrow:hover:before {color: black;}#sk-container-id-1 div.sk-estimator:hover label.sk-toggleable__label-arrow:before {color: black;}#sk-container-id-1 div.sk-toggleable__content {max-height: 0;max-width: 0;overflow: hidden;text-align: left;background-color: #f0f8ff;}#sk-container-id-1 div.sk-toggleable__content pre {margin: 0.2em;color: black;border-radius: 0.25em;background-color: #f0f8ff;}#sk-container-id-1 input.sk-toggleable__control:checked~div.sk-toggleable__content {max-height: 200px;max-width: 100%;overflow: auto;}#sk-container-id-1 input.sk-toggleable__control:checked~label.sk-toggleable__label-arrow:before {content: \"▾\";}#sk-container-id-1 div.sk-estimator input.sk-toggleable__control:checked~label.sk-toggleable__label {background-color: #d4ebff;}#sk-container-id-1 div.sk-label input.sk-toggleable__control:checked~label.sk-toggleable__label {background-color: #d4ebff;}#sk-container-id-1 input.sk-hidden--visually {border: 0;clip: rect(1px 1px 1px 1px);clip: rect(1px, 1px, 1px, 1px);height: 1px;margin: -1px;overflow: hidden;padding: 0;position: absolute;width: 1px;}#sk-container-id-1 div.sk-estimator {font-family: monospace;background-color: #f0f8ff;border: 1px dotted black;border-radius: 0.25em;box-sizing: border-box;margin-bottom: 0.5em;}#sk-container-id-1 div.sk-estimator:hover {background-color: #d4ebff;}#sk-container-id-1 div.sk-parallel-item::after {content: \"\";width: 100%;border-bottom: 1px solid gray;flex-grow: 1;}#sk-container-id-1 div.sk-label:hover label.sk-toggleable__label {background-color: #d4ebff;}#sk-container-id-1 div.sk-serial::before {content: \"\";position: absolute;border-left: 1px solid gray;box-sizing: border-box;top: 0;bottom: 0;left: 50%;z-index: 0;}#sk-container-id-1 div.sk-serial {display: flex;flex-direction: column;align-items: center;background-color: white;padding-right: 0.2em;padding-left: 0.2em;position: relative;}#sk-container-id-1 div.sk-item {position: relative;z-index: 1;}#sk-container-id-1 div.sk-parallel {display: flex;align-items: stretch;justify-content: center;background-color: white;position: relative;}#sk-container-id-1 div.sk-item::before, #sk-container-id-1 div.sk-parallel-item::before {content: \"\";position: absolute;border-left: 1px solid gray;box-sizing: border-box;top: 0;bottom: 0;left: 50%;z-index: -1;}#sk-container-id-1 div.sk-parallel-item {display: flex;flex-direction: column;z-index: 1;position: relative;background-color: white;}#sk-container-id-1 div.sk-parallel-item:first-child::after {align-self: flex-end;width: 50%;}#sk-container-id-1 div.sk-parallel-item:last-child::after {align-self: flex-start;width: 50%;}#sk-container-id-1 div.sk-parallel-item:only-child::after {width: 0;}#sk-container-id-1 div.sk-dashed-wrapped {border: 1px dashed gray;margin: 0 0.4em 0.5em 0.4em;box-sizing: border-box;padding-bottom: 0.4em;background-color: white;}#sk-container-id-1 div.sk-label label {font-family: monospace;font-weight: bold;display: inline-block;line-height: 1.2em;}#sk-container-id-1 div.sk-label-container {text-align: center;}#sk-container-id-1 div.sk-container {/* jupyter's `normalize.less` sets `[hidden] { display: none; }` but bootstrap.min.css set `[hidden] { display: none !important; }` so we also need the `!important` here to be able to override the default hidden behavior on the sphinx rendered scikit-learn.org. See: https://github.com/scikit-learn/scikit-learn/issues/21755 */display: inline-block !important;position: relative;}#sk-container-id-1 div.sk-text-repr-fallback {display: none;}</style><div id=\"sk-container-id-1\" class=\"sk-top-container\"><div class=\"sk-text-repr-fallback\"><pre>Pipeline(steps=[(&#x27;preprocessor&#x27;,\n",
       "                 Pipeline(steps=[(&#x27;column&#x27;,\n",
       "                                  ColumnTransformer(transformers=[(&#x27;num&#x27;,\n",
       "                                                                   Pipeline(steps=[(&#x27;imputer&#x27;,\n",
       "                                                                                    SimpleImputer())]),\n",
       "                                                                   [&#x27;5&#x27;, &#x27;6&#x27;,\n",
       "                                                                    &#x27;7&#x27;, &#x27;8&#x27;,\n",
       "                                                                    &#x27;9&#x27;, &#x27;10&#x27;,\n",
       "                                                                    &#x27;11&#x27;, &#x27;12&#x27;,\n",
       "                                                                    &#x27;13&#x27;, &#x27;14&#x27;,\n",
       "                                                                    &#x27;15&#x27;, &#x27;16&#x27;,\n",
       "                                                                    &#x27;17&#x27;, &#x27;18&#x27;,\n",
       "                                                                    &#x27;19&#x27;, &#x27;20&#x27;,\n",
       "                                                                    &#x27;21&#x27;, &#x27;22&#x27;,\n",
       "                                                                    &#x27;23&#x27;, &#x27;24&#x27;,\n",
       "                                                                    &#x27;25&#x27;, &#x27;26&#x27;,\n",
       "                                                                    &#x27;27&#x27;, &#x27;28&#x27;,\n",
       "                                                                    &#x27;29&#x27;, &#x27;30&#x27;,\n",
       "                                                                    &#x27;31&#x27;, &#x27;32&#x27;,\n",
       "                                                                    &#x27;33&#x27;, &#x27;34&#x27;, ...]),\n",
       "                                                                  (&#x27;cat&#x27;,\n",
       "                                                                   Pipeline(steps=[(&#x27;imputer&#x27;,\n",
       "                                                                                    SimpleImputer(strategy=&#x27;most_frequent&#x27;)),\n",
       "                                                                                   (&#x27;encoder&#x27;,\n",
       "                                                                                    OneHotEncoder(dtype=&lt;class &#x27;int&#x27;&gt;,\n",
       "                                                                                                  handle_unknown=&#x27;ignore&#x27;))]),\n",
       "                                                                   [&#x27;0&#x27;, &#x27;1&#x27;,\n",
       "                                                                    &#x27;2&#x27;, &#x27;3&#x27;,\n",
       "                                                                    &#x27;4&#x27;, &#x27;162&#x27;,\n",
       "                                                                    &#x27;587&#x27;])])),\n",
       "                                 (&#x27;selector&#x27;,\n",
       "                                  SelectPercentile(percentile=100))])),\n",
       "                (&#x27;classifier&#x27;, LGBMRegressor(random_state=0))])</pre><b>In a Jupyter environment, please rerun this cell to show the HTML representation or trust the notebook. <br />On GitHub, the HTML representation is unable to render, please try loading this page with nbviewer.org.</b></div><div class=\"sk-container\" hidden><div class=\"sk-item sk-dashed-wrapped\"><div class=\"sk-label-container\"><div class=\"sk-label sk-toggleable\"><input class=\"sk-toggleable__control sk-hidden--visually\" id=\"sk-estimator-id-1\" type=\"checkbox\" ><label for=\"sk-estimator-id-1\" class=\"sk-toggleable__label sk-toggleable__label-arrow\">Pipeline</label><div class=\"sk-toggleable__content\"><pre>Pipeline(steps=[(&#x27;preprocessor&#x27;,\n",
       "                 Pipeline(steps=[(&#x27;column&#x27;,\n",
       "                                  ColumnTransformer(transformers=[(&#x27;num&#x27;,\n",
       "                                                                   Pipeline(steps=[(&#x27;imputer&#x27;,\n",
       "                                                                                    SimpleImputer())]),\n",
       "                                                                   [&#x27;5&#x27;, &#x27;6&#x27;,\n",
       "                                                                    &#x27;7&#x27;, &#x27;8&#x27;,\n",
       "                                                                    &#x27;9&#x27;, &#x27;10&#x27;,\n",
       "                                                                    &#x27;11&#x27;, &#x27;12&#x27;,\n",
       "                                                                    &#x27;13&#x27;, &#x27;14&#x27;,\n",
       "                                                                    &#x27;15&#x27;, &#x27;16&#x27;,\n",
       "                                                                    &#x27;17&#x27;, &#x27;18&#x27;,\n",
       "                                                                    &#x27;19&#x27;, &#x27;20&#x27;,\n",
       "                                                                    &#x27;21&#x27;, &#x27;22&#x27;,\n",
       "                                                                    &#x27;23&#x27;, &#x27;24&#x27;,\n",
       "                                                                    &#x27;25&#x27;, &#x27;26&#x27;,\n",
       "                                                                    &#x27;27&#x27;, &#x27;28&#x27;,\n",
       "                                                                    &#x27;29&#x27;, &#x27;30&#x27;,\n",
       "                                                                    &#x27;31&#x27;, &#x27;32&#x27;,\n",
       "                                                                    &#x27;33&#x27;, &#x27;34&#x27;, ...]),\n",
       "                                                                  (&#x27;cat&#x27;,\n",
       "                                                                   Pipeline(steps=[(&#x27;imputer&#x27;,\n",
       "                                                                                    SimpleImputer(strategy=&#x27;most_frequent&#x27;)),\n",
       "                                                                                   (&#x27;encoder&#x27;,\n",
       "                                                                                    OneHotEncoder(dtype=&lt;class &#x27;int&#x27;&gt;,\n",
       "                                                                                                  handle_unknown=&#x27;ignore&#x27;))]),\n",
       "                                                                   [&#x27;0&#x27;, &#x27;1&#x27;,\n",
       "                                                                    &#x27;2&#x27;, &#x27;3&#x27;,\n",
       "                                                                    &#x27;4&#x27;, &#x27;162&#x27;,\n",
       "                                                                    &#x27;587&#x27;])])),\n",
       "                                 (&#x27;selector&#x27;,\n",
       "                                  SelectPercentile(percentile=100))])),\n",
       "                (&#x27;classifier&#x27;, LGBMRegressor(random_state=0))])</pre></div></div></div><div class=\"sk-serial\"><div class=\"sk-item\"><div class=\"sk-label-container\"><div class=\"sk-label sk-toggleable\"><input class=\"sk-toggleable__control sk-hidden--visually\" id=\"sk-estimator-id-2\" type=\"checkbox\" ><label for=\"sk-estimator-id-2\" class=\"sk-toggleable__label sk-toggleable__label-arrow\">preprocessor: Pipeline</label><div class=\"sk-toggleable__content\"><pre>Pipeline(steps=[(&#x27;column&#x27;,\n",
       "                 ColumnTransformer(transformers=[(&#x27;num&#x27;,\n",
       "                                                  Pipeline(steps=[(&#x27;imputer&#x27;,\n",
       "                                                                   SimpleImputer())]),\n",
       "                                                  [&#x27;5&#x27;, &#x27;6&#x27;, &#x27;7&#x27;, &#x27;8&#x27;, &#x27;9&#x27;,\n",
       "                                                   &#x27;10&#x27;, &#x27;11&#x27;, &#x27;12&#x27;, &#x27;13&#x27;, &#x27;14&#x27;,\n",
       "                                                   &#x27;15&#x27;, &#x27;16&#x27;, &#x27;17&#x27;, &#x27;18&#x27;, &#x27;19&#x27;,\n",
       "                                                   &#x27;20&#x27;, &#x27;21&#x27;, &#x27;22&#x27;, &#x27;23&#x27;, &#x27;24&#x27;,\n",
       "                                                   &#x27;25&#x27;, &#x27;26&#x27;, &#x27;27&#x27;, &#x27;28&#x27;, &#x27;29&#x27;,\n",
       "                                                   &#x27;30&#x27;, &#x27;31&#x27;, &#x27;32&#x27;, &#x27;33&#x27;, &#x27;34&#x27;, ...]),\n",
       "                                                 (&#x27;cat&#x27;,\n",
       "                                                  Pipeline(steps=[(&#x27;imputer&#x27;,\n",
       "                                                                   SimpleImputer(strategy=&#x27;most_frequent&#x27;)),\n",
       "                                                                  (&#x27;encoder&#x27;,\n",
       "                                                                   OneHotEncoder(dtype=&lt;class &#x27;int&#x27;&gt;,\n",
       "                                                                                 handle_unknown=&#x27;ignore&#x27;))]),\n",
       "                                                  [&#x27;0&#x27;, &#x27;1&#x27;, &#x27;2&#x27;, &#x27;3&#x27;, &#x27;4&#x27;,\n",
       "                                                   &#x27;162&#x27;, &#x27;587&#x27;])])),\n",
       "                (&#x27;selector&#x27;, SelectPercentile(percentile=100))])</pre></div></div></div><div class=\"sk-serial\"><div class=\"sk-item sk-dashed-wrapped\"><div class=\"sk-label-container\"><div class=\"sk-label sk-toggleable\"><input class=\"sk-toggleable__control sk-hidden--visually\" id=\"sk-estimator-id-3\" type=\"checkbox\" ><label for=\"sk-estimator-id-3\" class=\"sk-toggleable__label sk-toggleable__label-arrow\">column: ColumnTransformer</label><div class=\"sk-toggleable__content\"><pre>ColumnTransformer(transformers=[(&#x27;num&#x27;,\n",
       "                                 Pipeline(steps=[(&#x27;imputer&#x27;, SimpleImputer())]),\n",
       "                                 [&#x27;5&#x27;, &#x27;6&#x27;, &#x27;7&#x27;, &#x27;8&#x27;, &#x27;9&#x27;, &#x27;10&#x27;, &#x27;11&#x27;, &#x27;12&#x27;,\n",
       "                                  &#x27;13&#x27;, &#x27;14&#x27;, &#x27;15&#x27;, &#x27;16&#x27;, &#x27;17&#x27;, &#x27;18&#x27;, &#x27;19&#x27;,\n",
       "                                  &#x27;20&#x27;, &#x27;21&#x27;, &#x27;22&#x27;, &#x27;23&#x27;, &#x27;24&#x27;, &#x27;25&#x27;, &#x27;26&#x27;,\n",
       "                                  &#x27;27&#x27;, &#x27;28&#x27;, &#x27;29&#x27;, &#x27;30&#x27;, &#x27;31&#x27;, &#x27;32&#x27;, &#x27;33&#x27;,\n",
       "                                  &#x27;34&#x27;, ...]),\n",
       "                                (&#x27;cat&#x27;,\n",
       "                                 Pipeline(steps=[(&#x27;imputer&#x27;,\n",
       "                                                  SimpleImputer(strategy=&#x27;most_frequent&#x27;)),\n",
       "                                                 (&#x27;encoder&#x27;,\n",
       "                                                  OneHotEncoder(dtype=&lt;class &#x27;int&#x27;&gt;,\n",
       "                                                                handle_unknown=&#x27;ignore&#x27;))]),\n",
       "                                 [&#x27;0&#x27;, &#x27;1&#x27;, &#x27;2&#x27;, &#x27;3&#x27;, &#x27;4&#x27;, &#x27;162&#x27;, &#x27;587&#x27;])])</pre></div></div></div><div class=\"sk-parallel\"><div class=\"sk-parallel-item\"><div class=\"sk-item\"><div class=\"sk-label-container\"><div class=\"sk-label sk-toggleable\"><input class=\"sk-toggleable__control sk-hidden--visually\" id=\"sk-estimator-id-4\" type=\"checkbox\" ><label for=\"sk-estimator-id-4\" class=\"sk-toggleable__label sk-toggleable__label-arrow\">num</label><div class=\"sk-toggleable__content\"><pre>[&#x27;5&#x27;, &#x27;6&#x27;, &#x27;7&#x27;, &#x27;8&#x27;, &#x27;9&#x27;, &#x27;10&#x27;, &#x27;11&#x27;, &#x27;12&#x27;, &#x27;13&#x27;, &#x27;14&#x27;, &#x27;15&#x27;, &#x27;16&#x27;, &#x27;17&#x27;, &#x27;18&#x27;, &#x27;19&#x27;, &#x27;20&#x27;, &#x27;21&#x27;, &#x27;22&#x27;, &#x27;23&#x27;, &#x27;24&#x27;, &#x27;25&#x27;, &#x27;26&#x27;, &#x27;27&#x27;, &#x27;28&#x27;, &#x27;29&#x27;, &#x27;30&#x27;, &#x27;31&#x27;, &#x27;32&#x27;, &#x27;33&#x27;, &#x27;34&#x27;, &#x27;35&#x27;, &#x27;36&#x27;, &#x27;37&#x27;, &#x27;38&#x27;, &#x27;39&#x27;, &#x27;40&#x27;, &#x27;41&#x27;, &#x27;42&#x27;, &#x27;43&#x27;, &#x27;44&#x27;, &#x27;45&#x27;, &#x27;46&#x27;, &#x27;47&#x27;, &#x27;48&#x27;, &#x27;49&#x27;, &#x27;50&#x27;, &#x27;51&#x27;, &#x27;52&#x27;, &#x27;53&#x27;, &#x27;54&#x27;, &#x27;55&#x27;, &#x27;56&#x27;, &#x27;57&#x27;, &#x27;58&#x27;, &#x27;59&#x27;, &#x27;60&#x27;, &#x27;61&#x27;, &#x27;62&#x27;, &#x27;63&#x27;, &#x27;64&#x27;, &#x27;65&#x27;, &#x27;66&#x27;, &#x27;67&#x27;, &#x27;68&#x27;, &#x27;69&#x27;, &#x27;70&#x27;, &#x27;71&#x27;, &#x27;72&#x27;, &#x27;73&#x27;, &#x27;74&#x27;, &#x27;75&#x27;, &#x27;76&#x27;, &#x27;77&#x27;, &#x27;78&#x27;, &#x27;79&#x27;, &#x27;80&#x27;, &#x27;81&#x27;, &#x27;82&#x27;, &#x27;83&#x27;, &#x27;84&#x27;, &#x27;85&#x27;, &#x27;86&#x27;, &#x27;87&#x27;, &#x27;88&#x27;, &#x27;89&#x27;, &#x27;90&#x27;, &#x27;91&#x27;, &#x27;92&#x27;, &#x27;93&#x27;, &#x27;94&#x27;, &#x27;95&#x27;, &#x27;96&#x27;, &#x27;97&#x27;, &#x27;98&#x27;, &#x27;99&#x27;, &#x27;100&#x27;, &#x27;101&#x27;, &#x27;102&#x27;, &#x27;103&#x27;, &#x27;104&#x27;, &#x27;105&#x27;, &#x27;106&#x27;, &#x27;107&#x27;, &#x27;108&#x27;, &#x27;109&#x27;, &#x27;110&#x27;, &#x27;111&#x27;, &#x27;112&#x27;, &#x27;113&#x27;, &#x27;114&#x27;, &#x27;115&#x27;, &#x27;116&#x27;, &#x27;117&#x27;, &#x27;118&#x27;, &#x27;119&#x27;, &#x27;120&#x27;, &#x27;121&#x27;, &#x27;122&#x27;, &#x27;123&#x27;, &#x27;124&#x27;, &#x27;125&#x27;, &#x27;126&#x27;, &#x27;127&#x27;, &#x27;128&#x27;, &#x27;129&#x27;, &#x27;130&#x27;, &#x27;131&#x27;, &#x27;132&#x27;, &#x27;133&#x27;, &#x27;134&#x27;, &#x27;135&#x27;, &#x27;136&#x27;, &#x27;137&#x27;, &#x27;138&#x27;, &#x27;139&#x27;, &#x27;140&#x27;, &#x27;141&#x27;, &#x27;142&#x27;, &#x27;143&#x27;, &#x27;144&#x27;, &#x27;145&#x27;, &#x27;146&#x27;, &#x27;147&#x27;, &#x27;148&#x27;, &#x27;149&#x27;, &#x27;150&#x27;, &#x27;151&#x27;, &#x27;152&#x27;, &#x27;153&#x27;, &#x27;154&#x27;, &#x27;155&#x27;, &#x27;156&#x27;, &#x27;157&#x27;, &#x27;158&#x27;, &#x27;159&#x27;, &#x27;160&#x27;, &#x27;161&#x27;, &#x27;163&#x27;, &#x27;164&#x27;, &#x27;165&#x27;, &#x27;166&#x27;, &#x27;167&#x27;, &#x27;168&#x27;, &#x27;169&#x27;, &#x27;170&#x27;, &#x27;171&#x27;, &#x27;172&#x27;, &#x27;173&#x27;, &#x27;174&#x27;, &#x27;175&#x27;, &#x27;176&#x27;, &#x27;177&#x27;, &#x27;178&#x27;, &#x27;179&#x27;, &#x27;180&#x27;, &#x27;181&#x27;, &#x27;182&#x27;, &#x27;183&#x27;, &#x27;184&#x27;, &#x27;185&#x27;, &#x27;186&#x27;, &#x27;187&#x27;, &#x27;188&#x27;, &#x27;189&#x27;, &#x27;190&#x27;, &#x27;191&#x27;, &#x27;192&#x27;, &#x27;193&#x27;, &#x27;194&#x27;, &#x27;195&#x27;, &#x27;196&#x27;, &#x27;197&#x27;, &#x27;198&#x27;, &#x27;199&#x27;, &#x27;200&#x27;, &#x27;201&#x27;, &#x27;202&#x27;, &#x27;203&#x27;, &#x27;204&#x27;, &#x27;205&#x27;, &#x27;206&#x27;, &#x27;207&#x27;, &#x27;208&#x27;, &#x27;209&#x27;, &#x27;210&#x27;, &#x27;211&#x27;, &#x27;212&#x27;, &#x27;213&#x27;, &#x27;214&#x27;, &#x27;215&#x27;, &#x27;216&#x27;, &#x27;217&#x27;, &#x27;218&#x27;, &#x27;219&#x27;, &#x27;220&#x27;, &#x27;221&#x27;, &#x27;222&#x27;, &#x27;223&#x27;, &#x27;224&#x27;, &#x27;225&#x27;, &#x27;226&#x27;, &#x27;227&#x27;, &#x27;228&#x27;, &#x27;229&#x27;, &#x27;230&#x27;, &#x27;231&#x27;, &#x27;232&#x27;, &#x27;233&#x27;, &#x27;234&#x27;, &#x27;235&#x27;, &#x27;236&#x27;, &#x27;237&#x27;, &#x27;238&#x27;, &#x27;239&#x27;, &#x27;240&#x27;, &#x27;241&#x27;, &#x27;242&#x27;, &#x27;243&#x27;, &#x27;244&#x27;, &#x27;245&#x27;, &#x27;246&#x27;, &#x27;247&#x27;, &#x27;248&#x27;, &#x27;249&#x27;, &#x27;250&#x27;, &#x27;251&#x27;, &#x27;252&#x27;, &#x27;253&#x27;, &#x27;254&#x27;, &#x27;255&#x27;, &#x27;256&#x27;, &#x27;257&#x27;, &#x27;258&#x27;, &#x27;259&#x27;, &#x27;260&#x27;, &#x27;261&#x27;, &#x27;262&#x27;, &#x27;263&#x27;, &#x27;264&#x27;, &#x27;265&#x27;, &#x27;266&#x27;, &#x27;267&#x27;, &#x27;268&#x27;, &#x27;269&#x27;, &#x27;270&#x27;, &#x27;271&#x27;, &#x27;272&#x27;, &#x27;273&#x27;, &#x27;274&#x27;, &#x27;275&#x27;, &#x27;276&#x27;, &#x27;277&#x27;, &#x27;278&#x27;, &#x27;279&#x27;, &#x27;280&#x27;, &#x27;281&#x27;, &#x27;282&#x27;, &#x27;283&#x27;, &#x27;284&#x27;, &#x27;285&#x27;, &#x27;286&#x27;, &#x27;287&#x27;, &#x27;288&#x27;, &#x27;289&#x27;, &#x27;290&#x27;, &#x27;291&#x27;, &#x27;292&#x27;, &#x27;293&#x27;, &#x27;294&#x27;, &#x27;295&#x27;, &#x27;296&#x27;, &#x27;297&#x27;, &#x27;298&#x27;, &#x27;299&#x27;, &#x27;300&#x27;, &#x27;301&#x27;, &#x27;302&#x27;, &#x27;303&#x27;, &#x27;304&#x27;, &#x27;305&#x27;, &#x27;306&#x27;, &#x27;307&#x27;, &#x27;308&#x27;, &#x27;309&#x27;, &#x27;310&#x27;, &#x27;311&#x27;, &#x27;312&#x27;, &#x27;313&#x27;, &#x27;314&#x27;, &#x27;315&#x27;, &#x27;316&#x27;, &#x27;317&#x27;, &#x27;318&#x27;, &#x27;319&#x27;, &#x27;320&#x27;, &#x27;321&#x27;, &#x27;322&#x27;, &#x27;323&#x27;, &#x27;324&#x27;, &#x27;325&#x27;, &#x27;326&#x27;, &#x27;327&#x27;, &#x27;328&#x27;, &#x27;329&#x27;, &#x27;330&#x27;, &#x27;331&#x27;, &#x27;332&#x27;, &#x27;333&#x27;, &#x27;334&#x27;, &#x27;335&#x27;, &#x27;336&#x27;, &#x27;337&#x27;, &#x27;338&#x27;, &#x27;339&#x27;, &#x27;340&#x27;, &#x27;341&#x27;, &#x27;342&#x27;, &#x27;343&#x27;, &#x27;344&#x27;, &#x27;345&#x27;, &#x27;346&#x27;, &#x27;347&#x27;, &#x27;348&#x27;, &#x27;349&#x27;, &#x27;350&#x27;, &#x27;351&#x27;, &#x27;352&#x27;, &#x27;353&#x27;, &#x27;354&#x27;, &#x27;355&#x27;, &#x27;356&#x27;, &#x27;357&#x27;, &#x27;358&#x27;, &#x27;359&#x27;, &#x27;360&#x27;, &#x27;361&#x27;, &#x27;362&#x27;, &#x27;363&#x27;, &#x27;364&#x27;, &#x27;365&#x27;, &#x27;366&#x27;, &#x27;367&#x27;, &#x27;368&#x27;, &#x27;369&#x27;, &#x27;370&#x27;, &#x27;371&#x27;, &#x27;372&#x27;, &#x27;373&#x27;, &#x27;374&#x27;, &#x27;375&#x27;, &#x27;376&#x27;, &#x27;377&#x27;, &#x27;378&#x27;, &#x27;379&#x27;, &#x27;380&#x27;, &#x27;381&#x27;, &#x27;382&#x27;, &#x27;383&#x27;, &#x27;384&#x27;, &#x27;385&#x27;, &#x27;386&#x27;, &#x27;387&#x27;, &#x27;388&#x27;, &#x27;389&#x27;, &#x27;390&#x27;, &#x27;391&#x27;, &#x27;392&#x27;, &#x27;393&#x27;, &#x27;394&#x27;, &#x27;395&#x27;, &#x27;396&#x27;, &#x27;397&#x27;, &#x27;398&#x27;, &#x27;399&#x27;, &#x27;400&#x27;, &#x27;401&#x27;, &#x27;402&#x27;, &#x27;403&#x27;, &#x27;404&#x27;, &#x27;405&#x27;, &#x27;406&#x27;, &#x27;407&#x27;, &#x27;408&#x27;, &#x27;409&#x27;, &#x27;410&#x27;, &#x27;411&#x27;, &#x27;412&#x27;, &#x27;413&#x27;, &#x27;414&#x27;, &#x27;415&#x27;, &#x27;416&#x27;, &#x27;417&#x27;, &#x27;418&#x27;, &#x27;419&#x27;, &#x27;420&#x27;, &#x27;421&#x27;, &#x27;422&#x27;, &#x27;423&#x27;, &#x27;424&#x27;, &#x27;425&#x27;, &#x27;426&#x27;, &#x27;427&#x27;, &#x27;428&#x27;, &#x27;429&#x27;, &#x27;430&#x27;, &#x27;431&#x27;, &#x27;432&#x27;, &#x27;433&#x27;, &#x27;434&#x27;, &#x27;435&#x27;, &#x27;436&#x27;, &#x27;437&#x27;, &#x27;438&#x27;, &#x27;439&#x27;, &#x27;440&#x27;, &#x27;441&#x27;, &#x27;442&#x27;, &#x27;443&#x27;, &#x27;444&#x27;, &#x27;445&#x27;, &#x27;446&#x27;, &#x27;447&#x27;, &#x27;448&#x27;, &#x27;449&#x27;, &#x27;450&#x27;, &#x27;451&#x27;, &#x27;452&#x27;, &#x27;453&#x27;, &#x27;454&#x27;, &#x27;455&#x27;, &#x27;456&#x27;, &#x27;457&#x27;, &#x27;458&#x27;, &#x27;459&#x27;, &#x27;460&#x27;, &#x27;461&#x27;, &#x27;462&#x27;, &#x27;463&#x27;, &#x27;464&#x27;, &#x27;465&#x27;, &#x27;466&#x27;, &#x27;467&#x27;, &#x27;468&#x27;, &#x27;469&#x27;, &#x27;470&#x27;, &#x27;471&#x27;, &#x27;472&#x27;, &#x27;473&#x27;, &#x27;474&#x27;, &#x27;475&#x27;, &#x27;476&#x27;, &#x27;477&#x27;, &#x27;478&#x27;, &#x27;479&#x27;, &#x27;480&#x27;, &#x27;481&#x27;, &#x27;482&#x27;, &#x27;483&#x27;, &#x27;484&#x27;, &#x27;485&#x27;, &#x27;486&#x27;, &#x27;487&#x27;, &#x27;488&#x27;, &#x27;489&#x27;, &#x27;490&#x27;, &#x27;491&#x27;, &#x27;492&#x27;, &#x27;493&#x27;, &#x27;494&#x27;, &#x27;495&#x27;, &#x27;496&#x27;, &#x27;497&#x27;, &#x27;498&#x27;, &#x27;499&#x27;, &#x27;500&#x27;, &#x27;501&#x27;, &#x27;502&#x27;, &#x27;503&#x27;, &#x27;504&#x27;, &#x27;505&#x27;, &#x27;506&#x27;, &#x27;507&#x27;, &#x27;508&#x27;, &#x27;509&#x27;, &#x27;510&#x27;, &#x27;511&#x27;, &#x27;512&#x27;, &#x27;513&#x27;, &#x27;514&#x27;, &#x27;515&#x27;, &#x27;516&#x27;, &#x27;517&#x27;, &#x27;518&#x27;, &#x27;519&#x27;, &#x27;520&#x27;, &#x27;521&#x27;, &#x27;522&#x27;, &#x27;523&#x27;, &#x27;524&#x27;, &#x27;525&#x27;, &#x27;526&#x27;, &#x27;527&#x27;, &#x27;528&#x27;, &#x27;529&#x27;, &#x27;530&#x27;, &#x27;531&#x27;, &#x27;532&#x27;, &#x27;533&#x27;, &#x27;534&#x27;, &#x27;535&#x27;, &#x27;536&#x27;, &#x27;537&#x27;, &#x27;538&#x27;, &#x27;539&#x27;, &#x27;540&#x27;, &#x27;541&#x27;, &#x27;542&#x27;, &#x27;543&#x27;, &#x27;544&#x27;, &#x27;545&#x27;, &#x27;546&#x27;, &#x27;547&#x27;, &#x27;548&#x27;, &#x27;549&#x27;, &#x27;550&#x27;, &#x27;551&#x27;, &#x27;552&#x27;, &#x27;553&#x27;, &#x27;554&#x27;, &#x27;555&#x27;, &#x27;556&#x27;, &#x27;557&#x27;, &#x27;558&#x27;, &#x27;559&#x27;, &#x27;560&#x27;, &#x27;561&#x27;, &#x27;562&#x27;, &#x27;563&#x27;, &#x27;564&#x27;, &#x27;565&#x27;, &#x27;566&#x27;, &#x27;567&#x27;, &#x27;568&#x27;, &#x27;569&#x27;, &#x27;570&#x27;, &#x27;571&#x27;, &#x27;572&#x27;, &#x27;573&#x27;, &#x27;574&#x27;, &#x27;575&#x27;, &#x27;576&#x27;, &#x27;577&#x27;, &#x27;578&#x27;, &#x27;579&#x27;, &#x27;580&#x27;, &#x27;581&#x27;, &#x27;582&#x27;, &#x27;583&#x27;, &#x27;584&#x27;, &#x27;585&#x27;, &#x27;586&#x27;, &#x27;588&#x27;, &#x27;589&#x27;, &#x27;590&#x27;, &#x27;591&#x27;, &#x27;592&#x27;, &#x27;593&#x27;, &#x27;594&#x27;, &#x27;595&#x27;, &#x27;596&#x27;, &#x27;597&#x27;, &#x27;598&#x27;, &#x27;599&#x27;, &#x27;600&#x27;, &#x27;601&#x27;, &#x27;602&#x27;, &#x27;603&#x27;]</pre></div></div></div><div class=\"sk-serial\"><div class=\"sk-item\"><div class=\"sk-serial\"><div class=\"sk-item\"><div class=\"sk-estimator sk-toggleable\"><input class=\"sk-toggleable__control sk-hidden--visually\" id=\"sk-estimator-id-5\" type=\"checkbox\" ><label for=\"sk-estimator-id-5\" class=\"sk-toggleable__label sk-toggleable__label-arrow\">SimpleImputer</label><div class=\"sk-toggleable__content\"><pre>SimpleImputer()</pre></div></div></div></div></div></div></div></div><div class=\"sk-parallel-item\"><div class=\"sk-item\"><div class=\"sk-label-container\"><div class=\"sk-label sk-toggleable\"><input class=\"sk-toggleable__control sk-hidden--visually\" id=\"sk-estimator-id-6\" type=\"checkbox\" ><label for=\"sk-estimator-id-6\" class=\"sk-toggleable__label sk-toggleable__label-arrow\">cat</label><div class=\"sk-toggleable__content\"><pre>[&#x27;0&#x27;, &#x27;1&#x27;, &#x27;2&#x27;, &#x27;3&#x27;, &#x27;4&#x27;, &#x27;162&#x27;, &#x27;587&#x27;]</pre></div></div></div><div class=\"sk-serial\"><div class=\"sk-item\"><div class=\"sk-serial\"><div class=\"sk-item\"><div class=\"sk-estimator sk-toggleable\"><input class=\"sk-toggleable__control sk-hidden--visually\" id=\"sk-estimator-id-7\" type=\"checkbox\" ><label for=\"sk-estimator-id-7\" class=\"sk-toggleable__label sk-toggleable__label-arrow\">SimpleImputer</label><div class=\"sk-toggleable__content\"><pre>SimpleImputer(strategy=&#x27;most_frequent&#x27;)</pre></div></div></div><div class=\"sk-item\"><div class=\"sk-estimator sk-toggleable\"><input class=\"sk-toggleable__control sk-hidden--visually\" id=\"sk-estimator-id-8\" type=\"checkbox\" ><label for=\"sk-estimator-id-8\" class=\"sk-toggleable__label sk-toggleable__label-arrow\">OneHotEncoder</label><div class=\"sk-toggleable__content\"><pre>OneHotEncoder(dtype=&lt;class &#x27;int&#x27;&gt;, handle_unknown=&#x27;ignore&#x27;)</pre></div></div></div></div></div></div></div></div></div></div><div class=\"sk-item\"><div class=\"sk-estimator sk-toggleable\"><input class=\"sk-toggleable__control sk-hidden--visually\" id=\"sk-estimator-id-9\" type=\"checkbox\" ><label for=\"sk-estimator-id-9\" class=\"sk-toggleable__label sk-toggleable__label-arrow\">SelectPercentile</label><div class=\"sk-toggleable__content\"><pre>SelectPercentile(percentile=100)</pre></div></div></div></div></div><div class=\"sk-item\"><div class=\"sk-estimator sk-toggleable\"><input class=\"sk-toggleable__control sk-hidden--visually\" id=\"sk-estimator-id-10\" type=\"checkbox\" ><label for=\"sk-estimator-id-10\" class=\"sk-toggleable__label sk-toggleable__label-arrow\">LGBMRegressor</label><div class=\"sk-toggleable__content\"><pre>LGBMRegressor(random_state=0)</pre></div></div></div></div></div></div></div>"
      ],
      "text/plain": [
       "Pipeline(steps=[('preprocessor',\n",
       "                 Pipeline(steps=[('column',\n",
       "                                  ColumnTransformer(transformers=[('num',\n",
       "                                                                   Pipeline(steps=[('imputer',\n",
       "                                                                                    SimpleImputer())]),\n",
       "                                                                   ['5', '6',\n",
       "                                                                    '7', '8',\n",
       "                                                                    '9', '10',\n",
       "                                                                    '11', '12',\n",
       "                                                                    '13', '14',\n",
       "                                                                    '15', '16',\n",
       "                                                                    '17', '18',\n",
       "                                                                    '19', '20',\n",
       "                                                                    '21', '22',\n",
       "                                                                    '23', '24',\n",
       "                                                                    '25', '26',\n",
       "                                                                    '27', '28',\n",
       "                                                                    '29', '30',\n",
       "                                                                    '31', '32',\n",
       "                                                                    '33', '34', ...]),\n",
       "                                                                  ('cat',\n",
       "                                                                   Pipeline(steps=[('imputer',\n",
       "                                                                                    SimpleImputer(strategy='most_frequent')),\n",
       "                                                                                   ('encoder',\n",
       "                                                                                    OneHotEncoder(dtype=<class 'int'>,\n",
       "                                                                                                  handle_unknown='ignore'))]),\n",
       "                                                                   ['0', '1',\n",
       "                                                                    '2', '3',\n",
       "                                                                    '4', '162',\n",
       "                                                                    '587'])])),\n",
       "                                 ('selector',\n",
       "                                  SelectPercentile(percentile=100))])),\n",
       "                ('classifier', LGBMRegressor(random_state=0))])"
      ]
     },
     "execution_count": 13,
     "metadata": {},
     "output_type": "execute_result"
    }
   ],
   "source": [
    "def remove_outlier(X, q=0.05):  \n",
    "    df = pd.DataFrame(X)\n",
    "    return df.apply(lambda x: x.clip(x.quantile(q), x.quantile(1-q)), axis=0).values\n",
    "\n",
    "numeric_transformer = Pipeline(\n",
    "    steps=[\n",
    "        (\"imputer\", SimpleImputer(strategy=\"mean\")),\n",
    "#         (\"outlier\", FunctionTransformer(remove_outlier, kw_args={'q':0.05})),\n",
    "#         (\"scaler\", PowerTransformer()),\n",
    "    ]\n",
    ")\n",
    "\n",
    "categorical_transformer = Pipeline(\n",
    "    steps=[\n",
    "        (\"imputer\", SimpleImputer(strategy=\"most_frequent\")),\n",
    "        (\"encoder\", OneHotEncoder(handle_unknown='ignore', dtype=int)),\n",
    "    ]\n",
    ")\n",
    "\n",
    "column_transformer = ColumnTransformer(\n",
    "    transformers=[\n",
    "        (\"num\", numeric_transformer, numeric_features),\n",
    "        (\"cat\", categorical_transformer, categorical_features),\n",
    "    ]\n",
    ")\n",
    "\n",
    "preprocessor = Pipeline(\n",
    "    steps=[\n",
    "        (\"column\", column_transformer),\n",
    "        (\"selector\", SelectPercentile(percentile=100)),\n",
    "    ]\n",
    ")\n",
    "\n",
    "model = Pipeline(\n",
    "    steps=[\n",
    "        (\"preprocessor\", preprocessor),\n",
    "        (\"classifier\", LGBMRegressor(random_state=0)),\n",
    "    ]\n",
    ")\n",
    "\n",
    "set_config(display=\"diagram\")  # To view the text pipeline, change to display='text'.\n",
    "model"
   ]
  },
  {
   "cell_type": "code",
   "execution_count": 14,
   "id": "6c1c61f2",
   "metadata": {},
   "outputs": [
    {
     "name": "stdout",
     "output_type": "stream",
     "text": [
      "model :  Pipeline\n"
     ]
    }
   ],
   "source": [
    "lgbm_train, lgbm_test = get_stacking_data(model, X_train, y_train, X_test)"
   ]
  },
  {
   "cell_type": "code",
   "execution_count": 15,
   "id": "ce771501",
   "metadata": {},
   "outputs": [],
   "source": [
    "lgbm_data = pd.concat([pd.DataFrame(lgbm_train), pd.DataFrame(lgbm_test)],axis=1)\n",
    "lgbm_data.columns = ['modelC_lgbm_train','modelC_lgbm_test']\n",
    "lgbm_data.to_csv('modelC_lgbm_data.csv')"
   ]
  },
  {
   "cell_type": "code",
   "execution_count": 16,
   "id": "bb6b686d",
   "metadata": {},
   "outputs": [
    {
     "name": "stdout",
     "output_type": "stream",
     "text": [
      "Default LM CV scores:  [837.29305265 822.68512059 848.10438903 841.73869491 827.7603641 ]\n",
      "Default LM CV mean = 835.57 with std = 124.10\n"
     ]
    }
   ],
   "source": [
    "from sklearn.model_selection import cross_val_score, ShuffleSplit\n",
    "\n",
    "sscv = ShuffleSplit(test_size=0.3334, n_splits=5,random_state=0)\n",
    "scores = cross_val_score(model, X_train, y_train, scoring='neg_mean_squared_error', cv=sscv)\n",
    "\n",
    "print(\"Default LM CV scores: \", np.sqrt(-1*scores))\n",
    "print(\"Default LM CV mean = %.2f\" % np.sqrt(-1*scores.mean()), \"with std = %.2f\" % np.sqrt(scores.std()))"
   ]
  },
  {
   "cell_type": "markdown",
   "id": "fe9d234d",
   "metadata": {},
   "source": [
    "### Ridge"
   ]
  },
  {
   "cell_type": "code",
   "execution_count": 17,
   "id": "acf785da",
   "metadata": {},
   "outputs": [],
   "source": [
    "def get_stacking_data(model, X_train, y_train, X_test, n_folds=5):      \n",
    "  kfold = KFold(n_splits = n_folds,shuffle=True, random_state = 25)\n",
    "  \n",
    "\n",
    "  train_fold_predict = np.zeros((X_train.shape[0],1))\n",
    "\n",
    "  test_predict = np.zeros((X_test.shape[0], n_folds))\n",
    "  print('model : ',model.__class__.__name__)\n",
    "  \n",
    "  for cnt, (train_index, valid_index) in enumerate(kfold.split(X_train)):\n",
    "    X_train_ = X_train.iloc[train_index]\n",
    "    y_train_ = y_train.iloc[train_index]\n",
    "    X_valid = X_train.iloc[valid_index]\n",
    "\n",
    "    # 학습\n",
    "    model.fit(X_train_,y_train_)\n",
    "    # 해당 폴드에서 학습된 모델에다가 검증 데이터 (X_valid)로 예측 후 저장\n",
    "    train_fold_predict[valid_index,:] = model.predict(X_valid).reshape(-1,1)\n",
    "    # 해당 폴드에서 생성된 모델에게 원본 테스트 데이터 (X_test)를 이용해서 예측하고 저장\n",
    "    test_predict[:,cnt] = model.predict(X_test)\n",
    "  \n",
    "  # for 문이 끝나면 test_pred는 평균을 내서 하나로 합친다.\n",
    "  test_predict_mean = np.mean(test_predict, axis=1).reshape(-1,1)\n",
    "  \n",
    "  return train_fold_predict, test_predict_mean"
   ]
  },
  {
   "cell_type": "code",
   "execution_count": 18,
   "id": "ce094b24",
   "metadata": {
    "scrolled": false
   },
   "outputs": [
    {
     "data": {
      "text/html": [
       "<style>#sk-container-id-2 {color: black;background-color: white;}#sk-container-id-2 pre{padding: 0;}#sk-container-id-2 div.sk-toggleable {background-color: white;}#sk-container-id-2 label.sk-toggleable__label {cursor: pointer;display: block;width: 100%;margin-bottom: 0;padding: 0.3em;box-sizing: border-box;text-align: center;}#sk-container-id-2 label.sk-toggleable__label-arrow:before {content: \"▸\";float: left;margin-right: 0.25em;color: #696969;}#sk-container-id-2 label.sk-toggleable__label-arrow:hover:before {color: black;}#sk-container-id-2 div.sk-estimator:hover label.sk-toggleable__label-arrow:before {color: black;}#sk-container-id-2 div.sk-toggleable__content {max-height: 0;max-width: 0;overflow: hidden;text-align: left;background-color: #f0f8ff;}#sk-container-id-2 div.sk-toggleable__content pre {margin: 0.2em;color: black;border-radius: 0.25em;background-color: #f0f8ff;}#sk-container-id-2 input.sk-toggleable__control:checked~div.sk-toggleable__content {max-height: 200px;max-width: 100%;overflow: auto;}#sk-container-id-2 input.sk-toggleable__control:checked~label.sk-toggleable__label-arrow:before {content: \"▾\";}#sk-container-id-2 div.sk-estimator input.sk-toggleable__control:checked~label.sk-toggleable__label {background-color: #d4ebff;}#sk-container-id-2 div.sk-label input.sk-toggleable__control:checked~label.sk-toggleable__label {background-color: #d4ebff;}#sk-container-id-2 input.sk-hidden--visually {border: 0;clip: rect(1px 1px 1px 1px);clip: rect(1px, 1px, 1px, 1px);height: 1px;margin: -1px;overflow: hidden;padding: 0;position: absolute;width: 1px;}#sk-container-id-2 div.sk-estimator {font-family: monospace;background-color: #f0f8ff;border: 1px dotted black;border-radius: 0.25em;box-sizing: border-box;margin-bottom: 0.5em;}#sk-container-id-2 div.sk-estimator:hover {background-color: #d4ebff;}#sk-container-id-2 div.sk-parallel-item::after {content: \"\";width: 100%;border-bottom: 1px solid gray;flex-grow: 1;}#sk-container-id-2 div.sk-label:hover label.sk-toggleable__label {background-color: #d4ebff;}#sk-container-id-2 div.sk-serial::before {content: \"\";position: absolute;border-left: 1px solid gray;box-sizing: border-box;top: 0;bottom: 0;left: 50%;z-index: 0;}#sk-container-id-2 div.sk-serial {display: flex;flex-direction: column;align-items: center;background-color: white;padding-right: 0.2em;padding-left: 0.2em;position: relative;}#sk-container-id-2 div.sk-item {position: relative;z-index: 1;}#sk-container-id-2 div.sk-parallel {display: flex;align-items: stretch;justify-content: center;background-color: white;position: relative;}#sk-container-id-2 div.sk-item::before, #sk-container-id-2 div.sk-parallel-item::before {content: \"\";position: absolute;border-left: 1px solid gray;box-sizing: border-box;top: 0;bottom: 0;left: 50%;z-index: -1;}#sk-container-id-2 div.sk-parallel-item {display: flex;flex-direction: column;z-index: 1;position: relative;background-color: white;}#sk-container-id-2 div.sk-parallel-item:first-child::after {align-self: flex-end;width: 50%;}#sk-container-id-2 div.sk-parallel-item:last-child::after {align-self: flex-start;width: 50%;}#sk-container-id-2 div.sk-parallel-item:only-child::after {width: 0;}#sk-container-id-2 div.sk-dashed-wrapped {border: 1px dashed gray;margin: 0 0.4em 0.5em 0.4em;box-sizing: border-box;padding-bottom: 0.4em;background-color: white;}#sk-container-id-2 div.sk-label label {font-family: monospace;font-weight: bold;display: inline-block;line-height: 1.2em;}#sk-container-id-2 div.sk-label-container {text-align: center;}#sk-container-id-2 div.sk-container {/* jupyter's `normalize.less` sets `[hidden] { display: none; }` but bootstrap.min.css set `[hidden] { display: none !important; }` so we also need the `!important` here to be able to override the default hidden behavior on the sphinx rendered scikit-learn.org. See: https://github.com/scikit-learn/scikit-learn/issues/21755 */display: inline-block !important;position: relative;}#sk-container-id-2 div.sk-text-repr-fallback {display: none;}</style><div id=\"sk-container-id-2\" class=\"sk-top-container\"><div class=\"sk-text-repr-fallback\"><pre>Pipeline(steps=[(&#x27;preprocessor&#x27;,\n",
       "                 Pipeline(steps=[(&#x27;column&#x27;,\n",
       "                                  ColumnTransformer(transformers=[(&#x27;num&#x27;,\n",
       "                                                                   Pipeline(steps=[(&#x27;imputer&#x27;,\n",
       "                                                                                    SimpleImputer())]),\n",
       "                                                                   [&#x27;5&#x27;, &#x27;6&#x27;,\n",
       "                                                                    &#x27;7&#x27;, &#x27;8&#x27;,\n",
       "                                                                    &#x27;9&#x27;, &#x27;10&#x27;,\n",
       "                                                                    &#x27;11&#x27;, &#x27;12&#x27;,\n",
       "                                                                    &#x27;13&#x27;, &#x27;14&#x27;,\n",
       "                                                                    &#x27;15&#x27;, &#x27;16&#x27;,\n",
       "                                                                    &#x27;17&#x27;, &#x27;18&#x27;,\n",
       "                                                                    &#x27;19&#x27;, &#x27;20&#x27;,\n",
       "                                                                    &#x27;21&#x27;, &#x27;22&#x27;,\n",
       "                                                                    &#x27;23&#x27;, &#x27;24&#x27;,\n",
       "                                                                    &#x27;25&#x27;, &#x27;26&#x27;,\n",
       "                                                                    &#x27;27&#x27;, &#x27;28&#x27;,\n",
       "                                                                    &#x27;29&#x27;, &#x27;30&#x27;,\n",
       "                                                                    &#x27;31&#x27;, &#x27;32&#x27;,\n",
       "                                                                    &#x27;33&#x27;, &#x27;34&#x27;, ...]),\n",
       "                                                                  (&#x27;cat&#x27;,\n",
       "                                                                   Pipeline(steps=[(&#x27;imputer&#x27;,\n",
       "                                                                                    SimpleImputer(strategy=&#x27;most_frequent&#x27;)),\n",
       "                                                                                   (&#x27;encoder&#x27;,\n",
       "                                                                                    OneHotEncoder(dtype=&lt;class &#x27;int&#x27;&gt;,\n",
       "                                                                                                  handle_unknown=&#x27;ignore&#x27;))]),\n",
       "                                                                   [&#x27;0&#x27;, &#x27;1&#x27;,\n",
       "                                                                    &#x27;2&#x27;, &#x27;3&#x27;,\n",
       "                                                                    &#x27;4&#x27;, &#x27;162&#x27;,\n",
       "                                                                    &#x27;587&#x27;])])),\n",
       "                                 (&#x27;selector&#x27;,\n",
       "                                  SelectPercentile(percentile=100))])),\n",
       "                (&#x27;classifier&#x27;, Ridge())])</pre><b>In a Jupyter environment, please rerun this cell to show the HTML representation or trust the notebook. <br />On GitHub, the HTML representation is unable to render, please try loading this page with nbviewer.org.</b></div><div class=\"sk-container\" hidden><div class=\"sk-item sk-dashed-wrapped\"><div class=\"sk-label-container\"><div class=\"sk-label sk-toggleable\"><input class=\"sk-toggleable__control sk-hidden--visually\" id=\"sk-estimator-id-11\" type=\"checkbox\" ><label for=\"sk-estimator-id-11\" class=\"sk-toggleable__label sk-toggleable__label-arrow\">Pipeline</label><div class=\"sk-toggleable__content\"><pre>Pipeline(steps=[(&#x27;preprocessor&#x27;,\n",
       "                 Pipeline(steps=[(&#x27;column&#x27;,\n",
       "                                  ColumnTransformer(transformers=[(&#x27;num&#x27;,\n",
       "                                                                   Pipeline(steps=[(&#x27;imputer&#x27;,\n",
       "                                                                                    SimpleImputer())]),\n",
       "                                                                   [&#x27;5&#x27;, &#x27;6&#x27;,\n",
       "                                                                    &#x27;7&#x27;, &#x27;8&#x27;,\n",
       "                                                                    &#x27;9&#x27;, &#x27;10&#x27;,\n",
       "                                                                    &#x27;11&#x27;, &#x27;12&#x27;,\n",
       "                                                                    &#x27;13&#x27;, &#x27;14&#x27;,\n",
       "                                                                    &#x27;15&#x27;, &#x27;16&#x27;,\n",
       "                                                                    &#x27;17&#x27;, &#x27;18&#x27;,\n",
       "                                                                    &#x27;19&#x27;, &#x27;20&#x27;,\n",
       "                                                                    &#x27;21&#x27;, &#x27;22&#x27;,\n",
       "                                                                    &#x27;23&#x27;, &#x27;24&#x27;,\n",
       "                                                                    &#x27;25&#x27;, &#x27;26&#x27;,\n",
       "                                                                    &#x27;27&#x27;, &#x27;28&#x27;,\n",
       "                                                                    &#x27;29&#x27;, &#x27;30&#x27;,\n",
       "                                                                    &#x27;31&#x27;, &#x27;32&#x27;,\n",
       "                                                                    &#x27;33&#x27;, &#x27;34&#x27;, ...]),\n",
       "                                                                  (&#x27;cat&#x27;,\n",
       "                                                                   Pipeline(steps=[(&#x27;imputer&#x27;,\n",
       "                                                                                    SimpleImputer(strategy=&#x27;most_frequent&#x27;)),\n",
       "                                                                                   (&#x27;encoder&#x27;,\n",
       "                                                                                    OneHotEncoder(dtype=&lt;class &#x27;int&#x27;&gt;,\n",
       "                                                                                                  handle_unknown=&#x27;ignore&#x27;))]),\n",
       "                                                                   [&#x27;0&#x27;, &#x27;1&#x27;,\n",
       "                                                                    &#x27;2&#x27;, &#x27;3&#x27;,\n",
       "                                                                    &#x27;4&#x27;, &#x27;162&#x27;,\n",
       "                                                                    &#x27;587&#x27;])])),\n",
       "                                 (&#x27;selector&#x27;,\n",
       "                                  SelectPercentile(percentile=100))])),\n",
       "                (&#x27;classifier&#x27;, Ridge())])</pre></div></div></div><div class=\"sk-serial\"><div class=\"sk-item\"><div class=\"sk-label-container\"><div class=\"sk-label sk-toggleable\"><input class=\"sk-toggleable__control sk-hidden--visually\" id=\"sk-estimator-id-12\" type=\"checkbox\" ><label for=\"sk-estimator-id-12\" class=\"sk-toggleable__label sk-toggleable__label-arrow\">preprocessor: Pipeline</label><div class=\"sk-toggleable__content\"><pre>Pipeline(steps=[(&#x27;column&#x27;,\n",
       "                 ColumnTransformer(transformers=[(&#x27;num&#x27;,\n",
       "                                                  Pipeline(steps=[(&#x27;imputer&#x27;,\n",
       "                                                                   SimpleImputer())]),\n",
       "                                                  [&#x27;5&#x27;, &#x27;6&#x27;, &#x27;7&#x27;, &#x27;8&#x27;, &#x27;9&#x27;,\n",
       "                                                   &#x27;10&#x27;, &#x27;11&#x27;, &#x27;12&#x27;, &#x27;13&#x27;, &#x27;14&#x27;,\n",
       "                                                   &#x27;15&#x27;, &#x27;16&#x27;, &#x27;17&#x27;, &#x27;18&#x27;, &#x27;19&#x27;,\n",
       "                                                   &#x27;20&#x27;, &#x27;21&#x27;, &#x27;22&#x27;, &#x27;23&#x27;, &#x27;24&#x27;,\n",
       "                                                   &#x27;25&#x27;, &#x27;26&#x27;, &#x27;27&#x27;, &#x27;28&#x27;, &#x27;29&#x27;,\n",
       "                                                   &#x27;30&#x27;, &#x27;31&#x27;, &#x27;32&#x27;, &#x27;33&#x27;, &#x27;34&#x27;, ...]),\n",
       "                                                 (&#x27;cat&#x27;,\n",
       "                                                  Pipeline(steps=[(&#x27;imputer&#x27;,\n",
       "                                                                   SimpleImputer(strategy=&#x27;most_frequent&#x27;)),\n",
       "                                                                  (&#x27;encoder&#x27;,\n",
       "                                                                   OneHotEncoder(dtype=&lt;class &#x27;int&#x27;&gt;,\n",
       "                                                                                 handle_unknown=&#x27;ignore&#x27;))]),\n",
       "                                                  [&#x27;0&#x27;, &#x27;1&#x27;, &#x27;2&#x27;, &#x27;3&#x27;, &#x27;4&#x27;,\n",
       "                                                   &#x27;162&#x27;, &#x27;587&#x27;])])),\n",
       "                (&#x27;selector&#x27;, SelectPercentile(percentile=100))])</pre></div></div></div><div class=\"sk-serial\"><div class=\"sk-item sk-dashed-wrapped\"><div class=\"sk-label-container\"><div class=\"sk-label sk-toggleable\"><input class=\"sk-toggleable__control sk-hidden--visually\" id=\"sk-estimator-id-13\" type=\"checkbox\" ><label for=\"sk-estimator-id-13\" class=\"sk-toggleable__label sk-toggleable__label-arrow\">column: ColumnTransformer</label><div class=\"sk-toggleable__content\"><pre>ColumnTransformer(transformers=[(&#x27;num&#x27;,\n",
       "                                 Pipeline(steps=[(&#x27;imputer&#x27;, SimpleImputer())]),\n",
       "                                 [&#x27;5&#x27;, &#x27;6&#x27;, &#x27;7&#x27;, &#x27;8&#x27;, &#x27;9&#x27;, &#x27;10&#x27;, &#x27;11&#x27;, &#x27;12&#x27;,\n",
       "                                  &#x27;13&#x27;, &#x27;14&#x27;, &#x27;15&#x27;, &#x27;16&#x27;, &#x27;17&#x27;, &#x27;18&#x27;, &#x27;19&#x27;,\n",
       "                                  &#x27;20&#x27;, &#x27;21&#x27;, &#x27;22&#x27;, &#x27;23&#x27;, &#x27;24&#x27;, &#x27;25&#x27;, &#x27;26&#x27;,\n",
       "                                  &#x27;27&#x27;, &#x27;28&#x27;, &#x27;29&#x27;, &#x27;30&#x27;, &#x27;31&#x27;, &#x27;32&#x27;, &#x27;33&#x27;,\n",
       "                                  &#x27;34&#x27;, ...]),\n",
       "                                (&#x27;cat&#x27;,\n",
       "                                 Pipeline(steps=[(&#x27;imputer&#x27;,\n",
       "                                                  SimpleImputer(strategy=&#x27;most_frequent&#x27;)),\n",
       "                                                 (&#x27;encoder&#x27;,\n",
       "                                                  OneHotEncoder(dtype=&lt;class &#x27;int&#x27;&gt;,\n",
       "                                                                handle_unknown=&#x27;ignore&#x27;))]),\n",
       "                                 [&#x27;0&#x27;, &#x27;1&#x27;, &#x27;2&#x27;, &#x27;3&#x27;, &#x27;4&#x27;, &#x27;162&#x27;, &#x27;587&#x27;])])</pre></div></div></div><div class=\"sk-parallel\"><div class=\"sk-parallel-item\"><div class=\"sk-item\"><div class=\"sk-label-container\"><div class=\"sk-label sk-toggleable\"><input class=\"sk-toggleable__control sk-hidden--visually\" id=\"sk-estimator-id-14\" type=\"checkbox\" ><label for=\"sk-estimator-id-14\" class=\"sk-toggleable__label sk-toggleable__label-arrow\">num</label><div class=\"sk-toggleable__content\"><pre>[&#x27;5&#x27;, &#x27;6&#x27;, &#x27;7&#x27;, &#x27;8&#x27;, &#x27;9&#x27;, &#x27;10&#x27;, &#x27;11&#x27;, &#x27;12&#x27;, &#x27;13&#x27;, &#x27;14&#x27;, &#x27;15&#x27;, &#x27;16&#x27;, &#x27;17&#x27;, &#x27;18&#x27;, &#x27;19&#x27;, &#x27;20&#x27;, &#x27;21&#x27;, &#x27;22&#x27;, &#x27;23&#x27;, &#x27;24&#x27;, &#x27;25&#x27;, &#x27;26&#x27;, &#x27;27&#x27;, &#x27;28&#x27;, &#x27;29&#x27;, &#x27;30&#x27;, &#x27;31&#x27;, &#x27;32&#x27;, &#x27;33&#x27;, &#x27;34&#x27;, &#x27;35&#x27;, &#x27;36&#x27;, &#x27;37&#x27;, &#x27;38&#x27;, &#x27;39&#x27;, &#x27;40&#x27;, &#x27;41&#x27;, &#x27;42&#x27;, &#x27;43&#x27;, &#x27;44&#x27;, &#x27;45&#x27;, &#x27;46&#x27;, &#x27;47&#x27;, &#x27;48&#x27;, &#x27;49&#x27;, &#x27;50&#x27;, &#x27;51&#x27;, &#x27;52&#x27;, &#x27;53&#x27;, &#x27;54&#x27;, &#x27;55&#x27;, &#x27;56&#x27;, &#x27;57&#x27;, &#x27;58&#x27;, &#x27;59&#x27;, &#x27;60&#x27;, &#x27;61&#x27;, &#x27;62&#x27;, &#x27;63&#x27;, &#x27;64&#x27;, &#x27;65&#x27;, &#x27;66&#x27;, &#x27;67&#x27;, &#x27;68&#x27;, &#x27;69&#x27;, &#x27;70&#x27;, &#x27;71&#x27;, &#x27;72&#x27;, &#x27;73&#x27;, &#x27;74&#x27;, &#x27;75&#x27;, &#x27;76&#x27;, &#x27;77&#x27;, &#x27;78&#x27;, &#x27;79&#x27;, &#x27;80&#x27;, &#x27;81&#x27;, &#x27;82&#x27;, &#x27;83&#x27;, &#x27;84&#x27;, &#x27;85&#x27;, &#x27;86&#x27;, &#x27;87&#x27;, &#x27;88&#x27;, &#x27;89&#x27;, &#x27;90&#x27;, &#x27;91&#x27;, &#x27;92&#x27;, &#x27;93&#x27;, &#x27;94&#x27;, &#x27;95&#x27;, &#x27;96&#x27;, &#x27;97&#x27;, &#x27;98&#x27;, &#x27;99&#x27;, &#x27;100&#x27;, &#x27;101&#x27;, &#x27;102&#x27;, &#x27;103&#x27;, &#x27;104&#x27;, &#x27;105&#x27;, &#x27;106&#x27;, &#x27;107&#x27;, &#x27;108&#x27;, &#x27;109&#x27;, &#x27;110&#x27;, &#x27;111&#x27;, &#x27;112&#x27;, &#x27;113&#x27;, &#x27;114&#x27;, &#x27;115&#x27;, &#x27;116&#x27;, &#x27;117&#x27;, &#x27;118&#x27;, &#x27;119&#x27;, &#x27;120&#x27;, &#x27;121&#x27;, &#x27;122&#x27;, &#x27;123&#x27;, &#x27;124&#x27;, &#x27;125&#x27;, &#x27;126&#x27;, &#x27;127&#x27;, &#x27;128&#x27;, &#x27;129&#x27;, &#x27;130&#x27;, &#x27;131&#x27;, &#x27;132&#x27;, &#x27;133&#x27;, &#x27;134&#x27;, &#x27;135&#x27;, &#x27;136&#x27;, &#x27;137&#x27;, &#x27;138&#x27;, &#x27;139&#x27;, &#x27;140&#x27;, &#x27;141&#x27;, &#x27;142&#x27;, &#x27;143&#x27;, &#x27;144&#x27;, &#x27;145&#x27;, &#x27;146&#x27;, &#x27;147&#x27;, &#x27;148&#x27;, &#x27;149&#x27;, &#x27;150&#x27;, &#x27;151&#x27;, &#x27;152&#x27;, &#x27;153&#x27;, &#x27;154&#x27;, &#x27;155&#x27;, &#x27;156&#x27;, &#x27;157&#x27;, &#x27;158&#x27;, &#x27;159&#x27;, &#x27;160&#x27;, &#x27;161&#x27;, &#x27;163&#x27;, &#x27;164&#x27;, &#x27;165&#x27;, &#x27;166&#x27;, &#x27;167&#x27;, &#x27;168&#x27;, &#x27;169&#x27;, &#x27;170&#x27;, &#x27;171&#x27;, &#x27;172&#x27;, &#x27;173&#x27;, &#x27;174&#x27;, &#x27;175&#x27;, &#x27;176&#x27;, &#x27;177&#x27;, &#x27;178&#x27;, &#x27;179&#x27;, &#x27;180&#x27;, &#x27;181&#x27;, &#x27;182&#x27;, &#x27;183&#x27;, &#x27;184&#x27;, &#x27;185&#x27;, &#x27;186&#x27;, &#x27;187&#x27;, &#x27;188&#x27;, &#x27;189&#x27;, &#x27;190&#x27;, &#x27;191&#x27;, &#x27;192&#x27;, &#x27;193&#x27;, &#x27;194&#x27;, &#x27;195&#x27;, &#x27;196&#x27;, &#x27;197&#x27;, &#x27;198&#x27;, &#x27;199&#x27;, &#x27;200&#x27;, &#x27;201&#x27;, &#x27;202&#x27;, &#x27;203&#x27;, &#x27;204&#x27;, &#x27;205&#x27;, &#x27;206&#x27;, &#x27;207&#x27;, &#x27;208&#x27;, &#x27;209&#x27;, &#x27;210&#x27;, &#x27;211&#x27;, &#x27;212&#x27;, &#x27;213&#x27;, &#x27;214&#x27;, &#x27;215&#x27;, &#x27;216&#x27;, &#x27;217&#x27;, &#x27;218&#x27;, &#x27;219&#x27;, &#x27;220&#x27;, &#x27;221&#x27;, &#x27;222&#x27;, &#x27;223&#x27;, &#x27;224&#x27;, &#x27;225&#x27;, &#x27;226&#x27;, &#x27;227&#x27;, &#x27;228&#x27;, &#x27;229&#x27;, &#x27;230&#x27;, &#x27;231&#x27;, &#x27;232&#x27;, &#x27;233&#x27;, &#x27;234&#x27;, &#x27;235&#x27;, &#x27;236&#x27;, &#x27;237&#x27;, &#x27;238&#x27;, &#x27;239&#x27;, &#x27;240&#x27;, &#x27;241&#x27;, &#x27;242&#x27;, &#x27;243&#x27;, &#x27;244&#x27;, &#x27;245&#x27;, &#x27;246&#x27;, &#x27;247&#x27;, &#x27;248&#x27;, &#x27;249&#x27;, &#x27;250&#x27;, &#x27;251&#x27;, &#x27;252&#x27;, &#x27;253&#x27;, &#x27;254&#x27;, &#x27;255&#x27;, &#x27;256&#x27;, &#x27;257&#x27;, &#x27;258&#x27;, &#x27;259&#x27;, &#x27;260&#x27;, &#x27;261&#x27;, &#x27;262&#x27;, &#x27;263&#x27;, &#x27;264&#x27;, &#x27;265&#x27;, &#x27;266&#x27;, &#x27;267&#x27;, &#x27;268&#x27;, &#x27;269&#x27;, &#x27;270&#x27;, &#x27;271&#x27;, &#x27;272&#x27;, &#x27;273&#x27;, &#x27;274&#x27;, &#x27;275&#x27;, &#x27;276&#x27;, &#x27;277&#x27;, &#x27;278&#x27;, &#x27;279&#x27;, &#x27;280&#x27;, &#x27;281&#x27;, &#x27;282&#x27;, &#x27;283&#x27;, &#x27;284&#x27;, &#x27;285&#x27;, &#x27;286&#x27;, &#x27;287&#x27;, &#x27;288&#x27;, &#x27;289&#x27;, &#x27;290&#x27;, &#x27;291&#x27;, &#x27;292&#x27;, &#x27;293&#x27;, &#x27;294&#x27;, &#x27;295&#x27;, &#x27;296&#x27;, &#x27;297&#x27;, &#x27;298&#x27;, &#x27;299&#x27;, &#x27;300&#x27;, &#x27;301&#x27;, &#x27;302&#x27;, &#x27;303&#x27;, &#x27;304&#x27;, &#x27;305&#x27;, &#x27;306&#x27;, &#x27;307&#x27;, &#x27;308&#x27;, &#x27;309&#x27;, &#x27;310&#x27;, &#x27;311&#x27;, &#x27;312&#x27;, &#x27;313&#x27;, &#x27;314&#x27;, &#x27;315&#x27;, &#x27;316&#x27;, &#x27;317&#x27;, &#x27;318&#x27;, &#x27;319&#x27;, &#x27;320&#x27;, &#x27;321&#x27;, &#x27;322&#x27;, &#x27;323&#x27;, &#x27;324&#x27;, &#x27;325&#x27;, &#x27;326&#x27;, &#x27;327&#x27;, &#x27;328&#x27;, &#x27;329&#x27;, &#x27;330&#x27;, &#x27;331&#x27;, &#x27;332&#x27;, &#x27;333&#x27;, &#x27;334&#x27;, &#x27;335&#x27;, &#x27;336&#x27;, &#x27;337&#x27;, &#x27;338&#x27;, &#x27;339&#x27;, &#x27;340&#x27;, &#x27;341&#x27;, &#x27;342&#x27;, &#x27;343&#x27;, &#x27;344&#x27;, &#x27;345&#x27;, &#x27;346&#x27;, &#x27;347&#x27;, &#x27;348&#x27;, &#x27;349&#x27;, &#x27;350&#x27;, &#x27;351&#x27;, &#x27;352&#x27;, &#x27;353&#x27;, &#x27;354&#x27;, &#x27;355&#x27;, &#x27;356&#x27;, &#x27;357&#x27;, &#x27;358&#x27;, &#x27;359&#x27;, &#x27;360&#x27;, &#x27;361&#x27;, &#x27;362&#x27;, &#x27;363&#x27;, &#x27;364&#x27;, &#x27;365&#x27;, &#x27;366&#x27;, &#x27;367&#x27;, &#x27;368&#x27;, &#x27;369&#x27;, &#x27;370&#x27;, &#x27;371&#x27;, &#x27;372&#x27;, &#x27;373&#x27;, &#x27;374&#x27;, &#x27;375&#x27;, &#x27;376&#x27;, &#x27;377&#x27;, &#x27;378&#x27;, &#x27;379&#x27;, &#x27;380&#x27;, &#x27;381&#x27;, &#x27;382&#x27;, &#x27;383&#x27;, &#x27;384&#x27;, &#x27;385&#x27;, &#x27;386&#x27;, &#x27;387&#x27;, &#x27;388&#x27;, &#x27;389&#x27;, &#x27;390&#x27;, &#x27;391&#x27;, &#x27;392&#x27;, &#x27;393&#x27;, &#x27;394&#x27;, &#x27;395&#x27;, &#x27;396&#x27;, &#x27;397&#x27;, &#x27;398&#x27;, &#x27;399&#x27;, &#x27;400&#x27;, &#x27;401&#x27;, &#x27;402&#x27;, &#x27;403&#x27;, &#x27;404&#x27;, &#x27;405&#x27;, &#x27;406&#x27;, &#x27;407&#x27;, &#x27;408&#x27;, &#x27;409&#x27;, &#x27;410&#x27;, &#x27;411&#x27;, &#x27;412&#x27;, &#x27;413&#x27;, &#x27;414&#x27;, &#x27;415&#x27;, &#x27;416&#x27;, &#x27;417&#x27;, &#x27;418&#x27;, &#x27;419&#x27;, &#x27;420&#x27;, &#x27;421&#x27;, &#x27;422&#x27;, &#x27;423&#x27;, &#x27;424&#x27;, &#x27;425&#x27;, &#x27;426&#x27;, &#x27;427&#x27;, &#x27;428&#x27;, &#x27;429&#x27;, &#x27;430&#x27;, &#x27;431&#x27;, &#x27;432&#x27;, &#x27;433&#x27;, &#x27;434&#x27;, &#x27;435&#x27;, &#x27;436&#x27;, &#x27;437&#x27;, &#x27;438&#x27;, &#x27;439&#x27;, &#x27;440&#x27;, &#x27;441&#x27;, &#x27;442&#x27;, &#x27;443&#x27;, &#x27;444&#x27;, &#x27;445&#x27;, &#x27;446&#x27;, &#x27;447&#x27;, &#x27;448&#x27;, &#x27;449&#x27;, &#x27;450&#x27;, &#x27;451&#x27;, &#x27;452&#x27;, &#x27;453&#x27;, &#x27;454&#x27;, &#x27;455&#x27;, &#x27;456&#x27;, &#x27;457&#x27;, &#x27;458&#x27;, &#x27;459&#x27;, &#x27;460&#x27;, &#x27;461&#x27;, &#x27;462&#x27;, &#x27;463&#x27;, &#x27;464&#x27;, &#x27;465&#x27;, &#x27;466&#x27;, &#x27;467&#x27;, &#x27;468&#x27;, &#x27;469&#x27;, &#x27;470&#x27;, &#x27;471&#x27;, &#x27;472&#x27;, &#x27;473&#x27;, &#x27;474&#x27;, &#x27;475&#x27;, &#x27;476&#x27;, &#x27;477&#x27;, &#x27;478&#x27;, &#x27;479&#x27;, &#x27;480&#x27;, &#x27;481&#x27;, &#x27;482&#x27;, &#x27;483&#x27;, &#x27;484&#x27;, &#x27;485&#x27;, &#x27;486&#x27;, &#x27;487&#x27;, &#x27;488&#x27;, &#x27;489&#x27;, &#x27;490&#x27;, &#x27;491&#x27;, &#x27;492&#x27;, &#x27;493&#x27;, &#x27;494&#x27;, &#x27;495&#x27;, &#x27;496&#x27;, &#x27;497&#x27;, &#x27;498&#x27;, &#x27;499&#x27;, &#x27;500&#x27;, &#x27;501&#x27;, &#x27;502&#x27;, &#x27;503&#x27;, &#x27;504&#x27;, &#x27;505&#x27;, &#x27;506&#x27;, &#x27;507&#x27;, &#x27;508&#x27;, &#x27;509&#x27;, &#x27;510&#x27;, &#x27;511&#x27;, &#x27;512&#x27;, &#x27;513&#x27;, &#x27;514&#x27;, &#x27;515&#x27;, &#x27;516&#x27;, &#x27;517&#x27;, &#x27;518&#x27;, &#x27;519&#x27;, &#x27;520&#x27;, &#x27;521&#x27;, &#x27;522&#x27;, &#x27;523&#x27;, &#x27;524&#x27;, &#x27;525&#x27;, &#x27;526&#x27;, &#x27;527&#x27;, &#x27;528&#x27;, &#x27;529&#x27;, &#x27;530&#x27;, &#x27;531&#x27;, &#x27;532&#x27;, &#x27;533&#x27;, &#x27;534&#x27;, &#x27;535&#x27;, &#x27;536&#x27;, &#x27;537&#x27;, &#x27;538&#x27;, &#x27;539&#x27;, &#x27;540&#x27;, &#x27;541&#x27;, &#x27;542&#x27;, &#x27;543&#x27;, &#x27;544&#x27;, &#x27;545&#x27;, &#x27;546&#x27;, &#x27;547&#x27;, &#x27;548&#x27;, &#x27;549&#x27;, &#x27;550&#x27;, &#x27;551&#x27;, &#x27;552&#x27;, &#x27;553&#x27;, &#x27;554&#x27;, &#x27;555&#x27;, &#x27;556&#x27;, &#x27;557&#x27;, &#x27;558&#x27;, &#x27;559&#x27;, &#x27;560&#x27;, &#x27;561&#x27;, &#x27;562&#x27;, &#x27;563&#x27;, &#x27;564&#x27;, &#x27;565&#x27;, &#x27;566&#x27;, &#x27;567&#x27;, &#x27;568&#x27;, &#x27;569&#x27;, &#x27;570&#x27;, &#x27;571&#x27;, &#x27;572&#x27;, &#x27;573&#x27;, &#x27;574&#x27;, &#x27;575&#x27;, &#x27;576&#x27;, &#x27;577&#x27;, &#x27;578&#x27;, &#x27;579&#x27;, &#x27;580&#x27;, &#x27;581&#x27;, &#x27;582&#x27;, &#x27;583&#x27;, &#x27;584&#x27;, &#x27;585&#x27;, &#x27;586&#x27;, &#x27;588&#x27;, &#x27;589&#x27;, &#x27;590&#x27;, &#x27;591&#x27;, &#x27;592&#x27;, &#x27;593&#x27;, &#x27;594&#x27;, &#x27;595&#x27;, &#x27;596&#x27;, &#x27;597&#x27;, &#x27;598&#x27;, &#x27;599&#x27;, &#x27;600&#x27;, &#x27;601&#x27;, &#x27;602&#x27;, &#x27;603&#x27;]</pre></div></div></div><div class=\"sk-serial\"><div class=\"sk-item\"><div class=\"sk-serial\"><div class=\"sk-item\"><div class=\"sk-estimator sk-toggleable\"><input class=\"sk-toggleable__control sk-hidden--visually\" id=\"sk-estimator-id-15\" type=\"checkbox\" ><label for=\"sk-estimator-id-15\" class=\"sk-toggleable__label sk-toggleable__label-arrow\">SimpleImputer</label><div class=\"sk-toggleable__content\"><pre>SimpleImputer()</pre></div></div></div></div></div></div></div></div><div class=\"sk-parallel-item\"><div class=\"sk-item\"><div class=\"sk-label-container\"><div class=\"sk-label sk-toggleable\"><input class=\"sk-toggleable__control sk-hidden--visually\" id=\"sk-estimator-id-16\" type=\"checkbox\" ><label for=\"sk-estimator-id-16\" class=\"sk-toggleable__label sk-toggleable__label-arrow\">cat</label><div class=\"sk-toggleable__content\"><pre>[&#x27;0&#x27;, &#x27;1&#x27;, &#x27;2&#x27;, &#x27;3&#x27;, &#x27;4&#x27;, &#x27;162&#x27;, &#x27;587&#x27;]</pre></div></div></div><div class=\"sk-serial\"><div class=\"sk-item\"><div class=\"sk-serial\"><div class=\"sk-item\"><div class=\"sk-estimator sk-toggleable\"><input class=\"sk-toggleable__control sk-hidden--visually\" id=\"sk-estimator-id-17\" type=\"checkbox\" ><label for=\"sk-estimator-id-17\" class=\"sk-toggleable__label sk-toggleable__label-arrow\">SimpleImputer</label><div class=\"sk-toggleable__content\"><pre>SimpleImputer(strategy=&#x27;most_frequent&#x27;)</pre></div></div></div><div class=\"sk-item\"><div class=\"sk-estimator sk-toggleable\"><input class=\"sk-toggleable__control sk-hidden--visually\" id=\"sk-estimator-id-18\" type=\"checkbox\" ><label for=\"sk-estimator-id-18\" class=\"sk-toggleable__label sk-toggleable__label-arrow\">OneHotEncoder</label><div class=\"sk-toggleable__content\"><pre>OneHotEncoder(dtype=&lt;class &#x27;int&#x27;&gt;, handle_unknown=&#x27;ignore&#x27;)</pre></div></div></div></div></div></div></div></div></div></div><div class=\"sk-item\"><div class=\"sk-estimator sk-toggleable\"><input class=\"sk-toggleable__control sk-hidden--visually\" id=\"sk-estimator-id-19\" type=\"checkbox\" ><label for=\"sk-estimator-id-19\" class=\"sk-toggleable__label sk-toggleable__label-arrow\">SelectPercentile</label><div class=\"sk-toggleable__content\"><pre>SelectPercentile(percentile=100)</pre></div></div></div></div></div><div class=\"sk-item\"><div class=\"sk-estimator sk-toggleable\"><input class=\"sk-toggleable__control sk-hidden--visually\" id=\"sk-estimator-id-20\" type=\"checkbox\" ><label for=\"sk-estimator-id-20\" class=\"sk-toggleable__label sk-toggleable__label-arrow\">Ridge</label><div class=\"sk-toggleable__content\"><pre>Ridge()</pre></div></div></div></div></div></div></div>"
      ],
      "text/plain": [
       "Pipeline(steps=[('preprocessor',\n",
       "                 Pipeline(steps=[('column',\n",
       "                                  ColumnTransformer(transformers=[('num',\n",
       "                                                                   Pipeline(steps=[('imputer',\n",
       "                                                                                    SimpleImputer())]),\n",
       "                                                                   ['5', '6',\n",
       "                                                                    '7', '8',\n",
       "                                                                    '9', '10',\n",
       "                                                                    '11', '12',\n",
       "                                                                    '13', '14',\n",
       "                                                                    '15', '16',\n",
       "                                                                    '17', '18',\n",
       "                                                                    '19', '20',\n",
       "                                                                    '21', '22',\n",
       "                                                                    '23', '24',\n",
       "                                                                    '25', '26',\n",
       "                                                                    '27', '28',\n",
       "                                                                    '29', '30',\n",
       "                                                                    '31', '32',\n",
       "                                                                    '33', '34', ...]),\n",
       "                                                                  ('cat',\n",
       "                                                                   Pipeline(steps=[('imputer',\n",
       "                                                                                    SimpleImputer(strategy='most_frequent')),\n",
       "                                                                                   ('encoder',\n",
       "                                                                                    OneHotEncoder(dtype=<class 'int'>,\n",
       "                                                                                                  handle_unknown='ignore'))]),\n",
       "                                                                   ['0', '1',\n",
       "                                                                    '2', '3',\n",
       "                                                                    '4', '162',\n",
       "                                                                    '587'])])),\n",
       "                                 ('selector',\n",
       "                                  SelectPercentile(percentile=100))])),\n",
       "                ('classifier', Ridge())])"
      ]
     },
     "execution_count": 18,
     "metadata": {},
     "output_type": "execute_result"
    }
   ],
   "source": [
    "def remove_outlier(X, q=0.05):  \n",
    "    df = pd.DataFrame(X)\n",
    "    return df.apply(lambda x: x.clip(x.quantile(q), x.quantile(1-q)), axis=0).values\n",
    "\n",
    "numeric_transformer = Pipeline(\n",
    "    steps=[\n",
    "        (\"imputer\", SimpleImputer(strategy=\"mean\")),\n",
    "#         (\"outlier\", FunctionTransformer(remove_outlier, kw_args={'q':0.05})),\n",
    "#         (\"scaler\", PowerTransformer()),\n",
    "    ]\n",
    ")\n",
    "\n",
    "categorical_transformer = Pipeline(\n",
    "    steps=[\n",
    "        (\"imputer\", SimpleImputer(strategy=\"most_frequent\")),\n",
    "        (\"encoder\", OneHotEncoder(handle_unknown='ignore', dtype=int)),\n",
    "    ]\n",
    ")\n",
    "\n",
    "column_transformer = ColumnTransformer(\n",
    "    transformers=[\n",
    "        (\"num\", numeric_transformer, numeric_features),\n",
    "        (\"cat\", categorical_transformer, categorical_features),\n",
    "    ]\n",
    ")\n",
    "\n",
    "preprocessor = Pipeline(\n",
    "    steps=[\n",
    "        (\"column\", column_transformer),\n",
    "        (\"selector\", SelectPercentile(percentile=100)),\n",
    "    ]\n",
    ")\n",
    "\n",
    "model = Pipeline(\n",
    "    steps=[\n",
    "        (\"preprocessor\", preprocessor),\n",
    "        (\"classifier\", Ridge(alpha=1.0)),\n",
    "    ]\n",
    ")\n",
    "\n",
    "set_config(display=\"diagram\")  # To view the text pipeline, change to display='text'.\n",
    "model"
   ]
  },
  {
   "cell_type": "code",
   "execution_count": 19,
   "id": "95399845",
   "metadata": {},
   "outputs": [
    {
     "name": "stdout",
     "output_type": "stream",
     "text": [
      "model :  Pipeline\n"
     ]
    }
   ],
   "source": [
    "ridge_train, ridge_test = get_stacking_data(model, X_train, y_train, X_test)"
   ]
  },
  {
   "cell_type": "code",
   "execution_count": 20,
   "id": "21f64d5c",
   "metadata": {},
   "outputs": [],
   "source": [
    "ridge_data = pd.concat([pd.DataFrame(ridge_train), pd.DataFrame(ridge_test)],axis=1)\n",
    "ridge_data.columns = ['modelC_ridge_train','modelC_ridge_test']\n",
    "ridge_data.to_csv('modelC_ridge_data.csv')"
   ]
  },
  {
   "cell_type": "code",
   "execution_count": 21,
   "id": "ddd2220a",
   "metadata": {},
   "outputs": [
    {
     "name": "stdout",
     "output_type": "stream",
     "text": [
      "Default LM CV scores:  [874.79451406 862.40047736 881.82715962 878.14297538 865.96435707]\n",
      "Default LM CV mean = 872.66 with std = 113.07\n"
     ]
    }
   ],
   "source": [
    "from sklearn.model_selection import cross_val_score, ShuffleSplit\n",
    "\n",
    "sscv = ShuffleSplit(test_size=0.3334, n_splits=5,random_state=0)\n",
    "scores = cross_val_score(model, X_train, y_train, scoring='neg_mean_squared_error', cv=sscv)\n",
    "\n",
    "print(\"Default LM CV scores: \", np.sqrt(-1*scores))\n",
    "print(\"Default LM CV mean = %.2f\" % np.sqrt(-1*scores.mean()), \"with std = %.2f\" % np.sqrt(scores.std()))"
   ]
  },
  {
   "cell_type": "markdown",
   "id": "9dedd394",
   "metadata": {},
   "source": [
    "## 준영 BEST 2"
   ]
  },
  {
   "cell_type": "code",
   "execution_count": 29,
   "id": "2283d36f",
   "metadata": {},
   "outputs": [],
   "source": [
    "X_train  = pd.read_csv('X_train2.csv',encoding='cp949').drop(columns='Unnamed: 0')\n",
    "X_test = pd.read_csv('X_test2.csv',encoding='cp949').drop(columns='Unnamed: 0')\n",
    "y_train = pd.read_csv('y_train.csv')['Salary']"
   ]
  },
  {
   "cell_type": "code",
   "execution_count": 30,
   "id": "f38d0a3e",
   "metadata": {},
   "outputs": [],
   "source": [
    "X_test['직무태그'] = X_test['직무태그'].fillna('없음')\n",
    "X_test['첫직무태그'] = X_test['첫직무태그'].fillna('없음')"
   ]
  },
  {
   "cell_type": "markdown",
   "id": "f59b80dd",
   "metadata": {},
   "source": [
    "### CATBOOST"
   ]
  },
  {
   "cell_type": "code",
   "execution_count": 35,
   "id": "f4a82f67",
   "metadata": {},
   "outputs": [],
   "source": [
    "def get_stacking_data(model, X_train, y_train, X_test, n_folds=5):      \n",
    "  kfold = KFold(n_splits = n_folds,shuffle=True, random_state = 27)\n",
    "  \n",
    "\n",
    "  train_fold_predict = np.zeros((X_train.shape[0],1))\n",
    "\n",
    "  test_predict = np.zeros((X_test.shape[0], n_folds))\n",
    "  print('model : ',model.__class__.__name__)\n",
    "  \n",
    "  for cnt, (train_index, valid_index) in enumerate(kfold.split(X_train)):\n",
    "    X_train_ = X_train.iloc[train_index]\n",
    "    y_train_ = y_train.iloc[train_index]\n",
    "    X_valid = X_train.iloc[valid_index]\n",
    "\n",
    "    # 학습\n",
    "    model.fit(X_train_,y_train_)\n",
    "    # 해당 폴드에서 학습된 모델에다가 검증 데이터 (X_valid)로 예측 후 저장\n",
    "    train_fold_predict[valid_index,:] = model.predict(X_valid).reshape(-1,1)\n",
    "    # 해당 폴드에서 생성된 모델에게 원본 테스트 데이터 (X_test)를 이용해서 예측하고 저장\n",
    "    test_predict[:,cnt] = model.predict(X_test)\n",
    "  \n",
    "  # for 문이 끝나면 test_pred는 평균을 내서 하나로 합친다.\n",
    "  test_predict_mean = np.mean(test_predict, axis=1).reshape(-1,1)\n",
    "  \n",
    "  return train_fold_predict, test_predict_mean"
   ]
  },
  {
   "cell_type": "code",
   "execution_count": 36,
   "id": "08dbc0d7",
   "metadata": {},
   "outputs": [],
   "source": [
    "categorical_features = list(X_train.select_dtypes(include=\"object\").columns)\n",
    "numeric_features = list(X_test.select_dtypes(exclude=\"object\").columns)\n",
    "model = CatBoostRegressor(cat_features=categorical_features, verbose=False ,random_state=0)"
   ]
  },
  {
   "cell_type": "code",
   "execution_count": 37,
   "id": "d0216a76",
   "metadata": {
    "scrolled": true
   },
   "outputs": [
    {
     "name": "stdout",
     "output_type": "stream",
     "text": [
      "model :  CatBoostRegressor\n"
     ]
    }
   ],
   "source": [
    "cat_train , cat_test = get_stacking_data(model, X_train, y_train, X_test)"
   ]
  },
  {
   "cell_type": "code",
   "execution_count": 38,
   "id": "3ce52ee1",
   "metadata": {},
   "outputs": [],
   "source": [
    "cat_data = pd.concat([pd.DataFrame(cat_train), pd.DataFrame(cat_test)],axis=1)\n",
    "cat_data.columns = ['modelD_cat_train','modelD_cat_test']\n",
    "cat_data.to_csv('modelD_cat_data.csv')"
   ]
  },
  {
   "cell_type": "markdown",
   "id": "aad6cf94",
   "metadata": {},
   "source": [
    "### LGBM"
   ]
  },
  {
   "cell_type": "code",
   "execution_count": 39,
   "id": "4ebeda69",
   "metadata": {},
   "outputs": [],
   "source": [
    "# X_train.columns = list(map(str,X_train.columns))\n",
    "# X_test.columns = list(map(str,X_test.columns))\n",
    "# X_train.columns = X_train.columns+'temp'\n",
    "# X_test.columns = X_test.columns+'temp'\n",
    "categorical_features = list(X_train.select_dtypes(include=\"object\").columns)\n",
    "numeric_features = list(X_test.select_dtypes(exclude=\"object\").columns)\n",
    "X_train = X_train[numeric_features+categorical_features]\n",
    "X_test = X_test[numeric_features+categorical_features]"
   ]
  },
  {
   "cell_type": "code",
   "execution_count": null,
   "id": "cb42b6f1",
   "metadata": {},
   "outputs": [],
   "source": [
    "def get_stacking_data(model, X_train, y_train, X_test, n_folds=5):      # 위에서 설명한 3-fold stacking 입니당\n",
    "  kfold = KFold(n_splits = n_folds,shuffle=True, random_state = 27)\n",
    "  \n",
    "\n",
    "  train_fold_predict = np.zeros((X_train.shape[0],1))\n",
    "\n",
    "  test_predict = np.zeros((X_test.shape[0], n_folds))\n",
    "  print('model : ',model.__class__.__name__)\n",
    "  \n",
    "  for cnt, (train_index, valid_index) in enumerate(kfold.split(X_train)):\n",
    "    X_train_ = X_train.iloc[train_index]\n",
    "    y_train_ = y_train.iloc[train_index]\n",
    "    X_valid = X_train.iloc[valid_index]\n",
    "\n",
    "    # 학습\n",
    "    model.fit(X_train_,y_train_)\n",
    "    # 해당 폴드에서 학습된 모델에다가 검증 데이터 (X_valid)로 예측 후 저장\n",
    "    train_fold_predict[valid_index,:] = model.predict(X_valid).reshape(-1,1)\n",
    "    # 해당 폴드에서 생성된 모델에게 원본 테스트 데이터 (X_test)를 이용해서 예측하고 저장\n",
    "    test_predict[:,cnt] = model.predict(X_test)\n",
    "  \n",
    "  # for 문이 끝나면 test_pred는 평균을 내서 하나로 합친다.\n",
    "  test_predict_mean = np.mean(test_predict, axis=1).reshape(-1,1)\n",
    "  \n",
    "  return train_fold_predict, test_predict_mean"
   ]
  },
  {
   "cell_type": "code",
   "execution_count": 43,
   "id": "f2c0ca6b",
   "metadata": {},
   "outputs": [
    {
     "data": {
      "text/html": [
       "<style>#sk-8e5a2480-02e6-43f7-8352-c2f81c937cc9 {color: black;background-color: white;}#sk-8e5a2480-02e6-43f7-8352-c2f81c937cc9 pre{padding: 0;}#sk-8e5a2480-02e6-43f7-8352-c2f81c937cc9 div.sk-toggleable {background-color: white;}#sk-8e5a2480-02e6-43f7-8352-c2f81c937cc9 label.sk-toggleable__label {cursor: pointer;display: block;width: 100%;margin-bottom: 0;padding: 0.2em 0.3em;box-sizing: border-box;text-align: center;}#sk-8e5a2480-02e6-43f7-8352-c2f81c937cc9 div.sk-toggleable__content {max-height: 0;max-width: 0;overflow: hidden;text-align: left;background-color: #f0f8ff;}#sk-8e5a2480-02e6-43f7-8352-c2f81c937cc9 div.sk-toggleable__content pre {margin: 0.2em;color: black;border-radius: 0.25em;background-color: #f0f8ff;}#sk-8e5a2480-02e6-43f7-8352-c2f81c937cc9 input.sk-toggleable__control:checked~div.sk-toggleable__content {max-height: 200px;max-width: 100%;overflow: auto;}#sk-8e5a2480-02e6-43f7-8352-c2f81c937cc9 div.sk-estimator input.sk-toggleable__control:checked~label.sk-toggleable__label {background-color: #d4ebff;}#sk-8e5a2480-02e6-43f7-8352-c2f81c937cc9 div.sk-label input.sk-toggleable__control:checked~label.sk-toggleable__label {background-color: #d4ebff;}#sk-8e5a2480-02e6-43f7-8352-c2f81c937cc9 input.sk-hidden--visually {border: 0;clip: rect(1px 1px 1px 1px);clip: rect(1px, 1px, 1px, 1px);height: 1px;margin: -1px;overflow: hidden;padding: 0;position: absolute;width: 1px;}#sk-8e5a2480-02e6-43f7-8352-c2f81c937cc9 div.sk-estimator {font-family: monospace;background-color: #f0f8ff;margin: 0.25em 0.25em;border: 1px dotted black;border-radius: 0.25em;box-sizing: border-box;}#sk-8e5a2480-02e6-43f7-8352-c2f81c937cc9 div.sk-estimator:hover {background-color: #d4ebff;}#sk-8e5a2480-02e6-43f7-8352-c2f81c937cc9 div.sk-parallel-item::after {content: \"\";width: 100%;border-bottom: 1px solid gray;flex-grow: 1;}#sk-8e5a2480-02e6-43f7-8352-c2f81c937cc9 div.sk-label:hover label.sk-toggleable__label {background-color: #d4ebff;}#sk-8e5a2480-02e6-43f7-8352-c2f81c937cc9 div.sk-serial::before {content: \"\";position: absolute;border-left: 1px solid gray;box-sizing: border-box;top: 2em;bottom: 0;left: 50%;}#sk-8e5a2480-02e6-43f7-8352-c2f81c937cc9 div.sk-serial {display: flex;flex-direction: column;align-items: center;background-color: white;}#sk-8e5a2480-02e6-43f7-8352-c2f81c937cc9 div.sk-item {z-index: 1;}#sk-8e5a2480-02e6-43f7-8352-c2f81c937cc9 div.sk-parallel {display: flex;align-items: stretch;justify-content: center;background-color: white;}#sk-8e5a2480-02e6-43f7-8352-c2f81c937cc9 div.sk-parallel-item {display: flex;flex-direction: column;position: relative;background-color: white;}#sk-8e5a2480-02e6-43f7-8352-c2f81c937cc9 div.sk-parallel-item:first-child::after {align-self: flex-end;width: 50%;}#sk-8e5a2480-02e6-43f7-8352-c2f81c937cc9 div.sk-parallel-item:last-child::after {align-self: flex-start;width: 50%;}#sk-8e5a2480-02e6-43f7-8352-c2f81c937cc9 div.sk-parallel-item:only-child::after {width: 0;}#sk-8e5a2480-02e6-43f7-8352-c2f81c937cc9 div.sk-dashed-wrapped {border: 1px dashed gray;margin: 0.2em;box-sizing: border-box;padding-bottom: 0.1em;background-color: white;position: relative;}#sk-8e5a2480-02e6-43f7-8352-c2f81c937cc9 div.sk-label label {font-family: monospace;font-weight: bold;background-color: white;display: inline-block;line-height: 1.2em;}#sk-8e5a2480-02e6-43f7-8352-c2f81c937cc9 div.sk-label-container {position: relative;z-index: 2;text-align: center;}#sk-8e5a2480-02e6-43f7-8352-c2f81c937cc9 div.sk-container {display: inline-block;position: relative;}</style><div id=\"sk-8e5a2480-02e6-43f7-8352-c2f81c937cc9\" class\"sk-top-container\"><div class=\"sk-container\"><div class=\"sk-item sk-dashed-wrapped\"><div class=\"sk-label-container\"><div class=\"sk-label sk-toggleable\"><input class=\"sk-toggleable__control sk-hidden--visually\" id=\"fd845356-5e15-4e75-a57a-dfc6dcca7aab\" type=\"checkbox\" ><label class=\"sk-toggleable__label\" for=\"fd845356-5e15-4e75-a57a-dfc6dcca7aab\">Pipeline</label><div class=\"sk-toggleable__content\"><pre>Pipeline(steps=[('preprocessor',\n",
       "                 Pipeline(steps=[('column',\n",
       "                                  ColumnTransformer(transformers=[('num',\n",
       "                                                                   Pipeline(steps=[('imputer',\n",
       "                                                                                    SimpleImputer())]),\n",
       "                                                                   ['근무경력']),\n",
       "                                                                  ('cat',\n",
       "                                                                   Pipeline(steps=[('imputer',\n",
       "                                                                                    SimpleImputer(strategy='most_frequent')),\n",
       "                                                                                   ('encoder',\n",
       "                                                                                    OneHotEncoder(dtype=<class 'int'>,\n",
       "                                                                                                  handle_unknown='ignore'))]),\n",
       "                                                                   ['직종',\n",
       "                                                                    '세부직종',\n",
       "                                                                    '직무태그',\n",
       "                                                                    '근무형태',\n",
       "                                                                    '근무지역',\n",
       "                                                                    '출신대학',\n",
       "                                                                    '대학전공',\n",
       "                                                                    '어학시험',\n",
       "                                                                    '자격증',\n",
       "                                                                    '대학성적',\n",
       "                                                                    '여대',\n",
       "                                                                    '첫직무태그'])])),\n",
       "                                 ('selector',\n",
       "                                  SelectPercentile(percentile=100))])),\n",
       "                ('classifier', LGBMRegressor(random_state=0))])</pre></div></div></div><div class=\"sk-serial\"><div class=\"sk-item\"><div class=\"sk-label-container\"><div class=\"sk-label sk-toggleable\"><input class=\"sk-toggleable__control sk-hidden--visually\" id=\"785deb13-f905-4d12-823b-bec553eff6a1\" type=\"checkbox\" ><label class=\"sk-toggleable__label\" for=\"785deb13-f905-4d12-823b-bec553eff6a1\">preprocessor: Pipeline</label><div class=\"sk-toggleable__content\"><pre>Pipeline(steps=[('column',\n",
       "                 ColumnTransformer(transformers=[('num',\n",
       "                                                  Pipeline(steps=[('imputer',\n",
       "                                                                   SimpleImputer())]),\n",
       "                                                  ['근무경력']),\n",
       "                                                 ('cat',\n",
       "                                                  Pipeline(steps=[('imputer',\n",
       "                                                                   SimpleImputer(strategy='most_frequent')),\n",
       "                                                                  ('encoder',\n",
       "                                                                   OneHotEncoder(dtype=<class 'int'>,\n",
       "                                                                                 handle_unknown='ignore'))]),\n",
       "                                                  ['직종', '세부직종', '직무태그', '근무형태',\n",
       "                                                   '근무지역', '출신대학', '대학전공',\n",
       "                                                   '어학시험', '자격증', '대학성적', '여대',\n",
       "                                                   '첫직무태그'])])),\n",
       "                ('selector', SelectPercentile(percentile=100))])</pre></div></div></div><div class=\"sk-serial\"><div class=\"sk-item sk-dashed-wrapped\"><div class=\"sk-label-container\"><div class=\"sk-label sk-toggleable\"><input class=\"sk-toggleable__control sk-hidden--visually\" id=\"f5867602-7825-48da-86d4-795afdd663fa\" type=\"checkbox\" ><label class=\"sk-toggleable__label\" for=\"f5867602-7825-48da-86d4-795afdd663fa\">column: ColumnTransformer</label><div class=\"sk-toggleable__content\"><pre>ColumnTransformer(transformers=[('num',\n",
       "                                 Pipeline(steps=[('imputer', SimpleImputer())]),\n",
       "                                 ['근무경력']),\n",
       "                                ('cat',\n",
       "                                 Pipeline(steps=[('imputer',\n",
       "                                                  SimpleImputer(strategy='most_frequent')),\n",
       "                                                 ('encoder',\n",
       "                                                  OneHotEncoder(dtype=<class 'int'>,\n",
       "                                                                handle_unknown='ignore'))]),\n",
       "                                 ['직종', '세부직종', '직무태그', '근무형태', '근무지역', '출신대학',\n",
       "                                  '대학전공', '어학시험', '자격증', '대학성적', '여대',\n",
       "                                  '첫직무태그'])])</pre></div></div></div><div class=\"sk-parallel\"><div class=\"sk-parallel-item\"><div class=\"sk-item\"><div class=\"sk-label-container\"><div class=\"sk-label sk-toggleable\"><input class=\"sk-toggleable__control sk-hidden--visually\" id=\"f3e68de2-ee37-4291-ae77-2ae7781f9173\" type=\"checkbox\" ><label class=\"sk-toggleable__label\" for=\"f3e68de2-ee37-4291-ae77-2ae7781f9173\">num</label><div class=\"sk-toggleable__content\"><pre>['근무경력']</pre></div></div></div><div class=\"sk-serial\"><div class=\"sk-item\"><div class=\"sk-serial\"><div class=\"sk-item\"><div class=\"sk-estimator sk-toggleable\"><input class=\"sk-toggleable__control sk-hidden--visually\" id=\"4f37f2b3-2f3e-4fa9-8de9-3a9d54a86549\" type=\"checkbox\" ><label class=\"sk-toggleable__label\" for=\"4f37f2b3-2f3e-4fa9-8de9-3a9d54a86549\">SimpleImputer</label><div class=\"sk-toggleable__content\"><pre>SimpleImputer()</pre></div></div></div></div></div></div></div></div><div class=\"sk-parallel-item\"><div class=\"sk-item\"><div class=\"sk-label-container\"><div class=\"sk-label sk-toggleable\"><input class=\"sk-toggleable__control sk-hidden--visually\" id=\"ce65515e-9c5f-41c6-a572-a58a118c5a1c\" type=\"checkbox\" ><label class=\"sk-toggleable__label\" for=\"ce65515e-9c5f-41c6-a572-a58a118c5a1c\">cat</label><div class=\"sk-toggleable__content\"><pre>['직종', '세부직종', '직무태그', '근무형태', '근무지역', '출신대학', '대학전공', '어학시험', '자격증', '대학성적', '여대', '첫직무태그']</pre></div></div></div><div class=\"sk-serial\"><div class=\"sk-item\"><div class=\"sk-serial\"><div class=\"sk-item\"><div class=\"sk-estimator sk-toggleable\"><input class=\"sk-toggleable__control sk-hidden--visually\" id=\"2c45d11a-7fcb-4b69-b146-450d0cd69b99\" type=\"checkbox\" ><label class=\"sk-toggleable__label\" for=\"2c45d11a-7fcb-4b69-b146-450d0cd69b99\">SimpleImputer</label><div class=\"sk-toggleable__content\"><pre>SimpleImputer(strategy='most_frequent')</pre></div></div></div><div class=\"sk-item\"><div class=\"sk-estimator sk-toggleable\"><input class=\"sk-toggleable__control sk-hidden--visually\" id=\"affb05be-9912-41d8-8d16-bbae2f59d5fa\" type=\"checkbox\" ><label class=\"sk-toggleable__label\" for=\"affb05be-9912-41d8-8d16-bbae2f59d5fa\">OneHotEncoder</label><div class=\"sk-toggleable__content\"><pre>OneHotEncoder(dtype=<class 'int'>, handle_unknown='ignore')</pre></div></div></div></div></div></div></div></div></div></div><div class=\"sk-item\"><div class=\"sk-estimator sk-toggleable\"><input class=\"sk-toggleable__control sk-hidden--visually\" id=\"1351dea6-8873-4795-ad09-1fe3f84c36b3\" type=\"checkbox\" ><label class=\"sk-toggleable__label\" for=\"1351dea6-8873-4795-ad09-1fe3f84c36b3\">SelectPercentile</label><div class=\"sk-toggleable__content\"><pre>SelectPercentile(percentile=100)</pre></div></div></div></div></div><div class=\"sk-item\"><div class=\"sk-estimator sk-toggleable\"><input class=\"sk-toggleable__control sk-hidden--visually\" id=\"b00cf960-0442-4708-9fae-318b0f151aa7\" type=\"checkbox\" ><label class=\"sk-toggleable__label\" for=\"b00cf960-0442-4708-9fae-318b0f151aa7\">LGBMRegressor</label><div class=\"sk-toggleable__content\"><pre>LGBMRegressor(random_state=0)</pre></div></div></div></div></div></div></div>"
      ],
      "text/plain": [
       "Pipeline(steps=[('preprocessor',\n",
       "                 Pipeline(steps=[('column',\n",
       "                                  ColumnTransformer(transformers=[('num',\n",
       "                                                                   Pipeline(steps=[('imputer',\n",
       "                                                                                    SimpleImputer())]),\n",
       "                                                                   ['근무경력']),\n",
       "                                                                  ('cat',\n",
       "                                                                   Pipeline(steps=[('imputer',\n",
       "                                                                                    SimpleImputer(strategy='most_frequent')),\n",
       "                                                                                   ('encoder',\n",
       "                                                                                    OneHotEncoder(dtype=<class 'int'>,\n",
       "                                                                                                  handle_unknown='ignore'))]),\n",
       "                                                                   ['직종',\n",
       "                                                                    '세부직종',\n",
       "                                                                    '직무태그',\n",
       "                                                                    '근무형태',\n",
       "                                                                    '근무지역',\n",
       "                                                                    '출신대학',\n",
       "                                                                    '대학전공',\n",
       "                                                                    '어학시험',\n",
       "                                                                    '자격증',\n",
       "                                                                    '대학성적',\n",
       "                                                                    '여대',\n",
       "                                                                    '첫직무태그'])])),\n",
       "                                 ('selector',\n",
       "                                  SelectPercentile(percentile=100))])),\n",
       "                ('classifier', LGBMRegressor(random_state=0))])"
      ]
     },
     "execution_count": 43,
     "metadata": {},
     "output_type": "execute_result"
    }
   ],
   "source": [
    "def remove_outlier(X, q=0.05):  \n",
    "    df = pd.DataFrame(X)\n",
    "    return df.apply(lambda x: x.clip(x.quantile(q), x.quantile(1-q)), axis=0).values\n",
    "\n",
    "numeric_transformer = Pipeline(\n",
    "    steps=[\n",
    "        (\"imputer\", SimpleImputer(strategy=\"mean\")),\n",
    "#         (\"outlier\", FunctionTransformer(remove_outlier, kw_args={'q':0.05})),\n",
    "#         (\"scaler\", PowerTransformer()),\n",
    "    ]\n",
    ")\n",
    "\n",
    "categorical_transformer = Pipeline(\n",
    "    steps=[\n",
    "        (\"imputer\", SimpleImputer(strategy=\"most_frequent\")),\n",
    "        (\"encoder\", OneHotEncoder(handle_unknown='ignore', dtype=int)),\n",
    "    ]\n",
    ")\n",
    "\n",
    "column_transformer = ColumnTransformer(\n",
    "    transformers=[\n",
    "        (\"num\", numeric_transformer, numeric_features),\n",
    "        (\"cat\", categorical_transformer, categorical_features),\n",
    "    ]\n",
    ")\n",
    "\n",
    "preprocessor = Pipeline(\n",
    "    steps=[\n",
    "        (\"column\", column_transformer),\n",
    "        (\"selector\", SelectPercentile(percentile=100)),\n",
    "    ]\n",
    ")\n",
    "\n",
    "model = Pipeline(\n",
    "    steps=[\n",
    "        (\"preprocessor\", preprocessor),\n",
    "        (\"classifier\", LGBMRegressor(random_state=0)),\n",
    "    ]\n",
    ")\n",
    "\n",
    "set_config(display=\"diagram\")  # To view the text pipeline, change to display='text'.\n",
    "model"
   ]
  },
  {
   "cell_type": "code",
   "execution_count": 41,
   "id": "6bc9528c",
   "metadata": {},
   "outputs": [
    {
     "name": "stdout",
     "output_type": "stream",
     "text": [
      "model :  Pipeline\n"
     ]
    }
   ],
   "source": [
    "lgbm_train, lgbm_test = get_stacking_data(model, X_train, y_train, X_test)"
   ]
  },
  {
   "cell_type": "code",
   "execution_count": 42,
   "id": "0ae3450a",
   "metadata": {},
   "outputs": [],
   "source": [
    "lgbm_data = pd.concat([pd.DataFrame(lgbm_train), pd.DataFrame(lgbm_test)],axis=1)\n",
    "lgbm_data.columns = ['modelD_lgbm_train','modelD_lgbm_test']\n",
    "lgbm_data.to_csv('modelD_lgbm_data.csv')"
   ]
  },
  {
   "cell_type": "code",
   "execution_count": 44,
   "id": "504d12df",
   "metadata": {},
   "outputs": [
    {
     "name": "stdout",
     "output_type": "stream",
     "text": [
      "Default LM CV scores:  [848.59829142 834.45323841 857.62415867 844.47914948 834.11045214]\n",
      "Default LM CV mean = 843.90 with std = 122.63\n"
     ]
    }
   ],
   "source": [
    "from sklearn.model_selection import cross_val_score, ShuffleSplit\n",
    "\n",
    "sscv = ShuffleSplit(test_size=0.3334, n_splits=5,random_state=0)\n",
    "scores = cross_val_score(model, X_train, y_train, scoring='neg_mean_squared_error', cv=sscv)\n",
    "\n",
    "print(\"Default LM CV scores: \", np.sqrt(-1*scores))\n",
    "print(\"Default LM CV mean = %.2f\" % np.sqrt(-1*scores.mean()), \"with std = %.2f\" % np.sqrt(scores.std()))"
   ]
  }
 ],
 "metadata": {
  "kernelspec": {
   "display_name": "Python 3 (ipykernel)",
   "language": "python",
   "name": "python3"
  },
  "language_info": {
   "codemirror_mode": {
    "name": "ipython",
    "version": 3
   },
   "file_extension": ".py",
   "mimetype": "text/x-python",
   "name": "python",
   "nbconvert_exporter": "python",
   "pygments_lexer": "ipython3",
   "version": "3.9.7"
  }
 },
 "nbformat": 4,
 "nbformat_minor": 5
}
