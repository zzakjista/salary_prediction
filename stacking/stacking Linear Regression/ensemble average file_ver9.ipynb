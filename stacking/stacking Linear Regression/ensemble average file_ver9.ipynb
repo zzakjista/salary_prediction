{
 "cells": [
  {
   "cell_type": "code",
   "execution_count": 2,
   "id": "fa136645",
   "metadata": {},
   "outputs": [],
   "source": [
    "run -i import_file.py"
   ]
  },
  {
   "cell_type": "code",
   "execution_count": 3,
   "id": "4f46211e",
   "metadata": {},
   "outputs": [],
   "source": [
    "one = pd.read_csv('LM_9.01_800.29_333.32.csv')['Salary']\n",
    "two = pd.read_csv('LM_9.02_800.21_333.04.csv')['Salary']\n",
    "th = pd.read_csv('LM_9.03_800.21_333.04.csv')['Salary']\n",
    "fo = pd.read_csv('LM_9.04_800.10_323.60.csv')['Salary']\n",
    "fi = pd.read_csv('LM_9.05_800.21_333.04.csv')['Salary']\n",
    "si = pd.read_csv('LM_9.06_800.10_323.60.csv')['Salary']\n",
    "se = pd.read_csv('LM_9.07_800.10_323.60.csv')['Salary']\n",
    "ei = pd.read_csv('LM_9.08_800.10_323.60.csv')['Salary']\n",
    "ni = pd.read_csv('LM_9.09_800.21_333.04.csv')['Salary']\n",
    "te = pd.read_csv('LM_9.10_800.10_323.60.csv')['Salary']\n",
    "test_id   = pd.read_csv('LM_9.10_800.10_323.60.csv')['ID']"
   ]
  },
  {
   "cell_type": "code",
   "execution_count": 4,
   "id": "a23a6fc3",
   "metadata": {},
   "outputs": [],
   "source": [
    "oof_pred = (one + two +th+fo+fi+si+se+ei+ni+te)/10"
   ]
  },
  {
   "cell_type": "code",
   "execution_count": 5,
   "id": "abca4d1f",
   "metadata": {},
   "outputs": [],
   "source": [
    "# submission 화일 생성\n",
    "LM_VERSION = 'final_1125'\n",
    "\n",
    "filename = f'LM_{LM_VERSION}_.csv'\n",
    "pd.DataFrame({'ID':test_id, 'Salary':oof_pred}).to_csv(filename, index=False)"
   ]
  }
 ],
 "metadata": {
  "kernelspec": {
   "display_name": "Python 3 (ipykernel)",
   "language": "python",
   "name": "python3"
  },
  "language_info": {
   "codemirror_mode": {
    "name": "ipython",
    "version": 3
   },
   "file_extension": ".py",
   "mimetype": "text/x-python",
   "name": "python",
   "nbconvert_exporter": "python",
   "pygments_lexer": "ipython3",
   "version": "3.9.7"
  }
 },
 "nbformat": 4,
 "nbformat_minor": 5
}
