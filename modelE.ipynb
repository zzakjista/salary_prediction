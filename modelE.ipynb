{
 "cells": [
  {
   "cell_type": "code",
   "execution_count": 2,
   "id": "7cb6cec4",
   "metadata": {},
   "outputs": [],
   "source": [
    "run -i import_file.py"
   ]
  },
  {
   "cell_type": "code",
   "execution_count": 3,
   "id": "b6a3dfde",
   "metadata": {},
   "outputs": [],
   "source": [
    "X_train = pd.read_csv('X_train.csv', encoding='cp949').drop(columns='ID')\n",
    "y_train = pd.read_csv('y_train.csv', encoding='cp949').Salary\n",
    "X_test = pd.read_csv('X_test.csv', encoding='cp949')\n",
    "test_id = X_test.pop('ID')\n",
    "X = pd.concat([X_train,X_test])\n",
    "Xy_train = pd.concat([X_train,y_train],axis=1)\n",
    "a,b = X_train.copy(), X_test.copy()"
   ]
  },
  {
   "cell_type": "code",
   "execution_count": 4,
   "id": "4946e060",
   "metadata": {},
   "outputs": [],
   "source": [
    "X_train['직무태그'].str.split(',').apply(lambda x: pd.Series(x)).to_csv('직무태그.csv',encoding='cp949')"
   ]
  },
  {
   "cell_type": "code",
   "execution_count": 5,
   "id": "524e8366",
   "metadata": {
    "scrolled": true
   },
   "outputs": [
    {
     "name": "stdout",
     "output_type": "stream",
     "text": [
      "['Malgun Gothic']\n"
     ]
    },
    {
     "data": {
      "image/png": "[encoded data removed]",
      "text/plain": [
       "<Figure size 1152x576 with 1 Axes>"
      ]
     },
     "metadata": {
      "needs_background": "light"
     },
     "output_type": "display_data"
    }
   ],
   "source": [
    "plt.rc('font', family='Malgun Gothic')\n",
    "print(plt.rcParams['font.family'])\n",
    "\n",
    "\n",
    "total = X.isnull().sum().sort_values(ascending=False)\n",
    "percent = (X.isnull().sum()/X.isnull().count()).sort_values(ascending=False)\n",
    "missing_data = pd.concat([total, percent], axis=1, keys=['Total', 'Percent'])\n",
    "missing_data.head(20)\n",
    "\n",
    "missing_data=missing_data.head(35)\n",
    "f, ax = plt.subplots(figsize=(16, 8))\n",
    "plt.xticks(rotation='90')\n",
    "sns.barplot(x=missing_data.index, y=missing_data['Percent'])\n",
    "plt.title('Percent missing data by feature', fontsize=15)\n",
    "plt.xlabel('Features', fontsize=15)\n",
    "plt.ylabel('Percent of missing values', fontsize=15)\n",
    "plt.show()"
   ]
  },
  {
   "cell_type": "code",
   "execution_count": 6,
   "id": "fb0c1d9d",
   "metadata": {},
   "outputs": [],
   "source": [
    "#범주, 수치형 변수 나누기\n",
    "numeric_feats = X.dtypes[X.dtypes != \"object\"].index\n",
    "categoric_feats = X.dtypes[X.dtypes == \"object\"].index\n",
    "\n",
    "# Get features with missing values\n",
    "na_numeric_feats = [k for k, v in X[numeric_feats].isnull().sum().to_dict().items() if v > 0]\n",
    "na_categoric_feats = [k for k, v in X[categoric_feats].isnull().sum().to_dict().items() if v > 0]"
   ]
  },
  {
   "cell_type": "markdown",
   "id": "ac327c68",
   "metadata": {},
   "source": [
    "- 대학시험 전처리"
   ]
  },
  {
   "cell_type": "code",
   "execution_count": 7,
   "id": "85478196",
   "metadata": {},
   "outputs": [
    {
     "data": {
      "text/plain": [
       "<seaborn.axisgrid.FacetGrid at 0x1c1685a2610>"
      ]
     },
     "execution_count": 7,
     "metadata": {},
     "output_type": "execute_result"
    },
    {
     "data": {
      "image/png": "[encoded data removed]",
      "text/plain": [
       "<Figure size 360x360 with 1 Axes>"
      ]
     },
     "metadata": {
      "needs_background": "light"
     },
     "output_type": "display_data"
    }
   ],
   "source": [
    "#수치형변수 결측값 처리 & 분포도\n",
    "imp = SimpleImputer(strategy=\"median\")\n",
    "X_train[na_numeric_feats] = imp.fit_transform(X_train[na_numeric_feats])\n",
    "X_test[na_numeric_feats] = imp.transform(X_test[na_numeric_feats])\n",
    "sns.displot(X_train['대학성적'])"
   ]
  },
  {
   "cell_type": "markdown",
   "id": "d7058d24",
   "metadata": {},
   "source": [
    "- 어학시험 전처리"
   ]
  },
  {
   "cell_type": "code",
   "execution_count": 8,
   "id": "66f9bfcb",
   "metadata": {},
   "outputs": [],
   "source": [
    "def language(X):\n",
    "    X['어학시험'] = X['어학시험'].fillna('없음')\n",
    "    X['어학시험'] = np.where(X['어학시험'] == ' ','없음',X['어학시험'])\n",
    "    X['어학시험'] = np.where(X['어학시험'].str.startswith('기타'), '기타' ,X['어학시험'])\n",
    "    X['어학시험'] = np.where(X['어학시험'].str.startswith('TOEFL'), 'TOEFL' ,X['어학시험'])\n",
    "    X['어학시험'] = np.where(X['어학시험'].str.startswith('G-TELP'), 'G-TELP' ,X['어학시험'])\n",
    "    X['어학시험'] = np.where(X['어학시험'].str.endswith('LF') , 'DELF' ,X['어학시험'])\n",
    "    X['어학시험'] = np.where(X['어학시험'].str.endswith('HSK') , 'HSK' ,X['어학시험'])\n",
    "    X['어학시험'] = np.where(X['어학시험'].str.startswith('J'), 'JLPT' ,X['어학시험'])"
   ]
  },
  {
   "cell_type": "code",
   "execution_count": 9,
   "id": "b90de6a8",
   "metadata": {},
   "outputs": [],
   "source": [
    "language(X_train)\n",
    "language(X_test)"
   ]
  },
  {
   "cell_type": "markdown",
   "id": "b8ee4793",
   "metadata": {},
   "source": [
    "- 근무형태 and 근무형태 해외(Feature Generation)"
   ]
  },
  {
   "cell_type": "code",
   "execution_count": 10,
   "id": "22b123a8",
   "metadata": {},
   "outputs": [],
   "source": [
    "def workshape(X):\n",
    "    null_list = X[X['근무경력']=='0개월'].index\n",
    "    X['근무형태'][null_list] = X['근무형태'][null_list].fillna('경력없음')\n",
    "    X['근무형태'] = X['근무형태'].fillna('missing')\n",
    "    X['근무형태'] = np.where(X['근무형태'].str.startswith('정규직'), '정규직' ,X['근무형태'])\n",
    "    X['근무형태'] = np.where(X['근무형태'].str.startswith('계약직'), '계약직' ,X['근무형태'])\n",
    "    X['근무형태'] = np.where(X['근무형태'].str.startswith('인턴'), '인턴' ,X['근무형태'])"
   ]
  },
  {
   "cell_type": "code",
   "execution_count": 11,
   "id": "ca449ab1",
   "metadata": {},
   "outputs": [],
   "source": [
    "workshape(X_train)\n",
    "workshape(X_test)"
   ]
  },
  {
   "cell_type": "code",
   "execution_count": 12,
   "id": "5167af8d",
   "metadata": {},
   "outputs": [],
   "source": [
    "X_train['근무형태_해외'] =X_train['근무형태']\n",
    "X_test['근무형태_해외'] =X_train['근무형태']"
   ]
  },
  {
   "cell_type": "code",
   "execution_count": 13,
   "id": "8ab44dba",
   "metadata": {},
   "outputs": [],
   "source": [
    "def workshape2(X):\n",
    "    for i in range(X.shape[0]):\n",
    "        if '해외취업' in X.loc[i,'근무형태_해외']:\n",
    "            X.loc[i,'근무형태_해외'] = '해외'\n",
    "\n",
    "        else:\n",
    "            X.loc[i,'근무형태_해외'] = '국내'"
   ]
  },
  {
   "cell_type": "code",
   "execution_count": 14,
   "id": "dcc2c262",
   "metadata": {
    "scrolled": true
   },
   "outputs": [],
   "source": [
    "workshape2(X_train)\n",
    "workshape2(X_test)"
   ]
  },
  {
   "cell_type": "markdown",
   "id": "3a4078f2",
   "metadata": {},
   "source": [
    "- 근무지역 전처리"
   ]
  },
  {
   "cell_type": "code",
   "execution_count": 15,
   "id": "821dc02b",
   "metadata": {},
   "outputs": [
    {
     "data": {
      "text/html": [
       "<div>\n",
       "<style scoped>\n",
       "    .dataframe tbody tr th:only-of-type {\n",
       "        vertical-align: middle;\n",
       "    }\n",
       "\n",
       "    .dataframe tbody tr th {\n",
       "        vertical-align: top;\n",
       "    }\n",
       "\n",
       "    .dataframe thead th {\n",
       "        text-align: right;\n",
       "    }\n",
       "</style>\n",
       "<table border=\"1\" class=\"dataframe\">\n",
       "  <thead>\n",
       "    <tr style=\"text-align: right;\">\n",
       "      <th></th>\n",
       "      <th>근무1지역</th>\n",
       "      <th>근무2지역</th>\n",
       "      <th>근무3지역</th>\n",
       "    </tr>\n",
       "  </thead>\n",
       "  <tbody>\n",
       "    <tr>\n",
       "      <th>0</th>\n",
       "      <td>서울</td>\n",
       "      <td>중국</td>\n",
       "      <td>캐나다</td>\n",
       "    </tr>\n",
       "    <tr>\n",
       "      <th>1</th>\n",
       "      <td>서울</td>\n",
       "      <td>없음</td>\n",
       "      <td>없음</td>\n",
       "    </tr>\n",
       "    <tr>\n",
       "      <th>2</th>\n",
       "      <td>경남</td>\n",
       "      <td>경북</td>\n",
       "      <td>부산</td>\n",
       "    </tr>\n",
       "    <tr>\n",
       "      <th>3</th>\n",
       "      <td>경기</td>\n",
       "      <td>서울</td>\n",
       "      <td>없음</td>\n",
       "    </tr>\n",
       "    <tr>\n",
       "      <th>4</th>\n",
       "      <td>경기</td>\n",
       "      <td>서울</td>\n",
       "      <td>없음</td>\n",
       "    </tr>\n",
       "    <tr>\n",
       "      <th>...</th>\n",
       "      <td>...</td>\n",
       "      <td>...</td>\n",
       "      <td>...</td>\n",
       "    </tr>\n",
       "    <tr>\n",
       "      <th>11043</th>\n",
       "      <td>부산</td>\n",
       "      <td>서울</td>\n",
       "      <td>없음</td>\n",
       "    </tr>\n",
       "    <tr>\n",
       "      <th>11044</th>\n",
       "      <td>경기</td>\n",
       "      <td>서울</td>\n",
       "      <td>인천</td>\n",
       "    </tr>\n",
       "    <tr>\n",
       "      <th>11045</th>\n",
       "      <td>경기</td>\n",
       "      <td>서울</td>\n",
       "      <td>없음</td>\n",
       "    </tr>\n",
       "    <tr>\n",
       "      <th>11046</th>\n",
       "      <td>부산</td>\n",
       "      <td>없음</td>\n",
       "      <td>없음</td>\n",
       "    </tr>\n",
       "    <tr>\n",
       "      <th>11047</th>\n",
       "      <td>경기</td>\n",
       "      <td>서울</td>\n",
       "      <td>인천</td>\n",
       "    </tr>\n",
       "  </tbody>\n",
       "</table>\n",
       "<p>11048 rows × 3 columns</p>\n",
       "</div>"
      ],
      "text/plain": [
       "      근무1지역 근무2지역 근무3지역\n",
       "0        서울    중국   캐나다\n",
       "1        서울    없음    없음\n",
       "2        경남    경북    부산\n",
       "3        경기    서울    없음\n",
       "4        경기    서울    없음\n",
       "...     ...   ...   ...\n",
       "11043    부산    서울    없음\n",
       "11044    경기    서울    인천\n",
       "11045    경기    서울    없음\n",
       "11046    부산    없음    없음\n",
       "11047    경기    서울    인천\n",
       "\n",
       "[11048 rows x 3 columns]"
      ]
     },
     "execution_count": 15,
     "metadata": {},
     "output_type": "execute_result"
    }
   ],
   "source": [
    "#근무지역 중복 제거 및 분할\n",
    "def worksite(X):\n",
    "    geo = X['근무지역'].str.split(',').apply(lambda x: pd.Series(x))\n",
    "    geo[0]\n",
    "    geo_lst = []\n",
    "    for i in range(geo.shape[0]):\n",
    "        geo_lst.append(sorted(list(set(geo.loc[i,:]))))\n",
    "    geo_mat = pd.DataFrame(geo_lst)\n",
    "    geo_mat = geo_mat.fillna('')\n",
    "    temp = (geo_mat[0] + ' ' + geo_mat[1] + ' ' +  geo_mat[2]).str.strip()\n",
    "    site_df = temp.str.split(' ').apply(lambda x: pd.Series(x)).fillna('없음')\n",
    "    site_df.columns = ['근무1지역', '근무2지역', '근무3지역']\n",
    "    return site_df\n",
    "\n",
    "worksite(X_train)\n",
    "worksite(X_test)"
   ]
  },
  {
   "cell_type": "code",
   "execution_count": 16,
   "id": "e160a52a",
   "metadata": {},
   "outputs": [],
   "source": [
    "#한번만 실행\n",
    "site_df = worksite(X_train)\n",
    "X_train = pd.concat([X_train,site_df],axis=1)\n",
    "X_train.drop(columns='근무지역',inplace=True)\n",
    "\n",
    "site_df = worksite(X_test)\n",
    "X_test = pd.concat([X_test,site_df],axis=1)\n",
    "X_test.drop(columns='근무지역',inplace=True)"
   ]
  },
  {
   "cell_type": "markdown",
   "id": "11bb5093",
   "metadata": {},
   "source": [
    "- 대학전공 and 대학전공 계열(Feature Generation)"
   ]
  },
  {
   "cell_type": "code",
   "execution_count": 17,
   "id": "09a73b65",
   "metadata": {},
   "outputs": [],
   "source": [
    "def major_cat(X):\n",
    "    major_cat = pd.read_csv('major_cat.csv',encoding='cp949')\n",
    "    for i in range(X.shape[0]):\n",
    "        if X.loc[i,'대학전공'] in set(major_cat['문과'].values):\n",
    "            X.loc[i,'대학전공_계열'] = '인문계열'\n",
    "        elif X.loc[i,'대학전공'] in set(major_cat['이과'].values):\n",
    "            X.loc[i,'대학전공_계열'] = '자연,공학계열'\n",
    "        elif X.loc[i,'대학전공'] in set(major_cat['예체능'].values):\n",
    "            X.loc[i,'대학전공_계열'] = '예체능계열'\n",
    "        else:\n",
    "            X.loc[i,'대학전공_계열'] = '기타'"
   ]
  },
  {
   "cell_type": "code",
   "execution_count": 18,
   "id": "b24fb5bf",
   "metadata": {},
   "outputs": [],
   "source": [
    "major_cat(X_train)\n",
    "major_cat(X_test)"
   ]
  },
  {
   "cell_type": "code",
   "execution_count": 19,
   "id": "bad8abe0",
   "metadata": {},
   "outputs": [
    {
     "name": "stdout",
     "output_type": "stream",
     "text": [
      "인문계열       0.465540\n",
      "자연,공학계열    0.387870\n",
      "예체능계열      0.114424\n",
      "기타         0.032167\n",
      "Name: 대학전공_계열, dtype: float64\n",
      "인문계열       0.448226\n",
      "자연,공학계열    0.362871\n",
      "예체능계열      0.099475\n",
      "기타         0.089428\n",
      "Name: 대학전공_계열, dtype: float64\n"
     ]
    }
   ],
   "source": [
    "#Comment 분포가 비슷하게 나눠졌다\n",
    "print(X_train['대학전공_계열'].value_counts(normalize=True))\n",
    "print(X_test['대학전공_계열'].value_counts(normalize=True))"
   ]
  },
  {
   "cell_type": "code",
   "execution_count": 20,
   "id": "4a6fc02b",
   "metadata": {},
   "outputs": [],
   "source": [
    "def univ_level(X):\n",
    "    univ = pd.read_csv('univ_level.csv',encoding='cp949')\n",
    "    for i in range(X.shape[0]):\n",
    "        if X.loc[i,'출신대학'] in set(univ['상위권'].values):\n",
    "            X.loc[i,'출신대학_등급'] = '상위권'\n",
    "        elif X.loc[i,'출신대학'] in set(univ['중위권'].values):\n",
    "            X.loc[i,'출신대학_등급'] = '중위권'\n",
    "        elif X.loc[i,'출신대학'] in set(univ['하위권'].values):\n",
    "            X.loc[i,'출신대학_등급'] = '하위권'\n",
    "        else:\n",
    "            X.loc[i,'출신대학_등급'] = '기타'"
   ]
  },
  {
   "cell_type": "code",
   "execution_count": 21,
   "id": "453b4269",
   "metadata": {},
   "outputs": [],
   "source": [
    "univ_level(X_train)\n",
    "univ_level(X_test)"
   ]
  },
  {
   "cell_type": "markdown",
   "id": "c0bc20da",
   "metadata": {},
   "source": [
    "- 근무경력 전처리"
   ]
  },
  {
   "cell_type": "code",
   "execution_count": 22,
   "id": "3d6bc4e6",
   "metadata": {},
   "outputs": [],
   "source": [
    "X_train['년수'] = np.where(X_train['근무경력'].str.contains('년'),X_train['근무경력'].str[:3].str.replace('년',''),0).astype('int')\n",
    "X_test['년수'] = np.where(X_test['근무경력'].str.contains('년'),X_test['근무경력'].str[:3].str.replace('년',''),0).astype('int')\n",
    "X_train['개월 수'] = X_train['근무경력'].str[-4:].replace('개월').str.strip().str.replace('개월','').astype('int')\n",
    "X_test['개월 수'] = X_test['근무경력'].str[-4:].replace('개월').str.strip().str.replace('개월','').astype('int')\n",
    "X_train['연차'] = X_train['년수'] + X_train['개월 수']/12\n",
    "X_test['연차'] = X_test['년수'] + X_test['개월 수']/12\n",
    "X_train.drop(columns=['년수','개월 수'],inplace=True)\n",
    "X_test.drop(columns=['년수','개월 수'],inplace=True)"
   ]
  },
  {
   "cell_type": "markdown",
   "id": "5772d3f1",
   "metadata": {},
   "source": [
    "- 근무지역 국내외"
   ]
  },
  {
   "cell_type": "code",
   "execution_count": 23,
   "id": "ba1b7814",
   "metadata": {},
   "outputs": [],
   "source": [
    "out = ['필리핀', '인도네시아', '대만', '프랑스', '방글라데시', \n",
    "       '해외', '미국', '러시아', '말레이시아', '인도',\n",
    "       '일본', '싱가포르', '중국', '홍콩', '캐나다']\n",
    "def worksite_abroad(X):\n",
    "    for i in range(X.shape[0]):\n",
    "        if X.loc[i,'근무1지역'] in out:\n",
    "            X.loc[i,'근무지역_해외'] = '해외'\n",
    "        elif X.loc[i,'근무2지역'] in out:\n",
    "            X.loc[i,'근무지역_해외'] = '해외'\n",
    "        elif X.loc[i,'근무3지역'] in out:\n",
    "            X.loc[i,'근무지역_해외'] = '해외'\n",
    "        else:\n",
    "            X.loc[i,'근무지역_해외'] = '국내'"
   ]
  },
  {
   "cell_type": "code",
   "execution_count": 24,
   "id": "5323aa66",
   "metadata": {},
   "outputs": [],
   "source": [
    "worksite_abroad(X_train)\n",
    "worksite_abroad(X_test)"
   ]
  },
  {
   "cell_type": "markdown",
   "id": "02fa9492",
   "metadata": {},
   "source": [
    "------------ 1차 Feature Generation & processing -------------------\n",
    "- 직무태그 PCA안함"
   ]
  },
  {
   "cell_type": "markdown",
   "id": "e4326dba",
   "metadata": {},
   "source": [
    "- 출신대학 수도권_비수도권"
   ]
  },
  {
   "cell_type": "code",
   "execution_count": 25,
   "id": "de3fadb7",
   "metadata": {},
   "outputs": [],
   "source": [
    "def univ(X):    \n",
    "    for i in range(X.shape[0]):\n",
    "        if X.loc[i,'출신대학'] in metro:\n",
    "            X.loc[i,'출신대학_지역'] = '수도권'\n",
    "        else:\n",
    "            X.loc[i,'출신대학_지역'] = '비수도권'\n",
    "univ_list = list(pd.concat([X_train['출신대학'],y_train],axis=1).groupby('출신대학').mean().sort_values(by='Salary').index)\n",
    "metro = ['서울과학기술대학교','연세대학교','성균관대학교','중앙대학교',\n",
    " '이화여자대학교','경기대학교','인천대학교','세종대학교','수원대학교',\n",
    " '한국산업기술대학교','한성대학교','서울여자대학교','성신여자대학교','동덕여자대학교',\n",
    " '성공회대학교','용인대학교','협성대학교']\n",
    "side = []\n",
    "for i in univ_list:\n",
    "    if i not in metro:\n",
    "        side.append(i)\n",
    "univ(X_train)\n",
    "univ(X_test)"
   ]
  },
  {
   "cell_type": "markdown",
   "id": "46b4bcc7",
   "metadata": {},
   "source": [
    "- 스펙점수 방정식\n",
    " 출신대학_등급(3) 근무지역 해외(2) 어학시험유무(2) \n",
    "- 각 feature별로 점수 책정\n",
    "ex) 상위권(3) + 근무지역_해외(2) + 어학시험_무(1) = 7"
   ]
  },
  {
   "cell_type": "code",
   "execution_count": 26,
   "id": "5d99070a",
   "metadata": {},
   "outputs": [
    {
     "name": "stdout",
     "output_type": "stream",
     "text": [
      "('상위권 해외:', 3668.976683937824)\n",
      "('중위권 해외:', 3103.921568627451)\n",
      "('하위권 해외:', 2933.4371754932504)\n",
      "출신대학의 등급별로 해외 근무지에서의 연봉이 다르다\n",
      "('상위권 국내:', 3282.1186670279058)\n",
      "('중위권 국내:', 2628.6678667866786)\n",
      "('하위권 국내:', 2564.3475250951888)\n",
      "출신대학의 등급별로 국내 근무지에서의 연봉이 다르다\n"
     ]
    }
   ],
   "source": [
    "print(('상위권 해외:' ,pd.concat([X_train,y_train],axis=1)[(pd.concat([X_train,y_train],axis=1)['출신대학_등급']=='상위권') & (pd.concat([X_train,y_train],axis=1)['근무지역_해외']=='해외')]['Salary'].mean()))\n",
    "print(('중위권 해외:' ,pd.concat([X_train,y_train],axis=1)[(pd.concat([X_train,y_train],axis=1)['출신대학_등급']=='중위권') & (pd.concat([X_train,y_train],axis=1)['근무지역_해외']=='해외')]['Salary'].mean()))\n",
    "print(('하위권 해외:' ,pd.concat([X_train,y_train],axis=1)[(pd.concat([X_train,y_train],axis=1)['출신대학_등급']=='하위권') & (pd.concat([X_train,y_train],axis=1)['근무지역_해외']=='해외')]['Salary'].mean()))\n",
    "print('출신대학의 등급별로 해외 근무지에서의 연봉이 다르다')\n",
    "\n",
    "print(('상위권 국내:' ,pd.concat([X_train,y_train],axis=1)[(pd.concat([X_train,y_train],axis=1)['출신대학_등급']=='상위권') & (pd.concat([X_train,y_train],axis=1)['근무지역_해외']=='국내')]['Salary'].mean()))\n",
    "print(('중위권 국내:' ,pd.concat([X_train,y_train],axis=1)[(pd.concat([X_train,y_train],axis=1)['출신대학_등급']=='중위권') & (pd.concat([X_train,y_train],axis=1)['근무지역_해외']=='국내')]['Salary'].mean()))\n",
    "print(('하위권 국내:' ,pd.concat([X_train,y_train],axis=1)[(pd.concat([X_train,y_train],axis=1)['출신대학_등급']=='하위권') & (pd.concat([X_train,y_train],axis=1)['근무지역_해외']=='국내')]['Salary'].mean()))\n",
    "print('출신대학의 등급별로 국내 근무지에서의 연봉이 다르다')"
   ]
  },
  {
   "cell_type": "code",
   "execution_count": 27,
   "id": "7885395d",
   "metadata": {},
   "outputs": [],
   "source": [
    "def equation1(X):\n",
    "    rank = []\n",
    "    workabroad = []\n",
    "    languagetest = []\n",
    "    for i in range(X.shape[0]):\n",
    "        if X.loc[i,'출신대학_등급'] == '상위권':\n",
    "            rank.append(3)\n",
    "        elif X.loc[i,'출신대학_등급'] == '중위권':\n",
    "            rank.append(2)\n",
    "        else:\n",
    "            rank.append(1)\n",
    "    for i in range(X.shape[0]):\n",
    "        if X.loc[i,'근무지역_해외'] == '해외':\n",
    "            workabroad.append(2)\n",
    "        else:\n",
    "            workabroad.append(1)\n",
    "    for i in range(X.shape[0]):\n",
    "        if X.loc[i,'어학시험'] != '없음':\n",
    "            languagetest.append(2)\n",
    "        else:\n",
    "            languagetest.append(1)\n",
    "    equation_score = np.array(rank) + np.array(workabroad) + np.array(languagetest)\n",
    "    X['스펙점수'] = equation_score\n",
    "    \n",
    "equation1(X_train)\n",
    "equation1(X_test)"
   ]
  },
  {
   "cell_type": "markdown",
   "id": "09197c6e",
   "metadata": {},
   "source": [
    "- 세부직종 RANK생성"
   ]
  },
  {
   "cell_type": "code",
   "execution_count": 28,
   "id": "c8ab5870",
   "metadata": {},
   "outputs": [],
   "source": [
    "def specific_rank(X):\n",
    "    specific_rank = pd.read_csv('specific_rank.csv',encoding='cp949')\n",
    "    for i in range(X.shape[0]):\n",
    "        if X.loc[i,'세부직종'] in set(specific_rank['상위25%'].values):\n",
    "            X.loc[i,'세부직종_등급'] = 'A'\n",
    "        elif X.loc[i,'세부직종'] in set(specific_rank['상위50%'].values):\n",
    "            X.loc[i,'세부직종_등급'] = 'B'\n",
    "        elif X.loc[i,'세부직종'] in set(specific_rank['상위75%'].values):\n",
    "            X.loc[i,'세부직종_등급'] = 'C'\n",
    "        else:\n",
    "            X.loc[i,'세부직종_등급'] = 'D'\n",
    "specific_rank(X_train)\n",
    "specific_rank(X_test)"
   ]
  },
  {
   "cell_type": "markdown",
   "id": "bddf2580",
   "metadata": {},
   "source": [
    "- 직무태그 개수"
   ]
  },
  {
   "cell_type": "code",
   "execution_count": 29,
   "id": "57bcd05a",
   "metadata": {},
   "outputs": [],
   "source": [
    "X_train['직무태그'] = X_train['직무태그'].fillna('없음')\n",
    "X_test['직무태그'] = X_test['직무태그'].fillna('없음')"
   ]
  },
  {
   "cell_type": "code",
   "execution_count": 30,
   "id": "c397833c",
   "metadata": {},
   "outputs": [],
   "source": [
    "def tag_count(X):\n",
    "    X['직무태그'] = X['직무태그'].str.strip()\n",
    "    X['직무태그'] = X['직무태그'].str.replace(' ',',')\n",
    "\n",
    "    a = []\n",
    "    for i in X.직무태그.str.split(','):\n",
    "        b = len(i)\n",
    "        a.append(b)\n",
    "    X['직무태그_갯수'] = a\n",
    "tag_count(X_train)\n",
    "tag_count(X_test)"
   ]
  },
  {
   "cell_type": "markdown",
   "id": "01445431",
   "metadata": {},
   "source": [
    "- 숙련도"
   ]
  },
  {
   "cell_type": "code",
   "execution_count": 31,
   "id": "b619ce26",
   "metadata": {},
   "outputs": [],
   "source": [
    "def blacksmith(X):\n",
    "    a = []\n",
    "\n",
    "    for i in X['연차']:\n",
    "        if i==0:\n",
    "            b = '경력없음'\n",
    "        elif i <=24:\n",
    "            b = '하'\n",
    "        elif i <=48:\n",
    "            b = '중'\n",
    "        elif i <=72:\n",
    "            b = '중중'\n",
    "        else:\n",
    "            b = '상'\n",
    "        a.append(b)\n",
    "    X['숙련도'] = a\n",
    "blacksmith(X_train)\n",
    "blacksmith(X_test)\n",
    "    # data.drop(columns='근무경력', inplace=True)"
   ]
  },
  {
   "cell_type": "markdown",
   "id": "288eb777",
   "metadata": {},
   "source": [
    "### 1) 직무태그 처리\n",
    "- ver1 직무태그 결측치 및 pca n=423 -> cat_807\n",
    "- ver2 세부직종 레퍼런스 "
   ]
  },
  {
   "cell_type": "code",
   "execution_count": 32,
   "id": "f8d81855",
   "metadata": {},
   "outputs": [],
   "source": [
    "#ver1\n",
    "X_train['직무태그'] = X_train['직무태그'].fillna('없음')\n",
    "X_test['직무태그'] = X_test['직무태그'].fillna('없음')"
   ]
  },
  {
   "cell_type": "markdown",
   "id": "b6640692",
   "metadata": {},
   "source": [
    "### 2)직무태그 PCA"
   ]
  },
  {
   "cell_type": "code",
   "execution_count": 33,
   "id": "ee42b963",
   "metadata": {},
   "outputs": [],
   "source": [
    "data = pd.concat([X_train,X_test])\n",
    "sentences = data['직무태그']\n",
    "vectorizer = CountVectorizer()\n",
    "features = vectorizer.fit_transform(sentences)\n",
    "vocab = vectorizer.get_feature_names()\n",
    "new = pd.DataFrame(features.toarray(), columns = vocab)\n",
    "X_train_New = new[:16570]\n",
    "X_test_New = new[16570:]\n",
    "rnd_pca = PCA(n_components=423,svd_solver='randomized',random_state=2)\n",
    "X_train_reduced2 = rnd_pca.fit_transform(X_train_New)\n",
    "X_test_reduced2 = rnd_pca.transform(X_test_New)"
   ]
  },
  {
   "cell_type": "markdown",
   "id": "c7dc15fe",
   "metadata": {},
   "source": [
    "RAN = 0 : 810.80\n",
    "RAN = 2 : 811.08"
   ]
  },
  {
   "cell_type": "code",
   "execution_count": 34,
   "id": "b575cd6d",
   "metadata": {},
   "outputs": [],
   "source": [
    "train = pd.DataFrame(X_train_reduced2)\n",
    "test = pd.DataFrame(X_test_reduced2)\n",
    "X_train = pd.concat([X_train, train],axis=1)\n",
    "X_test = pd.concat([X_test, test],axis=1)"
   ]
  },
  {
   "cell_type": "code",
   "execution_count": 35,
   "id": "a39d9cce",
   "metadata": {},
   "outputs": [
    {
     "name": "stdout",
     "output_type": "stream",
     "text": [
      "CV scores:  [825.58864823 810.66451094 832.1940565  786.18102585 804.46887018]\n",
      "CV mean = 811.82 with std = 16.23\n"
     ]
    }
   ],
   "source": [
    "categorical_features = list(X_train.select_dtypes(include=\"object\").columns)\n",
    "numeric_features = list(X_test.select_dtypes(exclude=\"object\").columns)\n",
    "scores = []  # CV 결과 저장\n",
    "oof_pred = np.zeros(X_test.shape[0])  # OOF 저장\n",
    "\n",
    "kfold = KFold(n_splits=5, shuffle=True, random_state=0) # K-Folds cross-validator # 셔플 안하면 원래 데이터 순서대로.\n",
    "\n",
    "for train_index, valid_index in kfold.split(X_train, y_train): \n",
    "    # 학습/검증 데이터 분할\n",
    "    train_x, valid_x = X_train.iloc[train_index], X_train.iloc[valid_index]\n",
    "    train_y, valid_y = y_train.iloc[train_index], y_train.iloc[valid_index]\n",
    "\n",
    "    # 범주형피처 직접 처리와 Early stopping을 사용하여 CatBoost 모델링\n",
    "    model = CatBoostRegressor(cat_features=categorical_features, verbose=False ,random_state=0)\n",
    "    model.fit(train_x, train_y, \n",
    "              eval_set=[(valid_x,valid_y)],\n",
    "              early_stopping_rounds=100, # 얘는 과대적합을 줄이기 위해서\n",
    "             )\n",
    "\n",
    "    # CV 스코어 계산 및 저장\n",
    "    rmse = np.sqrt(mean_squared_error(valid_y, model.predict(valid_x)))\n",
    "    scores.append(rmse)\n",
    "\n",
    "    # OOF 예측값 저장\n",
    "    oof_pred += model.predict(X_test) / kfold.get_n_splits()\n",
    "    \n",
    "scores = np.array(scores)\n",
    "print(\"CV scores: \", scores)\n",
    "print(\"CV mean = %.2f\" % scores.mean(), \"with std = %.2f\" % scores.std())\n",
    "\n",
    "#submission 화일 생성·\n",
    "CATBOOST_VERSION ='test'\n",
    "filename = f'catboost_{CATBOOST_VERSION}_{scores.mean():.2f}.csv'\n",
    "pd.DataFrame({'ID':test_id, 'Salary':oof_pred}).to_csv(filename, index=False)"
   ]
  },
  {
   "cell_type": "code",
   "execution_count": 36,
   "id": "dc12a052",
   "metadata": {},
   "outputs": [],
   "source": [
    "CATBOOST_VERSION ='modelE'\n",
    "filename = f'catboost_{CATBOOST_VERSION}_{scores.mean():.2f}.csv'\n",
    "pd.DataFrame({'ID':test_id, 'Salary':oof_pred}).to_csv(filename, index=False)"
   ]
  },
  {
   "cell_type": "markdown",
   "id": "1df1b6b8",
   "metadata": {},
   "source": [
    "## STACKING"
   ]
  },
  {
   "cell_type": "markdown",
   "id": "5cdc8bdd",
   "metadata": {},
   "source": [
    "- catboost"
   ]
  },
  {
   "cell_type": "code",
   "execution_count": 37,
   "id": "99ffe59f",
   "metadata": {},
   "outputs": [],
   "source": [
    "def get_stacking_data(model, X_train, y_train, X_test, n_folds=5):      # 위에서 설명한 3-fold stacking 입니당\n",
    "  kfold = KFold(n_splits = n_folds,shuffle=True, random_state = 107)\n",
    "  \n",
    "  # 최종 모델에서 사용할 데이터 셋 세팅 (0 값으로)\n",
    "  # 만약 shape가 (100,10)이었으면 폴드의 검증 과정 중 저장할 데이터는 (100,1)으로 한다.\n",
    "  train_fold_predict = np.zeros((X_train.shape[0],1))\n",
    "  # test 는 X_test 값을 이용해서 매 폴드마다 예측을 하기 때문에 (100, fold갯수) 모양이다.\n",
    "  # 해당 폴드마다 X_test의 예측 값을 fold 에 넣는다! meta model 이 쓸꺼임\n",
    "  test_predict = np.zeros((X_test.shape[0], n_folds))\n",
    "  print('model : ',model.__class__.__name__)\n",
    "  \n",
    "  for cnt, (train_index, valid_index) in enumerate(kfold.split(X_train)):\n",
    "    X_train_ = X_train.iloc[train_index]\n",
    "    y_train_ = y_train.iloc[train_index]\n",
    "    X_valid = X_train.iloc[valid_index]\n",
    "\n",
    "    # 학습\n",
    "    model.fit(X_train_,y_train_)\n",
    "    # 해당 폴드에서 학습된 모델에다가 검증 데이터 (X_valid)로 예측 후 저장\n",
    "    train_fold_predict[valid_index,:] = model.predict(X_valid).reshape(-1,1)\n",
    "    # 해당 폴드에서 생성된 모델에게 원본 테스트 데이터 (X_test)를 이용해서 예측하고 저장\n",
    "    test_predict[:,cnt] = model.predict(X_test)\n",
    "  \n",
    "  # for 문이 끝나면 test_pred는 평균을 내서 하나로 합친다.\n",
    "  test_predict_mean = np.mean(test_predict, axis=1).reshape(-1,1)\n",
    "  \n",
    "  return train_fold_predict, test_predict_mean"
   ]
  },
  {
   "cell_type": "code",
   "execution_count": 38,
   "id": "b4464cd9",
   "metadata": {},
   "outputs": [
    {
     "name": "stdout",
     "output_type": "stream",
     "text": [
      "model :  CatBoostRegressor\n"
     ]
    }
   ],
   "source": [
    "model = CatBoostRegressor(cat_features=categorical_features, verbose=False ,random_state=0)\n",
    "cat_train , cat_test = get_stacking_data(model, X_train, y_train, X_test, n_folds=5)"
   ]
  },
  {
   "cell_type": "code",
   "execution_count": 39,
   "id": "cf5b8082",
   "metadata": {},
   "outputs": [],
   "source": [
    "cat_data = pd.concat([pd.DataFrame(cat_train), pd.DataFrame(cat_test)],axis=1)\n",
    "cat_data.columns = ['modelE_cat_train','modelE_cat_test']\n",
    "cat_data.to_csv('modelE_cat_data.csv')"
   ]
  },
  {
   "cell_type": "markdown",
   "id": "ad755c96",
   "metadata": {},
   "source": [
    "- LGBM"
   ]
  },
  {
   "cell_type": "code",
   "execution_count": 40,
   "id": "4cd8ba30",
   "metadata": {},
   "outputs": [],
   "source": [
    "def get_stacking_data(model, X_train, y_train, X_test, n_folds=5):      \n",
    "  kfold = KFold(n_splits = n_folds,shuffle=True, random_state = 132)\n",
    "  \n",
    "\n",
    "  train_fold_predict = np.zeros((X_train.shape[0],1))\n",
    "\n",
    "  test_predict = np.zeros((X_test.shape[0], n_folds))\n",
    "  print('model : ',model.__class__.__name__)\n",
    "  \n",
    "  for cnt, (train_index, valid_index) in enumerate(kfold.split(X_train)):\n",
    "    X_train_ = X_train.iloc[train_index]\n",
    "    y_train_ = y_train.iloc[train_index]\n",
    "    X_valid = X_train.iloc[valid_index]\n",
    "\n",
    "\n",
    "    model.fit(X_train_,y_train_)\n",
    "\n",
    "    train_fold_predict[valid_index,:] = model.predict(X_valid).reshape(-1,1)\n",
    "\n",
    "    test_predict[:,cnt] = model.predict(X_test)\n",
    "\n",
    "  test_predict_mean = np.mean(test_predict, axis=1).reshape(-1,1)\n",
    "  \n",
    "  return train_fold_predict, test_predict_mean"
   ]
  },
  {
   "cell_type": "code",
   "execution_count": 41,
   "id": "4f4f5a07",
   "metadata": {},
   "outputs": [],
   "source": [
    "X_train.columns = list(map(str,X_train.columns))\n",
    "X_test.columns = list(map(str,X_test.columns))\n",
    "X_train.columns = X_train.columns+'temp'\n",
    "X_test.columns = X_test.columns+'temp'\n",
    "categorical_features = list(X_train.select_dtypes(include=\"object\").columns)\n",
    "numeric_features = list(X_test.select_dtypes(exclude=\"object\").columns)\n",
    "X_train = X_train[numeric_features+categorical_features]\n",
    "X_test = X_test[numeric_features+categorical_features]"
   ]
  },
  {
   "cell_type": "code",
   "execution_count": 42,
   "id": "a3944740",
   "metadata": {},
   "outputs": [
    {
     "data": {
      "text/html": [
       "<style>#sk-8c9b5270-de28-4a9f-9b30-101452aacb97 {color: black;background-color: white;}#sk-8c9b5270-de28-4a9f-9b30-101452aacb97 pre{padding: 0;}#sk-8c9b5270-de28-4a9f-9b30-101452aacb97 div.sk-toggleable {background-color: white;}#sk-8c9b5270-de28-4a9f-9b30-101452aacb97 label.sk-toggleable__label {cursor: pointer;display: block;width: 100%;margin-bottom: 0;padding: 0.2em 0.3em;box-sizing: border-box;text-align: center;}#sk-8c9b5270-de28-4a9f-9b30-101452aacb97 div.sk-toggleable__content {max-height: 0;max-width: 0;overflow: hidden;text-align: left;background-color: #f0f8ff;}#sk-8c9b5270-de28-4a9f-9b30-101452aacb97 div.sk-toggleable__content pre {margin: 0.2em;color: black;border-radius: 0.25em;background-color: #f0f8ff;}#sk-8c9b5270-de28-4a9f-9b30-101452aacb97 input.sk-toggleable__control:checked~div.sk-toggleable__content {max-height: 200px;max-width: 100%;overflow: auto;}#sk-8c9b5270-de28-4a9f-9b30-101452aacb97 div.sk-estimator input.sk-toggleable__control:checked~label.sk-toggleable__label {background-color: #d4ebff;}#sk-8c9b5270-de28-4a9f-9b30-101452aacb97 div.sk-label input.sk-toggleable__control:checked~label.sk-toggleable__label {background-color: #d4ebff;}#sk-8c9b5270-de28-4a9f-9b30-101452aacb97 input.sk-hidden--visually {border: 0;clip: rect(1px 1px 1px 1px);clip: rect(1px, 1px, 1px, 1px);height: 1px;margin: -1px;overflow: hidden;padding: 0;position: absolute;width: 1px;}#sk-8c9b5270-de28-4a9f-9b30-101452aacb97 div.sk-estimator {font-family: monospace;background-color: #f0f8ff;margin: 0.25em 0.25em;border: 1px dotted black;border-radius: 0.25em;box-sizing: border-box;}#sk-8c9b5270-de28-4a9f-9b30-101452aacb97 div.sk-estimator:hover {background-color: #d4ebff;}#sk-8c9b5270-de28-4a9f-9b30-101452aacb97 div.sk-parallel-item::after {content: \"\";width: 100%;border-bottom: 1px solid gray;flex-grow: 1;}#sk-8c9b5270-de28-4a9f-9b30-101452aacb97 div.sk-label:hover label.sk-toggleable__label {background-color: #d4ebff;}#sk-8c9b5270-de28-4a9f-9b30-101452aacb97 div.sk-serial::before {content: \"\";position: absolute;border-left: 1px solid gray;box-sizing: border-box;top: 2em;bottom: 0;left: 50%;}#sk-8c9b5270-de28-4a9f-9b30-101452aacb97 div.sk-serial {display: flex;flex-direction: column;align-items: center;background-color: white;}#sk-8c9b5270-de28-4a9f-9b30-101452aacb97 div.sk-item {z-index: 1;}#sk-8c9b5270-de28-4a9f-9b30-101452aacb97 div.sk-parallel {display: flex;align-items: stretch;justify-content: center;background-color: white;}#sk-8c9b5270-de28-4a9f-9b30-101452aacb97 div.sk-parallel-item {display: flex;flex-direction: column;position: relative;background-color: white;}#sk-8c9b5270-de28-4a9f-9b30-101452aacb97 div.sk-parallel-item:first-child::after {align-self: flex-end;width: 50%;}#sk-8c9b5270-de28-4a9f-9b30-101452aacb97 div.sk-parallel-item:last-child::after {align-self: flex-start;width: 50%;}#sk-8c9b5270-de28-4a9f-9b30-101452aacb97 div.sk-parallel-item:only-child::after {width: 0;}#sk-8c9b5270-de28-4a9f-9b30-101452aacb97 div.sk-dashed-wrapped {border: 1px dashed gray;margin: 0.2em;box-sizing: border-box;padding-bottom: 0.1em;background-color: white;position: relative;}#sk-8c9b5270-de28-4a9f-9b30-101452aacb97 div.sk-label label {font-family: monospace;font-weight: bold;background-color: white;display: inline-block;line-height: 1.2em;}#sk-8c9b5270-de28-4a9f-9b30-101452aacb97 div.sk-label-container {position: relative;z-index: 2;text-align: center;}#sk-8c9b5270-de28-4a9f-9b30-101452aacb97 div.sk-container {display: inline-block;position: relative;}</style><div id=\"sk-8c9b5270-de28-4a9f-9b30-101452aacb97\" class\"sk-top-container\"><div class=\"sk-container\"><div class=\"sk-item sk-dashed-wrapped\"><div class=\"sk-label-container\"><div class=\"sk-label sk-toggleable\"><input class=\"sk-toggleable__control sk-hidden--visually\" id=\"0d5559b6-88ef-4bae-a244-5d38bccc6a66\" type=\"checkbox\" ><label class=\"sk-toggleable__label\" for=\"0d5559b6-88ef-4bae-a244-5d38bccc6a66\">Pipeline</label><div class=\"sk-toggleable__content\"><pre>Pipeline(steps=[('preprocessor',\n",
       "                 Pipeline(steps=[('column',\n",
       "                                  ColumnTransformer(transformers=[('num',\n",
       "                                                                   Pipeline(steps=[('imputer',\n",
       "                                                                                    SimpleImputer())]),\n",
       "                                                                   ['대학성적temp',\n",
       "                                                                    '연차temp',\n",
       "                                                                    '스펙점수temp',\n",
       "                                                                    '직무태그_갯수temp',\n",
       "                                                                    '0temp',\n",
       "                                                                    '1temp',\n",
       "                                                                    '2temp',\n",
       "                                                                    '3temp',\n",
       "                                                                    '4temp',\n",
       "                                                                    '5temp',\n",
       "                                                                    '6temp',\n",
       "                                                                    '7temp',\n",
       "                                                                    '8temp',\n",
       "                                                                    '9temp',\n",
       "                                                                    '10temp',\n",
       "                                                                    '11temp',\n",
       "                                                                    '12temp',\n",
       "                                                                    '13temp',\n",
       "                                                                    '14temp',\n",
       "                                                                    '15temp',\n",
       "                                                                    '16temp',\n",
       "                                                                    '17temp',\n",
       "                                                                    '18temp',...\n",
       "                                                                                                  handle_unknown='ignore'))]),\n",
       "                                                                   ['직종temp',\n",
       "                                                                    '세부직종temp',\n",
       "                                                                    '직무태그temp',\n",
       "                                                                    '근무경력temp',\n",
       "                                                                    '근무형태temp',\n",
       "                                                                    '출신대학temp',\n",
       "                                                                    '대학전공temp',\n",
       "                                                                    '어학시험temp',\n",
       "                                                                    '자격증temp',\n",
       "                                                                    '근무형태_해외temp',\n",
       "                                                                    '근무1지역temp',\n",
       "                                                                    '근무2지역temp',\n",
       "                                                                    '근무3지역temp',\n",
       "                                                                    '대학전공_계열temp',\n",
       "                                                                    '출신대학_등급temp',\n",
       "                                                                    '근무지역_해외temp',\n",
       "                                                                    '출신대학_지역temp',\n",
       "                                                                    '세부직종_등급temp',\n",
       "                                                                    '숙련도temp'])])),\n",
       "                                 ('selector',\n",
       "                                  SelectPercentile(percentile=100))])),\n",
       "                ('classifier', LGBMRegressor(random_state=0))])</pre></div></div></div><div class=\"sk-serial\"><div class=\"sk-item\"><div class=\"sk-label-container\"><div class=\"sk-label sk-toggleable\"><input class=\"sk-toggleable__control sk-hidden--visually\" id=\"483bda96-d28e-49e4-97c9-f96a883c10a2\" type=\"checkbox\" ><label class=\"sk-toggleable__label\" for=\"483bda96-d28e-49e4-97c9-f96a883c10a2\">preprocessor: Pipeline</label><div class=\"sk-toggleable__content\"><pre>Pipeline(steps=[('column',\n",
       "                 ColumnTransformer(transformers=[('num',\n",
       "                                                  Pipeline(steps=[('imputer',\n",
       "                                                                   SimpleImputer())]),\n",
       "                                                  ['대학성적temp', '연차temp',\n",
       "                                                   '스펙점수temp', '직무태그_갯수temp',\n",
       "                                                   '0temp', '1temp', '2temp',\n",
       "                                                   '3temp', '4temp', '5temp',\n",
       "                                                   '6temp', '7temp', '8temp',\n",
       "                                                   '9temp', '10temp', '11temp',\n",
       "                                                   '12temp', '13temp', '14temp',\n",
       "                                                   '15temp', '16temp', '17temp',\n",
       "                                                   '18temp', '19temp', '20temp',\n",
       "                                                   '21temp', '22te...\n",
       "                                                                  ('encoder',\n",
       "                                                                   OneHotEncoder(dtype=<class 'int'>,\n",
       "                                                                                 handle_unknown='ignore'))]),\n",
       "                                                  ['직종temp', '세부직종temp',\n",
       "                                                   '직무태그temp', '근무경력temp',\n",
       "                                                   '근무형태temp', '출신대학temp',\n",
       "                                                   '대학전공temp', '어학시험temp',\n",
       "                                                   '자격증temp', '근무형태_해외temp',\n",
       "                                                   '근무1지역temp', '근무2지역temp',\n",
       "                                                   '근무3지역temp', '대학전공_계열temp',\n",
       "                                                   '출신대학_등급temp', '근무지역_해외temp',\n",
       "                                                   '출신대학_지역temp', '세부직종_등급temp',\n",
       "                                                   '숙련도temp'])])),\n",
       "                ('selector', SelectPercentile(percentile=100))])</pre></div></div></div><div class=\"sk-serial\"><div class=\"sk-item sk-dashed-wrapped\"><div class=\"sk-label-container\"><div class=\"sk-label sk-toggleable\"><input class=\"sk-toggleable__control sk-hidden--visually\" id=\"4cdd9ff7-a168-45b1-8c36-56e869d12ec8\" type=\"checkbox\" ><label class=\"sk-toggleable__label\" for=\"4cdd9ff7-a168-45b1-8c36-56e869d12ec8\">column: ColumnTransformer</label><div class=\"sk-toggleable__content\"><pre>ColumnTransformer(transformers=[('num',\n",
       "                                 Pipeline(steps=[('imputer', SimpleImputer())]),\n",
       "                                 ['대학성적temp', '연차temp', '스펙점수temp',\n",
       "                                  '직무태그_갯수temp', '0temp', '1temp', '2temp',\n",
       "                                  '3temp', '4temp', '5temp', '6temp', '7temp',\n",
       "                                  '8temp', '9temp', '10temp', '11temp',\n",
       "                                  '12temp', '13temp', '14temp', '15temp',\n",
       "                                  '16temp', '17temp', '18temp', '19temp',\n",
       "                                  '20temp', '21temp', '22temp', '23temp',\n",
       "                                  '24temp', '25t...\n",
       "                                 Pipeline(steps=[('imputer',\n",
       "                                                  SimpleImputer(strategy='most_frequent')),\n",
       "                                                 ('encoder',\n",
       "                                                  OneHotEncoder(dtype=<class 'int'>,\n",
       "                                                                handle_unknown='ignore'))]),\n",
       "                                 ['직종temp', '세부직종temp', '직무태그temp', '근무경력temp',\n",
       "                                  '근무형태temp', '출신대학temp', '대학전공temp',\n",
       "                                  '어학시험temp', '자격증temp', '근무형태_해외temp',\n",
       "                                  '근무1지역temp', '근무2지역temp', '근무3지역temp',\n",
       "                                  '대학전공_계열temp', '출신대학_등급temp', '근무지역_해외temp',\n",
       "                                  '출신대학_지역temp', '세부직종_등급temp', '숙련도temp'])])</pre></div></div></div><div class=\"sk-parallel\"><div class=\"sk-parallel-item\"><div class=\"sk-item\"><div class=\"sk-label-container\"><div class=\"sk-label sk-toggleable\"><input class=\"sk-toggleable__control sk-hidden--visually\" id=\"c8b2a8dd-4fc8-4b11-8476-48effd1bfd0e\" type=\"checkbox\" ><label class=\"sk-toggleable__label\" for=\"c8b2a8dd-4fc8-4b11-8476-48effd1bfd0e\">num</label><div class=\"sk-toggleable__content\"><pre>['대학성적temp', '연차temp', '스펙점수temp', '직무태그_갯수temp', '0temp', '1temp', '2temp', '3temp', '4temp', '5temp', '6temp', '7temp', '8temp', '9temp', '10temp', '11temp', '12temp', '13temp', '14temp', '15temp', '16temp', '17temp', '18temp', '19temp', '20temp', '21temp', '22temp', '23temp', '24temp', '25temp', '26temp', '27temp', '28temp', '29temp', '30temp', '31temp', '32temp', '33temp', '34temp', '35temp', '36temp', '37temp', '38temp', '39temp', '40temp', '41temp', '42temp', '43temp', '44temp', '45temp', '46temp', '47temp', '48temp', '49temp', '50temp', '51temp', '52temp', '53temp', '54temp', '55temp', '56temp', '57temp', '58temp', '59temp', '60temp', '61temp', '62temp', '63temp', '64temp', '65temp', '66temp', '67temp', '68temp', '69temp', '70temp', '71temp', '72temp', '73temp', '74temp', '75temp', '76temp', '77temp', '78temp', '79temp', '80temp', '81temp', '82temp', '83temp', '84temp', '85temp', '86temp', '87temp', '88temp', '89temp', '90temp', '91temp', '92temp', '93temp', '94temp', '95temp', '96temp', '97temp', '98temp', '99temp', '100temp', '101temp', '102temp', '103temp', '104temp', '105temp', '106temp', '107temp', '108temp', '109temp', '110temp', '111temp', '112temp', '113temp', '114temp', '115temp', '116temp', '117temp', '118temp', '119temp', '120temp', '121temp', '122temp', '123temp', '124temp', '125temp', '126temp', '127temp', '128temp', '129temp', '130temp', '131temp', '132temp', '133temp', '134temp', '135temp', '136temp', '137temp', '138temp', '139temp', '140temp', '141temp', '142temp', '143temp', '144temp', '145temp', '146temp', '147temp', '148temp', '149temp', '150temp', '151temp', '152temp', '153temp', '154temp', '155temp', '156temp', '157temp', '158temp', '159temp', '160temp', '161temp', '162temp', '163temp', '164temp', '165temp', '166temp', '167temp', '168temp', '169temp', '170temp', '171temp', '172temp', '173temp', '174temp', '175temp', '176temp', '177temp', '178temp', '179temp', '180temp', '181temp', '182temp', '183temp', '184temp', '185temp', '186temp', '187temp', '188temp', '189temp', '190temp', '191temp', '192temp', '193temp', '194temp', '195temp', '196temp', '197temp', '198temp', '199temp', '200temp', '201temp', '202temp', '203temp', '204temp', '205temp', '206temp', '207temp', '208temp', '209temp', '210temp', '211temp', '212temp', '213temp', '214temp', '215temp', '216temp', '217temp', '218temp', '219temp', '220temp', '221temp', '222temp', '223temp', '224temp', '225temp', '226temp', '227temp', '228temp', '229temp', '230temp', '231temp', '232temp', '233temp', '234temp', '235temp', '236temp', '237temp', '238temp', '239temp', '240temp', '241temp', '242temp', '243temp', '244temp', '245temp', '246temp', '247temp', '248temp', '249temp', '250temp', '251temp', '252temp', '253temp', '254temp', '255temp', '256temp', '257temp', '258temp', '259temp', '260temp', '261temp', '262temp', '263temp', '264temp', '265temp', '266temp', '267temp', '268temp', '269temp', '270temp', '271temp', '272temp', '273temp', '274temp', '275temp', '276temp', '277temp', '278temp', '279temp', '280temp', '281temp', '282temp', '283temp', '284temp', '285temp', '286temp', '287temp', '288temp', '289temp', '290temp', '291temp', '292temp', '293temp', '294temp', '295temp', '296temp', '297temp', '298temp', '299temp', '300temp', '301temp', '302temp', '303temp', '304temp', '305temp', '306temp', '307temp', '308temp', '309temp', '310temp', '311temp', '312temp', '313temp', '314temp', '315temp', '316temp', '317temp', '318temp', '319temp', '320temp', '321temp', '322temp', '323temp', '324temp', '325temp', '326temp', '327temp', '328temp', '329temp', '330temp', '331temp', '332temp', '333temp', '334temp', '335temp', '336temp', '337temp', '338temp', '339temp', '340temp', '341temp', '342temp', '343temp', '344temp', '345temp', '346temp', '347temp', '348temp', '349temp', '350temp', '351temp', '352temp', '353temp', '354temp', '355temp', '356temp', '357temp', '358temp', '359temp', '360temp', '361temp', '362temp', '363temp', '364temp', '365temp', '366temp', '367temp', '368temp', '369temp', '370temp', '371temp', '372temp', '373temp', '374temp', '375temp', '376temp', '377temp', '378temp', '379temp', '380temp', '381temp', '382temp', '383temp', '384temp', '385temp', '386temp', '387temp', '388temp', '389temp', '390temp', '391temp', '392temp', '393temp', '394temp', '395temp', '396temp', '397temp', '398temp', '399temp', '400temp', '401temp', '402temp', '403temp', '404temp', '405temp', '406temp', '407temp', '408temp', '409temp', '410temp', '411temp', '412temp', '413temp', '414temp', '415temp', '416temp', '417temp', '418temp', '419temp', '420temp', '421temp', '422temp']</pre></div></div></div><div class=\"sk-serial\"><div class=\"sk-item\"><div class=\"sk-serial\"><div class=\"sk-item\"><div class=\"sk-estimator sk-toggleable\"><input class=\"sk-toggleable__control sk-hidden--visually\" id=\"8bfdb430-8b93-400e-ae16-88f50a17dc24\" type=\"checkbox\" ><label class=\"sk-toggleable__label\" for=\"8bfdb430-8b93-400e-ae16-88f50a17dc24\">SimpleImputer</label><div class=\"sk-toggleable__content\"><pre>SimpleImputer()</pre></div></div></div></div></div></div></div></div><div class=\"sk-parallel-item\"><div class=\"sk-item\"><div class=\"sk-label-container\"><div class=\"sk-label sk-toggleable\"><input class=\"sk-toggleable__control sk-hidden--visually\" id=\"e0387312-dbde-4058-9523-ab4665b84ce6\" type=\"checkbox\" ><label class=\"sk-toggleable__label\" for=\"e0387312-dbde-4058-9523-ab4665b84ce6\">cat</label><div class=\"sk-toggleable__content\"><pre>['직종temp', '세부직종temp', '직무태그temp', '근무경력temp', '근무형태temp', '출신대학temp', '대학전공temp', '어학시험temp', '자격증temp', '근무형태_해외temp', '근무1지역temp', '근무2지역temp', '근무3지역temp', '대학전공_계열temp', '출신대학_등급temp', '근무지역_해외temp', '출신대학_지역temp', '세부직종_등급temp', '숙련도temp']</pre></div></div></div><div class=\"sk-serial\"><div class=\"sk-item\"><div class=\"sk-serial\"><div class=\"sk-item\"><div class=\"sk-estimator sk-toggleable\"><input class=\"sk-toggleable__control sk-hidden--visually\" id=\"86c5479a-4209-4388-9036-fd740f041685\" type=\"checkbox\" ><label class=\"sk-toggleable__label\" for=\"86c5479a-4209-4388-9036-fd740f041685\">SimpleImputer</label><div class=\"sk-toggleable__content\"><pre>SimpleImputer(strategy='most_frequent')</pre></div></div></div><div class=\"sk-item\"><div class=\"sk-estimator sk-toggleable\"><input class=\"sk-toggleable__control sk-hidden--visually\" id=\"eb94133f-74b9-42b9-b280-411658004ea6\" type=\"checkbox\" ><label class=\"sk-toggleable__label\" for=\"eb94133f-74b9-42b9-b280-411658004ea6\">OneHotEncoder</label><div class=\"sk-toggleable__content\"><pre>OneHotEncoder(dtype=<class 'int'>, handle_unknown='ignore')</pre></div></div></div></div></div></div></div></div></div></div><div class=\"sk-item\"><div class=\"sk-estimator sk-toggleable\"><input class=\"sk-toggleable__control sk-hidden--visually\" id=\"eba13bb5-8463-446a-b31b-1285a423a788\" type=\"checkbox\" ><label class=\"sk-toggleable__label\" for=\"eba13bb5-8463-446a-b31b-1285a423a788\">SelectPercentile</label><div class=\"sk-toggleable__content\"><pre>SelectPercentile(percentile=100)</pre></div></div></div></div></div><div class=\"sk-item\"><div class=\"sk-estimator sk-toggleable\"><input class=\"sk-toggleable__control sk-hidden--visually\" id=\"1274cc42-4d74-4edf-9801-70dc96566687\" type=\"checkbox\" ><label class=\"sk-toggleable__label\" for=\"1274cc42-4d74-4edf-9801-70dc96566687\">LGBMRegressor</label><div class=\"sk-toggleable__content\"><pre>LGBMRegressor(random_state=0)</pre></div></div></div></div></div></div></div>"
      ],
      "text/plain": [
       "Pipeline(steps=[('preprocessor',\n",
       "                 Pipeline(steps=[('column',\n",
       "                                  ColumnTransformer(transformers=[('num',\n",
       "                                                                   Pipeline(steps=[('imputer',\n",
       "                                                                                    SimpleImputer())]),\n",
       "                                                                   ['대학성적temp',\n",
       "                                                                    '연차temp',\n",
       "                                                                    '스펙점수temp',\n",
       "                                                                    '직무태그_갯수temp',\n",
       "                                                                    '0temp',\n",
       "                                                                    '1temp',\n",
       "                                                                    '2temp',\n",
       "                                                                    '3temp',\n",
       "                                                                    '4temp',\n",
       "                                                                    '5temp',\n",
       "                                                                    '6temp',\n",
       "                                                                    '7temp',\n",
       "                                                                    '8temp',\n",
       "                                                                    '9temp',\n",
       "                                                                    '10temp',\n",
       "                                                                    '11temp',\n",
       "                                                                    '12temp',\n",
       "                                                                    '13temp',\n",
       "                                                                    '14temp',\n",
       "                                                                    '15temp',\n",
       "                                                                    '16temp',\n",
       "                                                                    '17temp',\n",
       "                                                                    '18temp',...\n",
       "                                                                                                  handle_unknown='ignore'))]),\n",
       "                                                                   ['직종temp',\n",
       "                                                                    '세부직종temp',\n",
       "                                                                    '직무태그temp',\n",
       "                                                                    '근무경력temp',\n",
       "                                                                    '근무형태temp',\n",
       "                                                                    '출신대학temp',\n",
       "                                                                    '대학전공temp',\n",
       "                                                                    '어학시험temp',\n",
       "                                                                    '자격증temp',\n",
       "                                                                    '근무형태_해외temp',\n",
       "                                                                    '근무1지역temp',\n",
       "                                                                    '근무2지역temp',\n",
       "                                                                    '근무3지역temp',\n",
       "                                                                    '대학전공_계열temp',\n",
       "                                                                    '출신대학_등급temp',\n",
       "                                                                    '근무지역_해외temp',\n",
       "                                                                    '출신대학_지역temp',\n",
       "                                                                    '세부직종_등급temp',\n",
       "                                                                    '숙련도temp'])])),\n",
       "                                 ('selector',\n",
       "                                  SelectPercentile(percentile=100))])),\n",
       "                ('classifier', LGBMRegressor(random_state=0))])"
      ]
     },
     "execution_count": 42,
     "metadata": {},
     "output_type": "execute_result"
    }
   ],
   "source": [
    "def remove_outlier(X, q=0.05):  \n",
    "    df = pd.DataFrame(X)\n",
    "    return df.apply(lambda x: x.clip(x.quantile(q), x.quantile(1-q)), axis=0).values\n",
    "\n",
    "numeric_transformer = Pipeline(\n",
    "    steps=[\n",
    "        (\"imputer\", SimpleImputer(strategy=\"mean\")),\n",
    "#         (\"outlier\", FunctionTransformer(remove_outlier, kw_args={'q':0.05})),\n",
    "#         (\"scaler\", PowerTransformer()),\n",
    "    ]\n",
    ")\n",
    "\n",
    "categorical_transformer = Pipeline(\n",
    "    steps=[\n",
    "        (\"imputer\", SimpleImputer(strategy=\"most_frequent\")),\n",
    "        (\"encoder\", OneHotEncoder(handle_unknown='ignore', dtype=int)),\n",
    "    ]\n",
    ")\n",
    "\n",
    "column_transformer = ColumnTransformer(\n",
    "    transformers=[\n",
    "        (\"num\", numeric_transformer, numeric_features),\n",
    "        (\"cat\", categorical_transformer, categorical_features),\n",
    "    ]\n",
    ")\n",
    "\n",
    "preprocessor = Pipeline(\n",
    "    steps=[\n",
    "        (\"column\", column_transformer),\n",
    "        (\"selector\", SelectPercentile(percentile=100)),\n",
    "    ]\n",
    ")\n",
    "\n",
    "model = Pipeline(\n",
    "    steps=[\n",
    "        (\"preprocessor\", preprocessor),\n",
    "        (\"classifier\", LGBMRegressor(random_state=0)),\n",
    "    ]\n",
    ")\n",
    "\n",
    "set_config(display=\"diagram\")  # To view the text pipeline, change to display='text'.\n",
    "model"
   ]
  },
  {
   "cell_type": "code",
   "execution_count": 43,
   "id": "c7593862",
   "metadata": {},
   "outputs": [
    {
     "name": "stdout",
     "output_type": "stream",
     "text": [
      "model :  Pipeline\n"
     ]
    }
   ],
   "source": [
    "lgbm_train, lgbm_test = get_stacking_data(model, X_train, y_train, X_test)"
   ]
  },
  {
   "cell_type": "code",
   "execution_count": 44,
   "id": "c514d93a",
   "metadata": {},
   "outputs": [],
   "source": [
    "lgbm_data = pd.concat([pd.DataFrame(lgbm_train), pd.DataFrame(lgbm_test)],axis=1)\n",
    "lgbm_data.columns = ['modelE_lgbm_train','modelE_lgbm_test']\n",
    "lgbm_data.to_csv('modelE_lgbm_data.csv')"
   ]
  },
  {
   "cell_type": "code",
   "execution_count": 45,
   "id": "fec82fa9",
   "metadata": {},
   "outputs": [
    {
     "name": "stdout",
     "output_type": "stream",
     "text": [
      "Default LM CV scores:  [835.56152248 818.57305356 847.11091774 838.58755743 828.21237404]\n",
      "Default LM CV mean = 833.66 with std = 126.80\n"
     ]
    }
   ],
   "source": [
    "from sklearn.model_selection import cross_val_score, ShuffleSplit\n",
    "\n",
    "sscv = ShuffleSplit(test_size=0.3334, n_splits=5,random_state=0)\n",
    "scores = cross_val_score(model, X_train, y_train, scoring='neg_mean_squared_error', cv=sscv)\n",
    "\n",
    "print(\"Default LM CV scores: \", np.sqrt(-1*scores))\n",
    "print(\"Default LM CV mean = %.2f\" % np.sqrt(-1*scores.mean()), \"with std = %.2f\" % np.sqrt(scores.std()))"
   ]
  }
 ],
 "metadata": {
  "kernelspec": {
   "display_name": "Python 3 (ipykernel)",
   "language": "python",
   "name": "python3"
  },
  "language_info": {
   "codemirror_mode": {
    "name": "ipython",
    "version": 3
   },
   "file_extension": ".py",
   "mimetype": "text/x-python",
   "name": "python",
   "nbconvert_exporter": "python",
   "pygments_lexer": "ipython3",
   "version": "3.9.7"
  }
 },
 "nbformat": 4,
 "nbformat_minor": 5
}
