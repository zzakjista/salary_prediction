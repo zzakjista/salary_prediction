{
 "cells": [
  {
   "cell_type": "code",
   "execution_count": 1,
   "id": "7cb6cec4",
   "metadata": {},
   "outputs": [],
   "source": [
    "run -i import_file.py"
   ]
  },
  {
   "cell_type": "code",
   "execution_count": 2,
   "id": "b6a3dfde",
   "metadata": {},
   "outputs": [],
   "source": [
    "X_train = pd.read_csv('X_train.csv', encoding='cp949').drop(columns='ID')\n",
    "y_train = pd.read_csv('y_train.csv', encoding='cp949').Salary\n",
    "X_test = pd.read_csv('X_test.csv', encoding='cp949')\n",
    "test_id = X_test.pop('ID')\n",
    "X = pd.concat([X_train,X_test])\n",
    "Xy_train = pd.concat([X_train,y_train],axis=1)"
   ]
  },
  {
   "cell_type": "markdown",
   "id": "06938a45",
   "metadata": {},
   "source": [
    "- 결측값 확인"
   ]
  },
  {
   "cell_type": "code",
   "execution_count": 3,
   "id": "524e8366",
   "metadata": {},
   "outputs": [
    {
     "name": "stdout",
     "output_type": "stream",
     "text": [
      "['Malgun Gothic']\n"
     ]
    },
    {
     "data": {
      "image/png": "[encoded data removed]",
      "text/plain": [
       "<Figure size 1152x576 with 1 Axes>"
      ]
     },
     "metadata": {
      "needs_background": "light"
     },
     "output_type": "display_data"
    }
   ],
   "source": [
    "plt.rc('font', family='Malgun Gothic')\n",
    "print(plt.rcParams['font.family'])\n",
    "\n",
    "\n",
    "total = X.isnull().sum().sort_values(ascending=False)\n",
    "percent = (X.isnull().sum()/X.isnull().count()).sort_values(ascending=False)\n",
    "missing_data = pd.concat([total, percent], axis=1, keys=['Total', 'Percent'])\n",
    "missing_data.head(20)\n",
    "\n",
    "missing_data=missing_data.head(35)\n",
    "f, ax = plt.subplots(figsize=(16, 8))\n",
    "plt.xticks(rotation='90')\n",
    "sns.barplot(x=missing_data.index, y=missing_data['Percent'])\n",
    "plt.title('Percent missing data by feature', fontsize=15)\n",
    "plt.xlabel('Features', fontsize=15)\n",
    "plt.ylabel('Percent of missing values', fontsize=15)\n",
    "plt.show()"
   ]
  },
  {
   "cell_type": "code",
   "execution_count": 4,
   "id": "fb0c1d9d",
   "metadata": {},
   "outputs": [],
   "source": [
    "#범주, 수치형 변수 나누기\n",
    "numeric_feats = X.dtypes[X.dtypes != \"object\"].index\n",
    "categoric_feats = X.dtypes[X.dtypes == \"object\"].index\n",
    "\n",
    "# Get features with missing values\n",
    "na_numeric_feats = [k for k, v in X[numeric_feats].isnull().sum().to_dict().items() if v > 0]\n",
    "na_categoric_feats = [k for k, v in X[categoric_feats].isnull().sum().to_dict().items() if v > 0]"
   ]
  },
  {
   "cell_type": "markdown",
   "id": "ac327c68",
   "metadata": {},
   "source": [
    "- 대학시험 전처리"
   ]
  },
  {
   "cell_type": "code",
   "execution_count": 5,
   "id": "85478196",
   "metadata": {},
   "outputs": [
    {
     "data": {
      "text/plain": [
       "<seaborn.axisgrid.FacetGrid at 0x1def28aa850>"
      ]
     },
     "execution_count": 5,
     "metadata": {},
     "output_type": "execute_result"
    },
    {
     "data": {
      "image/png": "[encoded data removed]",
      "text/plain": [
       "<Figure size 360x360 with 1 Axes>"
      ]
     },
     "metadata": {
      "needs_background": "light"
     },
     "output_type": "display_data"
    }
   ],
   "source": [
    "#수치형변수 결측값 처리 & 분포도\n",
    "imp = SimpleImputer(strategy=\"median\")\n",
    "X_train[na_numeric_feats] = imp.fit_transform(X_train[na_numeric_feats])\n",
    "X_test[na_numeric_feats] = imp.transform(X_test[na_numeric_feats])\n",
    "sns.displot(X_train['대학성적'])"
   ]
  },
  {
   "cell_type": "markdown",
   "id": "d7058d24",
   "metadata": {},
   "source": [
    "- 어학시험 전처리"
   ]
  },
  {
   "cell_type": "code",
   "execution_count": 6,
   "id": "66f9bfcb",
   "metadata": {},
   "outputs": [],
   "source": [
    "def language(X):\n",
    "    X['어학시험'] = X['어학시험'].fillna('없음')\n",
    "    X['어학시험'] = np.where(X['어학시험'] == ' ','없음',X['어학시험'])\n",
    "    X['어학시험'] = np.where(X['어학시험'].str.startswith('기타'), '기타' ,X['어학시험'])\n",
    "    X['어학시험'] = np.where(X['어학시험'].str.startswith('TOEFL'), 'TOEFL' ,X['어학시험'])\n",
    "    X['어학시험'] = np.where(X['어학시험'].str.startswith('G-TELP'), 'G-TELP' ,X['어학시험'])\n",
    "    X['어학시험'] = np.where(X['어학시험'].str.endswith('LF') , 'DELF' ,X['어학시험'])\n",
    "    X['어학시험'] = np.where(X['어학시험'].str.endswith('HSK') , 'HSK' ,X['어학시험'])\n",
    "    X['어학시험'] = np.where(X['어학시험'].str.startswith('J'), 'JLPT' ,X['어학시험'])"
   ]
  },
  {
   "cell_type": "code",
   "execution_count": 7,
   "id": "b90de6a8",
   "metadata": {},
   "outputs": [],
   "source": [
    "language(X_train)\n",
    "language(X_test)"
   ]
  },
  {
   "cell_type": "markdown",
   "id": "b8ee4793",
   "metadata": {},
   "source": [
    "- 근무형태 and 근무형태 해외(Feature Generation)"
   ]
  },
  {
   "cell_type": "code",
   "execution_count": 8,
   "id": "260809eb",
   "metadata": {},
   "outputs": [],
   "source": [
    "def workform(X):\n",
    "    geo = X['근무형태'].str.split(',').apply(lambda x: pd.Series(x)).iloc[:,:4]\n",
    "    for i in range(geo.shape[1]):\n",
    "        geo[i]= np.where(geo[i]==' ','없음',geo[i])\n",
    "        geo[i] = geo[i].fillna('없음')\n",
    "    geo.columns = ['근무형태1','근무형태2','근무형태3','근무형태4']\n",
    "    return geo\n",
    "X_train = pd.concat([X_train,workform(X_train)],axis=1)\n",
    "X_test = pd.concat([X_test,workform(X_test)],axis=1)"
   ]
  },
  {
   "cell_type": "code",
   "execution_count": 9,
   "id": "22b123a8",
   "metadata": {},
   "outputs": [],
   "source": [
    "def workshape(X):\n",
    "    null_list = X[X['근무경력']=='0개월'].index\n",
    "    X['근무형태'][null_list] = X['근무형태'][null_list].fillna('경력없음')\n",
    "    X['근무형태'] = X['근무형태'].fillna('missing')\n",
    "    X['근무형태'] = np.where(X['근무형태'].str.startswith('정규직'), '정규직' ,X['근무형태'])\n",
    "    X['근무형태'] = np.where(X['근무형태'].str.startswith('계약직'), '계약직' ,X['근무형태'])\n",
    "    X['근무형태'] = np.where(X['근무형태'].str.startswith('인턴'), '인턴' ,X['근무형태'])"
   ]
  },
  {
   "cell_type": "code",
   "execution_count": 10,
   "id": "ca449ab1",
   "metadata": {},
   "outputs": [],
   "source": [
    "workshape(X_train)\n",
    "workshape(X_test)"
   ]
  },
  {
   "cell_type": "markdown",
   "id": "3a4078f2",
   "metadata": {},
   "source": [
    "- 근무지역 전처리"
   ]
  },
  {
   "cell_type": "code",
   "execution_count": 11,
   "id": "821dc02b",
   "metadata": {},
   "outputs": [
    {
     "data": {
      "text/html": [
       "<div>\n",
       "<style scoped>\n",
       "    .dataframe tbody tr th:only-of-type {\n",
       "        vertical-align: middle;\n",
       "    }\n",
       "\n",
       "    .dataframe tbody tr th {\n",
       "        vertical-align: top;\n",
       "    }\n",
       "\n",
       "    .dataframe thead th {\n",
       "        text-align: right;\n",
       "    }\n",
       "</style>\n",
       "<table border=\"1\" class=\"dataframe\">\n",
       "  <thead>\n",
       "    <tr style=\"text-align: right;\">\n",
       "      <th></th>\n",
       "      <th>근무1지역</th>\n",
       "      <th>근무2지역</th>\n",
       "      <th>근무3지역</th>\n",
       "    </tr>\n",
       "  </thead>\n",
       "  <tbody>\n",
       "    <tr>\n",
       "      <th>0</th>\n",
       "      <td>서울</td>\n",
       "      <td>중국</td>\n",
       "      <td>캐나다</td>\n",
       "    </tr>\n",
       "    <tr>\n",
       "      <th>1</th>\n",
       "      <td>서울</td>\n",
       "      <td>없음</td>\n",
       "      <td>없음</td>\n",
       "    </tr>\n",
       "    <tr>\n",
       "      <th>2</th>\n",
       "      <td>경남</td>\n",
       "      <td>경북</td>\n",
       "      <td>부산</td>\n",
       "    </tr>\n",
       "    <tr>\n",
       "      <th>3</th>\n",
       "      <td>경기</td>\n",
       "      <td>서울</td>\n",
       "      <td>없음</td>\n",
       "    </tr>\n",
       "    <tr>\n",
       "      <th>4</th>\n",
       "      <td>경기</td>\n",
       "      <td>서울</td>\n",
       "      <td>없음</td>\n",
       "    </tr>\n",
       "    <tr>\n",
       "      <th>...</th>\n",
       "      <td>...</td>\n",
       "      <td>...</td>\n",
       "      <td>...</td>\n",
       "    </tr>\n",
       "    <tr>\n",
       "      <th>11043</th>\n",
       "      <td>부산</td>\n",
       "      <td>서울</td>\n",
       "      <td>없음</td>\n",
       "    </tr>\n",
       "    <tr>\n",
       "      <th>11044</th>\n",
       "      <td>경기</td>\n",
       "      <td>서울</td>\n",
       "      <td>인천</td>\n",
       "    </tr>\n",
       "    <tr>\n",
       "      <th>11045</th>\n",
       "      <td>경기</td>\n",
       "      <td>서울</td>\n",
       "      <td>없음</td>\n",
       "    </tr>\n",
       "    <tr>\n",
       "      <th>11046</th>\n",
       "      <td>부산</td>\n",
       "      <td>없음</td>\n",
       "      <td>없음</td>\n",
       "    </tr>\n",
       "    <tr>\n",
       "      <th>11047</th>\n",
       "      <td>경기</td>\n",
       "      <td>서울</td>\n",
       "      <td>인천</td>\n",
       "    </tr>\n",
       "  </tbody>\n",
       "</table>\n",
       "<p>11048 rows × 3 columns</p>\n",
       "</div>"
      ],
      "text/plain": [
       "      근무1지역 근무2지역 근무3지역\n",
       "0        서울    중국   캐나다\n",
       "1        서울    없음    없음\n",
       "2        경남    경북    부산\n",
       "3        경기    서울    없음\n",
       "4        경기    서울    없음\n",
       "...     ...   ...   ...\n",
       "11043    부산    서울    없음\n",
       "11044    경기    서울    인천\n",
       "11045    경기    서울    없음\n",
       "11046    부산    없음    없음\n",
       "11047    경기    서울    인천\n",
       "\n",
       "[11048 rows x 3 columns]"
      ]
     },
     "execution_count": 11,
     "metadata": {},
     "output_type": "execute_result"
    }
   ],
   "source": [
    "#근무지역 중복 제거 및 분할\n",
    "def worksite(X):\n",
    "    geo = X['근무지역'].str.split(',').apply(lambda x: pd.Series(x))\n",
    "    geo[0]\n",
    "    geo_lst = []\n",
    "    for i in range(geo.shape[0]):\n",
    "        geo_lst.append(sorted(list(set(geo.loc[i,:]))))\n",
    "    geo_mat = pd.DataFrame(geo_lst)\n",
    "    geo_mat = geo_mat.fillna('')\n",
    "    temp = (geo_mat[0] + ' ' + geo_mat[1] + ' ' +  geo_mat[2]).str.strip()\n",
    "    site_df = temp.str.split(' ').apply(lambda x: pd.Series(x)).fillna('없음')\n",
    "    site_df.columns = ['근무1지역', '근무2지역', '근무3지역']\n",
    "    return site_df\n",
    "\n",
    "worksite(X_train)\n",
    "worksite(X_test)"
   ]
  },
  {
   "cell_type": "code",
   "execution_count": 12,
   "id": "e160a52a",
   "metadata": {},
   "outputs": [],
   "source": [
    "#한번만 실행\n",
    "site_df = worksite(X_train)\n",
    "X_train = pd.concat([X_train,site_df],axis=1)\n",
    "#X_train.drop(columns='근무지역',inplace=True)\n",
    "\n",
    "site_df = worksite(X_test)\n",
    "X_test = pd.concat([X_test,site_df],axis=1)\n",
    "#X_test.drop(columns='근무지역',inplace=True)"
   ]
  },
  {
   "cell_type": "markdown",
   "id": "11bb5093",
   "metadata": {},
   "source": [
    "- 대학전공 and 대학전공 계열(Feature Generation)"
   ]
  },
  {
   "cell_type": "code",
   "execution_count": 13,
   "id": "b49a0f7c",
   "metadata": {},
   "outputs": [],
   "source": [
    "major_sum = pd.read_csv('major_sum.csv',encoding='cp949').fillna('미포함')\n",
    "def major(X):\n",
    "    X['대학전공'] = X['대학전공'].str.replace('(',',')\n",
    "    X['대학전공'] = X['대학전공'].str.replace('·',',')\n",
    "    X['대학전공'] = X['대학전공'].str.replace('/',',')\n",
    "    X['대학전공'] = X['대학전공'].str.replace('.',',')\n",
    "    X['대학전공'] = X['대학전공'].str.replace(')','')\n",
    "    X['대학전공'] = X['대학전공'].str.replace('ㆍ',',')\n",
    "    X['대학전공'] = X['대학전공'].str.replace('<',',')\n",
    "    X['대학전공'] = X['대학전공'].str.replace('>','')\n",
    "    X['대학전공'] = X['대학전공'].str.replace('&',',')\n",
    "    X['대학전공'] = X['대학전공'].str.replace(':',',')\n",
    "    X['대학전공'] = X['대학전공'].str.replace('*',',')\n",
    "    X['대학전공'] = X['대학전공'].str.replace(' ','')\n",
    "    major = X['대학전공'].str.split(',').apply(lambda x: pd.Series(x)).iloc[:,:3].fillna('없음')\n",
    "    for j in major.columns:\n",
    "        for i in major_sum.columns:\n",
    "            example_test= major_sum[i]\n",
    "            test = '|'.join(example_test) \n",
    "            major.loc[major[j].str.contains(test),j] = str(i) + '학과'\n",
    "    major.columns = ['전공1','전공2','전공3']\n",
    "    return major\n",
    "X_train = pd.concat([X_train,major(X_train)],axis=1)\n",
    "X_test = pd.concat([X_test,major(X_test)],axis=1)"
   ]
  },
  {
   "cell_type": "code",
   "execution_count": 14,
   "id": "09a73b65",
   "metadata": {},
   "outputs": [],
   "source": [
    "def major_cat(X):\n",
    "    major_cat = pd.read_csv('major_cat.csv',encoding='cp949')\n",
    "    for i in range(X.shape[0]):\n",
    "        if X.loc[i,'대학전공'] in set(major_cat['문과'].values):\n",
    "            X.loc[i,'대학전공_계열'] = '인문계열'\n",
    "        elif X.loc[i,'대학전공'] in set(major_cat['이과'].values):\n",
    "            X.loc[i,'대학전공_계열'] = '자연,공학계열'\n",
    "        elif X.loc[i,'대학전공'] in set(major_cat['예체능'].values):\n",
    "            X.loc[i,'대학전공_계열'] = '예체능계열'\n",
    "        else:\n",
    "            X.loc[i,'대학전공_계열'] = '기타'\n",
    "major_cat(X_train)\n",
    "major_cat(X_test)"
   ]
  },
  {
   "cell_type": "markdown",
   "id": "6a5d68f1",
   "metadata": {},
   "source": [
    "- 출신대학 등급"
   ]
  },
  {
   "cell_type": "code",
   "execution_count": 15,
   "id": "4a6fc02b",
   "metadata": {},
   "outputs": [],
   "source": [
    "def univ_level(X):\n",
    "    univ = pd.read_csv('univ_level1.csv',encoding='cp949')\n",
    "    for i in range(X.shape[0]):\n",
    "        if X.loc[i,'출신대학'] in set(univ['상위권'].values):\n",
    "            X.loc[i,'출신대학_등급'] = '상위권'\n",
    "        elif X.loc[i,'출신대학'] in set(univ['중위권'].values):\n",
    "            X.loc[i,'출신대학_등급'] = '중위권'\n",
    "        elif X.loc[i,'출신대학'] in set(univ['하위권'].values):\n",
    "            X.loc[i,'출신대학_등급'] = '하위권'\n",
    "        else:\n",
    "            X.loc[i,'출신대학_등급'] = '기타'\n",
    "univ_level(X_train)\n",
    "univ_level(X_test)"
   ]
  },
  {
   "cell_type": "markdown",
   "id": "c0bc20da",
   "metadata": {},
   "source": [
    "- 근무경력 전처리"
   ]
  },
  {
   "cell_type": "code",
   "execution_count": 16,
   "id": "3d6bc4e6",
   "metadata": {},
   "outputs": [],
   "source": [
    "X_train['년수'] = np.where(X_train['근무경력'].str.contains('년'),X_train['근무경력'].str[:3].str.replace('년',''),0).astype('int')\n",
    "X_test['년수'] = np.where(X_test['근무경력'].str.contains('년'),X_test['근무경력'].str[:3].str.replace('년',''),0).astype('int')\n",
    "X_train['개월 수'] = X_train['근무경력'].str[-4:].replace('개월').str.strip().str.replace('개월','').astype('int')\n",
    "X_test['개월 수'] = X_test['근무경력'].str[-4:].replace('개월').str.strip().str.replace('개월','').astype('int')\n",
    "X_train['연차'] = X_train['년수'] + X_train['개월 수']/12\n",
    "X_test['연차'] = X_test['년수'] + X_test['개월 수']/12\n",
    "X_train.drop(columns=['년수','개월 수'],inplace=True)\n",
    "X_test.drop(columns=['년수','개월 수'],inplace=True)"
   ]
  },
  {
   "cell_type": "markdown",
   "id": "5772d3f1",
   "metadata": {},
   "source": [
    "- 근무지역 국내외"
   ]
  },
  {
   "cell_type": "code",
   "execution_count": 17,
   "id": "ba1b7814",
   "metadata": {},
   "outputs": [],
   "source": [
    "out = ['필리핀', '인도네시아', '대만', '프랑스', '방글라데시', \n",
    "       '해외', '미국', '러시아', '말레이시아', '인도',\n",
    "       '일본', '싱가포르', '중국', '홍콩', '캐나다']\n",
    "def worksite_abroad(X):\n",
    "    for i in range(X.shape[0]):\n",
    "        if X.loc[i,'근무1지역'] in out:\n",
    "            X.loc[i,'근무지역_해외'] = '해외'\n",
    "        elif X.loc[i,'근무2지역'] in out:\n",
    "            X.loc[i,'근무지역_해외'] = '해외'\n",
    "        elif X.loc[i,'근무3지역'] in out:\n",
    "            X.loc[i,'근무지역_해외'] = '해외'\n",
    "        else:\n",
    "            X.loc[i,'근무지역_해외'] = '국내'\n",
    "worksite_abroad(X_train)\n",
    "worksite_abroad(X_test)"
   ]
  },
  {
   "cell_type": "markdown",
   "id": "e4326dba",
   "metadata": {},
   "source": [
    "- 출신대학 수도권_비수도권"
   ]
  },
  {
   "cell_type": "code",
   "execution_count": 18,
   "id": "de3fadb7",
   "metadata": {},
   "outputs": [],
   "source": [
    "def univ(X):    \n",
    "    for i in range(X.shape[0]):\n",
    "        if X.loc[i,'출신대학'] in metro:\n",
    "            X.loc[i,'출신대학_지역'] = '수도권'\n",
    "        else:\n",
    "            X.loc[i,'출신대학_지역'] = '비수도권'\n",
    "univ_list = list(pd.concat([X_train['출신대학'],y_train],axis=1).groupby('출신대학').mean().sort_values(by='Salary').index)\n",
    "metro = ['서울과학기술대학교','연세대학교','성균관대학교','중앙대학교',\n",
    " '이화여자대학교','경기대학교','인천대학교','세종대학교','수원대학교',\n",
    " '한국산업기술대학교','한성대학교','서울여자대학교','성신여자대학교','동덕여자대학교',\n",
    " '성공회대학교','용인대학교','협성대학교']\n",
    "side = []\n",
    "for i in univ_list:\n",
    "    if i not in metro:\n",
    "        side.append(i)\n",
    "univ(X_train)\n",
    "univ(X_test)"
   ]
  },
  {
   "cell_type": "markdown",
   "id": "46b4bcc7",
   "metadata": {},
   "source": [
    "- 스펙점수 방정식\n",
    " 출신대학_등급(3) 근무지역 해외(2) 어학시험유무(2) \n",
    "- 각 feature별로 점수 책정\n",
    "ex) 상위권(3) + 근무지역_해외(2) + 어학시험_무(1) = 7"
   ]
  },
  {
   "cell_type": "code",
   "execution_count": 19,
   "id": "5d99070a",
   "metadata": {},
   "outputs": [
    {
     "name": "stdout",
     "output_type": "stream",
     "text": [
      "('상위권 해외:', 3666.687422166874)\n",
      "('중위권 해외:', 2998.1435643564355)\n",
      "('하위권 해외:', 2928.799489144317)\n",
      "출신대학의 등급별로 해외 근무지에서의 연봉이 다르다\n",
      "('상위권 국내:', 3356.3065533315053)\n",
      "('중위권 국내:', 2561.537335285505)\n",
      "('하위권 국내:', 2552.8465017291833)\n",
      "출신대학의 등급별로 국내 근무지에서의 연봉이 다르다\n"
     ]
    }
   ],
   "source": [
    "print(('상위권 해외:' ,pd.concat([X_train,y_train],axis=1)[(pd.concat([X_train,y_train],axis=1)['출신대학_등급']=='상위권') & (pd.concat([X_train,y_train],axis=1)['근무지역_해외']=='해외')]['Salary'].mean()))\n",
    "print(('중위권 해외:' ,pd.concat([X_train,y_train],axis=1)[(pd.concat([X_train,y_train],axis=1)['출신대학_등급']=='중위권') & (pd.concat([X_train,y_train],axis=1)['근무지역_해외']=='해외')]['Salary'].mean()))\n",
    "print(('하위권 해외:' ,pd.concat([X_train,y_train],axis=1)[(pd.concat([X_train,y_train],axis=1)['출신대학_등급']=='하위권') & (pd.concat([X_train,y_train],axis=1)['근무지역_해외']=='해외')]['Salary'].mean()))\n",
    "print('출신대학의 등급별로 해외 근무지에서의 연봉이 다르다')\n",
    "\n",
    "print(('상위권 국내:' ,pd.concat([X_train,y_train],axis=1)[(pd.concat([X_train,y_train],axis=1)['출신대학_등급']=='상위권') & (pd.concat([X_train,y_train],axis=1)['근무지역_해외']=='국내')]['Salary'].mean()))\n",
    "print(('중위권 국내:' ,pd.concat([X_train,y_train],axis=1)[(pd.concat([X_train,y_train],axis=1)['출신대학_등급']=='중위권') & (pd.concat([X_train,y_train],axis=1)['근무지역_해외']=='국내')]['Salary'].mean()))\n",
    "print(('하위권 국내:' ,pd.concat([X_train,y_train],axis=1)[(pd.concat([X_train,y_train],axis=1)['출신대학_등급']=='하위권') & (pd.concat([X_train,y_train],axis=1)['근무지역_해외']=='국내')]['Salary'].mean()))\n",
    "print('출신대학의 등급별로 국내 근무지에서의 연봉이 다르다')"
   ]
  },
  {
   "cell_type": "code",
   "execution_count": 20,
   "id": "7885395d",
   "metadata": {},
   "outputs": [],
   "source": [
    "def equation1(X):\n",
    "    rank = []\n",
    "    workabroad = []\n",
    "    languagetest = []\n",
    "    for i in range(X.shape[0]):\n",
    "        if X.loc[i,'출신대학_등급'] == '상위권':\n",
    "            rank.append(3)\n",
    "        elif X.loc[i,'출신대학_등급'] == '중위권':\n",
    "            rank.append(2)\n",
    "        else:\n",
    "            rank.append(1)\n",
    "    for i in range(X.shape[0]):\n",
    "        if X.loc[i,'근무지역_해외'] == '해외':\n",
    "            workabroad.append(2)\n",
    "        else:\n",
    "            workabroad.append(1)\n",
    "    for i in range(X.shape[0]):\n",
    "        if X.loc[i,'어학시험'] != '없음':\n",
    "            languagetest.append(2)\n",
    "        else:\n",
    "            languagetest.append(1)\n",
    "    equation_score = np.array(rank) + np.array(workabroad) + np.array(languagetest)\n",
    "    X['스펙점수'] = equation_score\n",
    "    \n",
    "equation1(X_train)\n",
    "equation1(X_test)"
   ]
  },
  {
   "cell_type": "code",
   "execution_count": 21,
   "id": "eae5d5bd",
   "metadata": {},
   "outputs": [],
   "source": [
    "X_train['스펙점수'] = X_train['스펙점수'] ** 2\n",
    "X_test['스펙점수'] = X_test['스펙점수'] ** 2"
   ]
  },
  {
   "cell_type": "markdown",
   "id": "09197c6e",
   "metadata": {},
   "source": [
    "- 세부직종 RANK생성"
   ]
  },
  {
   "cell_type": "code",
   "execution_count": 22,
   "id": "c8ab5870",
   "metadata": {},
   "outputs": [],
   "source": [
    "def specific_rank(X):\n",
    "    specific_rank = pd.read_csv('specific_rank.csv',encoding='cp949')\n",
    "    for i in range(X.shape[0]):\n",
    "        if X.loc[i,'세부직종'] in set(specific_rank['상위25%'].values):\n",
    "            X.loc[i,'세부직종_등급'] = 'A'\n",
    "        elif X.loc[i,'세부직종'] in set(specific_rank['상위50%'].values):\n",
    "            X.loc[i,'세부직종_등급'] = 'B'\n",
    "        elif X.loc[i,'세부직종'] in set(specific_rank['상위75%'].values):\n",
    "            X.loc[i,'세부직종_등급'] = 'C'\n",
    "        else:\n",
    "            X.loc[i,'세부직종_등급'] = 'D'\n",
    "specific_rank(X_train)\n",
    "specific_rank(X_test)"
   ]
  },
  {
   "cell_type": "markdown",
   "id": "bddf2580",
   "metadata": {},
   "source": [
    "- 직무태그 개수"
   ]
  },
  {
   "cell_type": "code",
   "execution_count": 23,
   "id": "57bcd05a",
   "metadata": {},
   "outputs": [],
   "source": [
    "X_train['직무태그'] = X_train['직무태그'].fillna('없음')\n",
    "X_test['직무태그'] = X_test['직무태그'].fillna('없음')"
   ]
  },
  {
   "cell_type": "code",
   "execution_count": 24,
   "id": "c397833c",
   "metadata": {},
   "outputs": [],
   "source": [
    "def tag_count(X):\n",
    "    X['직무태그'] = X['직무태그'].str.strip()\n",
    "\n",
    "    a = []\n",
    "    for i in X.직무태그.str.split(','):\n",
    "        b = len(i)\n",
    "        a.append(b)\n",
    "    X['직무태그_갯수'] = a\n",
    "tag_count(X_train)\n",
    "tag_count(X_test)"
   ]
  },
  {
   "cell_type": "markdown",
   "id": "01445431",
   "metadata": {},
   "source": [
    "- 숙련도"
   ]
  },
  {
   "cell_type": "code",
   "execution_count": 25,
   "id": "b619ce26",
   "metadata": {},
   "outputs": [],
   "source": [
    "def blacksmith(X):\n",
    "    a = []\n",
    "\n",
    "    for i in X['연차']:\n",
    "        if i==0:\n",
    "            b = '경력없음'\n",
    "        elif i <=2:\n",
    "            b = '하'\n",
    "        elif i <=4:\n",
    "            b = '중'\n",
    "        elif i <=6:\n",
    "            b = '중상'\n",
    "        else:\n",
    "            b = '상'\n",
    "        a.append(b)\n",
    "    X['숙련도'] = a\n",
    "blacksmith(X_train)\n",
    "blacksmith(X_test)\n",
    "    # data.drop(columns='근무경력', inplace=True)"
   ]
  },
  {
   "cell_type": "markdown",
   "id": "d253b306",
   "metadata": {},
   "source": [
    "- 수치형변수 이상치 제어"
   ]
  },
  {
   "cell_type": "code",
   "execution_count": 26,
   "id": "2f900f85",
   "metadata": {},
   "outputs": [],
   "source": [
    "X_train['연차'] = np.clip(X_train['연차'],0,60)\n",
    "X_test['연차'] = np.clip(X_test['연차'],0,60)"
   ]
  },
  {
   "cell_type": "markdown",
   "id": "2a1bc7e7",
   "metadata": {},
   "source": [
    "- NEW 스펙점수"
   ]
  },
  {
   "cell_type": "code",
   "execution_count": 27,
   "id": "1ccc9a59",
   "metadata": {},
   "outputs": [],
   "source": [
    "def equation2(X):\n",
    "    rank = []\n",
    "    workabroad = []\n",
    "    languagetest = []\n",
    "    workform = []\n",
    "    blacksmith = []\n",
    "    for i in range(X.shape[0]):\n",
    "        if X.loc[i,'출신대학_등급'] == '상위권':\n",
    "            rank.append(3)\n",
    "        elif X.loc[i,'출신대학_등급'] == '중위권':\n",
    "            rank.append(2)\n",
    "        else:\n",
    "            rank.append(1)\n",
    "    for i in range(X.shape[0]):\n",
    "        if X.loc[i,'근무지역_해외'] == '해외':\n",
    "            workabroad.append(2)\n",
    "        else:\n",
    "            workabroad.append(1)\n",
    "    for i in range(X.shape[0]):\n",
    "        if X.loc[i,'어학시험'] != '없음':\n",
    "            languagetest.append(2)\n",
    "        else:\n",
    "            languagetest.append(1)\n",
    "    for i in range(X.shape[0]):\n",
    "        if X.loc[i,'근무형태'] == '정규직':\n",
    "            workform.append(2)\n",
    "        else:\n",
    "            workform.append(1)\n",
    "    for i in range(X.shape[0]):\n",
    "        if X.loc[i,'숙련도'] == '상':\n",
    "            blacksmith.append(4)\n",
    "        elif  X.loc[i,'숙련도'] == '중상':\n",
    "            blacksmith.append(3)\n",
    "        elif  X.loc[i,'숙련도'] == '중':\n",
    "            blacksmith.append(2)            \n",
    "        elif  X.loc[i,'숙련도'] == '하':\n",
    "            blacksmith.append(1)\n",
    "        else:\n",
    "            blacksmith.append(0)\n",
    "    equation_score = np.array(rank) + np.array(workabroad) + np.array(languagetest) + np.array(workform) + np.array(blacksmith)\n",
    "    X['NEW스펙점수'] = equation_score\n",
    "   \n",
    "equation2(X_train)\n",
    "equation2(X_test)"
   ]
  },
  {
   "cell_type": "code",
   "execution_count": 28,
   "id": "f974f5ec",
   "metadata": {},
   "outputs": [],
   "source": [
    "X_train['NEW스펙점수'] = X_train['NEW스펙점수'] ** 2\n",
    "X_test['NEW스펙점수'] = X_test['NEW스펙점수'] ** 2"
   ]
  },
  {
   "cell_type": "markdown",
   "id": "836dac36",
   "metadata": {},
   "source": [
    "- 세부직종 기타합"
   ]
  },
  {
   "cell_type": "code",
   "execution_count": 29,
   "id": "fa2ac35e",
   "metadata": {},
   "outputs": [],
   "source": [
    "#세부직종 99%(sample<10)이상 기타\n",
    "def specific(X):\n",
    "    specific = (X['세부직종'].value_counts() < 10).reset_index()\n",
    "    temp = np.array(specific[specific['세부직종'] == True]['index'])\n",
    "    for i in range(X.shape[0]):\n",
    "        if X.loc[i,'세부직종'] in temp:\n",
    "            X.loc[i,'세부직종_기타'] = '기타'\n",
    "        else:\n",
    "            X.loc[i,'세부직종_기타'] = X.loc[i,'세부직종']\n",
    "specific(X_train)\n",
    "specific(X_test)"
   ]
  },
  {
   "cell_type": "markdown",
   "id": "e30e314f",
   "metadata": {},
   "source": [
    "- 전공1 추합 및 기타생성"
   ]
  },
  {
   "cell_type": "code",
   "execution_count": 30,
   "id": "3732c91b",
   "metadata": {},
   "outputs": [],
   "source": [
    "major_add = pd.read_csv('major_sum_add.csv',encoding='cp949').fillna('미포함')"
   ]
  },
  {
   "cell_type": "code",
   "execution_count": 31,
   "id": "b3a267ae",
   "metadata": {},
   "outputs": [],
   "source": [
    "def major_sum_add(X):\n",
    "    for i in major_add.columns:\n",
    "        example_test= major_add[i]\n",
    "        test = '|'.join(example_test) \n",
    "        X.loc[X['전공1'].str.contains(test),'전공1'] = str(i) + '학과'\n",
    "major_sum_add(X_train)\n",
    "major_sum_add(X_test)"
   ]
  },
  {
   "cell_type": "code",
   "execution_count": 32,
   "id": "158e2acb",
   "metadata": {},
   "outputs": [],
   "source": [
    "#주요 Feature 전공1(sample=1) -> 기타\n",
    "def major1(X):\n",
    "    major1 = (X['전공1'].value_counts() < 2).reset_index()\n",
    "    temp = np.array(major1[major1['전공1'] == True]['index'])\n",
    "    for i in range(X.shape[0]):\n",
    "        if X.loc[i,'전공1'] in temp:\n",
    "            X.loc[i,'전공1'] = '기타'\n",
    "        else:\n",
    "            X.loc[i,'전공1'] = X.loc[i,'전공1']\n",
    "major1(X_train)\n",
    "major1(X_test)"
   ]
  },
  {
   "cell_type": "markdown",
   "id": "a8284c35",
   "metadata": {},
   "source": [
    "- 연차 방정식"
   ]
  },
  {
   "cell_type": "code",
   "execution_count": 33,
   "id": "0b59d702",
   "metadata": {},
   "outputs": [],
   "source": [
    "def equation3(X):\n",
    "    year = []\n",
    "    rank=[]\n",
    "    workform = []\n",
    "\n",
    "    for i in range(X.shape[0]):\n",
    "        if X.loc[i,'연차'] == 0:\n",
    "            year.append(0)\n",
    "        elif X.loc[i,'연차'] <= 1:\n",
    "            year.append(1)\n",
    "        elif X.loc[i,'연차'] <= 3:\n",
    "            year.append(2)\n",
    "        elif X.loc[i,'연차'] <= 5:\n",
    "            year.append(3)\n",
    "        elif X.loc[i,'연차'] <= 8:\n",
    "            year.append(4)\n",
    "        elif X.loc[i,'연차'] <= 10:\n",
    "            year.append(5)\n",
    "        elif X.loc[i,'연차'] <= 13:\n",
    "            year.append(6)\n",
    "        else:\n",
    "            year.append(7)\n",
    "    for i in range(X.shape[0]):\n",
    "        if X.loc[i,'출신대학_등급'] == '상위권':\n",
    "            rank.append(3)\n",
    "        elif X.loc[i,'출신대학_등급'] == '중위권':\n",
    "            rank.append(2)\n",
    "        else:\n",
    "            rank.append(1)\n",
    "    for i in range(X.shape[0]):\n",
    "        if X.loc[i,'근무형태'] == '정규직':\n",
    "            workform.append(2)\n",
    "        else:\n",
    "            workform.append(1)\n",
    "\n",
    "    equation_score = np.array(rank) + np.array(year)  + np.array(workform) \n",
    "    X['연차방정식'] = equation_score\n",
    "   \n",
    "equation3(X_train)\n",
    "equation3(X_test)"
   ]
  },
  {
   "cell_type": "markdown",
   "id": "d6afaa13",
   "metadata": {},
   "source": [
    "- 직무태그 통합"
   ]
  },
  {
   "cell_type": "code",
   "execution_count": 34,
   "id": "fcfc8a7e",
   "metadata": {},
   "outputs": [],
   "source": [
    "tag_train = pd.read_csv('X_train.csv',encoding='cp949')['직무태그']\n",
    "tag_test = pd.read_csv('X_test.csv', encoding='cp949')['직무태그']\n",
    "X_train['직무태그'] = tag_train\n",
    "X_test['직무태그'] = tag_test\n",
    "#ver1\n",
    "X_train['직무태그'] = X_train['직무태그'].fillna('NO DATA')\n",
    "X_test['직무태그'] = X_test['직무태그'].fillna('NO DATA')"
   ]
  },
  {
   "cell_type": "code",
   "execution_count": 35,
   "id": "588c3f3f",
   "metadata": {},
   "outputs": [],
   "source": [
    "tag_summary = pd.read_csv('tag_sum.csv',encoding='cp949')\n",
    "tag_summary = tag_summary.fillna('없음')\n",
    "def tag_sum2(X):\n",
    "    col = []\n",
    "    tag = X['직무태그'].str.split(',').apply(lambda x: pd.Series(x)).iloc[:,:20].fillna('결측')\n",
    "    for j in tag.columns:\n",
    "        tag[j] = tag[j].str.lower()\n",
    "        tag[j] = tag[j].str.strip()\n",
    "        try:\n",
    "            for i in tag_summary.columns:\n",
    "                example_test= tag_summary[i]\n",
    "                test = '|'.join(example_test) \n",
    "                tag.loc[tag[j].str.contains(test),j] = str(i)\n",
    "        except:\n",
    "            continue\n",
    "    for i in tag.columns:\n",
    "        col.append('직무태그'+str(i))\n",
    "        \n",
    "    tag.columns = col\n",
    "    return tag\n",
    "\n",
    "X_train = pd.concat([X_train,tag_sum2(X_train)],axis=1)\n",
    "X_test = pd.concat([X_test,tag_sum2(X_test)],axis=1)"
   ]
  },
  {
   "cell_type": "markdown",
   "id": "ce1c864f",
   "metadata": {},
   "source": [
    "- 여대 여부"
   ]
  },
  {
   "cell_type": "code",
   "execution_count": 36,
   "id": "9f304143",
   "metadata": {},
   "outputs": [],
   "source": [
    "def woman(X):\n",
    "    g_d = []\n",
    "    for i in X['출신대학']:\n",
    "        if '여자' in i:\n",
    "            g_d.append('yes')\n",
    "        else :\n",
    "            g_d.append('no')\n",
    "    X['여대'] = g_d\n",
    "woman(X_train)\n",
    "woman(X_test)"
   ]
  },
  {
   "cell_type": "markdown",
   "id": "40ecf7a7",
   "metadata": {},
   "source": [
    "- 직무태그 PCA"
   ]
  },
  {
   "cell_type": "code",
   "execution_count": 37,
   "id": "2c75d451",
   "metadata": {},
   "outputs": [],
   "source": [
    "data = pd.concat([X_train,X_test])\n",
    "sentences = data['직무태그']\n",
    "vectorizer = CountVectorizer()\n",
    "features = vectorizer.fit_transform(sentences)\n",
    "vocab = vectorizer.get_feature_names()\n",
    "new = pd.DataFrame(features.toarray(), columns = vocab)\n",
    "X_train_New = new[:16570]\n",
    "X_test_New = new[16570:]\n",
    "rnd_pca = PCA(n_components=30,svd_solver='randomized',random_state=2)\n",
    "X_train_reduced2 = rnd_pca.fit_transform(X_train_New)\n",
    "X_test_reduced2 = rnd_pca.transform(X_test_New)"
   ]
  },
  {
   "cell_type": "code",
   "execution_count": 38,
   "id": "4fed9006",
   "metadata": {},
   "outputs": [],
   "source": [
    "train = pd.DataFrame(X_train_reduced2)\n",
    "test = pd.DataFrame(X_test_reduced2)\n",
    "X_train = pd.concat([X_train, train],axis=1)\n",
    "X_test = pd.concat([X_test, test],axis=1)"
   ]
  },
  {
   "cell_type": "code",
   "execution_count": 39,
   "id": "82a01d82",
   "metadata": {},
   "outputs": [
    {
     "name": "stdout",
     "output_type": "stream",
     "text": [
      "CV scores:  [825.13371699 809.79962418 830.6056068  785.35797013 796.72702899]\n",
      "CV mean = 809.52 with std = 16.95\n"
     ]
    }
   ],
   "source": [
    "categorical_features = list(X_train.select_dtypes(include=\"object\").columns)\n",
    "numeric_features = list(X_test.select_dtypes(exclude=\"object\").columns)\n",
    "scores = []  # CV 결과 저장\n",
    "oof_pred = np.zeros(X_test.shape[0])  # OOF 저장\n",
    "\n",
    "kfold = KFold(n_splits=5, shuffle=True, random_state=0) # K-Folds cross-validator # 셔플 안하면 원래 데이터 순서대로.\n",
    "\n",
    "for train_index, valid_index in kfold.split(X_train, y_train): \n",
    "    # 학습/검증 데이터 분할\n",
    "    train_x, valid_x = X_train.iloc[train_index], X_train.iloc[valid_index]\n",
    "    train_y, valid_y = y_train.iloc[train_index], y_train.iloc[valid_index]\n",
    "\n",
    "    # 범주형피처 직접 처리와 Early stopping을 사용하여 CatBoost 모델링\n",
    "    model = CatBoostRegressor(cat_features=categorical_features, verbose=False ,random_state=0)\n",
    "    model.fit(train_x, train_y, \n",
    "              eval_set=[(valid_x,valid_y)],\n",
    "              early_stopping_rounds=100, # 얘는 과대적합을 줄이기 위해서\n",
    "             )\n",
    "\n",
    "    # CV 스코어 계산 및 저장\n",
    "    rmse = np.sqrt(mean_squared_error(valid_y, model.predict(valid_x)))\n",
    "    scores.append(rmse)\n",
    "\n",
    "    # OOF 예측값 저장\n",
    "    oof_pred += model.predict(X_test) / kfold.get_n_splits()\n",
    "    \n",
    "scores = np.array(scores)\n",
    "print(\"CV scores: \", scores)\n",
    "print(\"CV mean = %.2f\" % scores.mean(), \"with std = %.2f\" % scores.std())"
   ]
  },
  {
   "cell_type": "code",
   "execution_count": 43,
   "id": "2566b365",
   "metadata": {},
   "outputs": [],
   "source": [
    "#submission 화일 생성·\n",
    "CATBOOST_VERSION ='modelB'\n",
    "filename = f'catboost_{CATBOOST_VERSION}_{scores.mean():.2f}.csv'\n",
    "pd.DataFrame({'ID':test_id, 'Salary':oof_pred}).to_csv(filename, index=False)"
   ]
  },
  {
   "cell_type": "markdown",
   "id": "cd328052",
   "metadata": {},
   "source": [
    "## STACKING"
   ]
  },
  {
   "cell_type": "markdown",
   "id": "2b316a7d",
   "metadata": {},
   "source": [
    "- catboost 생성"
   ]
  },
  {
   "cell_type": "code",
   "execution_count": 45,
   "id": "7a14a67d",
   "metadata": {},
   "outputs": [],
   "source": [
    "def get_stacking_data(model, X_train, y_train, X_test, n_folds=5):     \n",
    "  kfold = KFold(n_splits = n_folds,shuffle=True, random_state = 42)\n",
    "\n",
    "  train_fold_predict = np.zeros((X_train.shape[0],1))\n",
    "\n",
    "\n",
    "  test_predict = np.zeros((X_test.shape[0], n_folds))\n",
    "  print('model : ',model.__class__.__name__)\n",
    "  \n",
    "  for cnt, (train_index, valid_index) in enumerate(kfold.split(X_train)):\n",
    "    X_train_ = X_train.iloc[train_index]\n",
    "    y_train_ = y_train.iloc[train_index]\n",
    "    X_valid = X_train.iloc[valid_index]\n",
    "\n",
    "    # 학습\n",
    "    model.fit(X_train_,y_train_)\n",
    "\n",
    "    train_fold_predict[valid_index,:] = model.predict(X_valid).reshape(-1,1)\n",
    "\n",
    "    test_predict[:,cnt] = model.predict(X_test)\n",
    "\n",
    "  test_predict_mean = np.mean(test_predict, axis=1).reshape(-1,1)\n",
    "  \n",
    "  return train_fold_predict, test_predict_mean"
   ]
  },
  {
   "cell_type": "code",
   "execution_count": 47,
   "id": "e88ff378",
   "metadata": {},
   "outputs": [
    {
     "name": "stdout",
     "output_type": "stream",
     "text": [
      "model :  CatBoostRegressor\n"
     ]
    }
   ],
   "source": [
    "model = CatBoostRegressor(cat_features=categorical_features, verbose=False ,random_state=0)\n",
    "cat_train , cat_test = get_stacking_data(model, X_train, y_train, X_test, n_folds=5)"
   ]
  },
  {
   "cell_type": "code",
   "execution_count": 48,
   "id": "1a810caa",
   "metadata": {
    "scrolled": true
   },
   "outputs": [],
   "source": [
    "cat_data = pd.concat([pd.DataFrame(cat_train), pd.DataFrame(cat_test)],axis=1)\n",
    "cat_data.columns = ['modelB_train','modelB_test']\n",
    "cat_data.to_csv('modelB_cat_data.csv')"
   ]
  },
  {
   "cell_type": "markdown",
   "id": "9e9b9783",
   "metadata": {},
   "source": [
    "- LGBM"
   ]
  },
  {
   "cell_type": "code",
   "execution_count": 49,
   "id": "1c97efac",
   "metadata": {},
   "outputs": [],
   "source": [
    "def get_stacking_data(model, X_train, y_train, X_test, n_folds=5):     \n",
    "  kfold = KFold(n_splits = n_folds,shuffle=True, random_state = 267)\n",
    "  \n",
    "\n",
    "  train_fold_predict = np.zeros((X_train.shape[0],1))\n",
    "\n",
    "  test_predict = np.zeros((X_test.shape[0], n_folds))\n",
    "  print('model : ',model.__class__.__name__)\n",
    "  \n",
    "  for cnt, (train_index, valid_index) in enumerate(kfold.split(X_train)):\n",
    "    X_train_ = X_train.iloc[train_index]\n",
    "    y_train_ = y_train.iloc[train_index]\n",
    "    X_valid = X_train.iloc[valid_index]\n",
    "\n",
    "\n",
    "    model.fit(X_train_,y_train_)\n",
    "\n",
    "    train_fold_predict[valid_index,:] = model.predict(X_valid).reshape(-1,1)\n",
    "\n",
    "    test_predict[:,cnt] = model.predict(X_test)\n",
    "  \n",
    "\n",
    "  test_predict_mean = np.mean(test_predict, axis=1).reshape(-1,1)\n",
    "  \n",
    "  return train_fold_predict, test_predict_mean"
   ]
  },
  {
   "cell_type": "code",
   "execution_count": 50,
   "id": "ec5c3a5e",
   "metadata": {},
   "outputs": [],
   "source": [
    "X_train.columns = list(map(str,X_train.columns))\n",
    "X_test.columns = list(map(str,X_test.columns))\n",
    "X_train.columns = X_train.columns+'temp'\n",
    "X_test.columns = X_test.columns+'temp'\n",
    "categorical_features = list(X_train.select_dtypes(include=\"object\").columns)\n",
    "numeric_features = list(X_test.select_dtypes(exclude=\"object\").columns)\n",
    "X_train = X_train[numeric_features+categorical_features]\n",
    "X_test = X_test[numeric_features+categorical_features]"
   ]
  },
  {
   "cell_type": "code",
   "execution_count": 54,
   "id": "c814a352",
   "metadata": {},
   "outputs": [
    {
     "data": {
      "text/html": [
       "<style>#sk-b258f852-7ee9-4c0f-80da-1a1ff4488000 {color: black;background-color: white;}#sk-b258f852-7ee9-4c0f-80da-1a1ff4488000 pre{padding: 0;}#sk-b258f852-7ee9-4c0f-80da-1a1ff4488000 div.sk-toggleable {background-color: white;}#sk-b258f852-7ee9-4c0f-80da-1a1ff4488000 label.sk-toggleable__label {cursor: pointer;display: block;width: 100%;margin-bottom: 0;padding: 0.2em 0.3em;box-sizing: border-box;text-align: center;}#sk-b258f852-7ee9-4c0f-80da-1a1ff4488000 div.sk-toggleable__content {max-height: 0;max-width: 0;overflow: hidden;text-align: left;background-color: #f0f8ff;}#sk-b258f852-7ee9-4c0f-80da-1a1ff4488000 div.sk-toggleable__content pre {margin: 0.2em;color: black;border-radius: 0.25em;background-color: #f0f8ff;}#sk-b258f852-7ee9-4c0f-80da-1a1ff4488000 input.sk-toggleable__control:checked~div.sk-toggleable__content {max-height: 200px;max-width: 100%;overflow: auto;}#sk-b258f852-7ee9-4c0f-80da-1a1ff4488000 div.sk-estimator input.sk-toggleable__control:checked~label.sk-toggleable__label {background-color: #d4ebff;}#sk-b258f852-7ee9-4c0f-80da-1a1ff4488000 div.sk-label input.sk-toggleable__control:checked~label.sk-toggleable__label {background-color: #d4ebff;}#sk-b258f852-7ee9-4c0f-80da-1a1ff4488000 input.sk-hidden--visually {border: 0;clip: rect(1px 1px 1px 1px);clip: rect(1px, 1px, 1px, 1px);height: 1px;margin: -1px;overflow: hidden;padding: 0;position: absolute;width: 1px;}#sk-b258f852-7ee9-4c0f-80da-1a1ff4488000 div.sk-estimator {font-family: monospace;background-color: #f0f8ff;margin: 0.25em 0.25em;border: 1px dotted black;border-radius: 0.25em;box-sizing: border-box;}#sk-b258f852-7ee9-4c0f-80da-1a1ff4488000 div.sk-estimator:hover {background-color: #d4ebff;}#sk-b258f852-7ee9-4c0f-80da-1a1ff4488000 div.sk-parallel-item::after {content: \"\";width: 100%;border-bottom: 1px solid gray;flex-grow: 1;}#sk-b258f852-7ee9-4c0f-80da-1a1ff4488000 div.sk-label:hover label.sk-toggleable__label {background-color: #d4ebff;}#sk-b258f852-7ee9-4c0f-80da-1a1ff4488000 div.sk-serial::before {content: \"\";position: absolute;border-left: 1px solid gray;box-sizing: border-box;top: 2em;bottom: 0;left: 50%;}#sk-b258f852-7ee9-4c0f-80da-1a1ff4488000 div.sk-serial {display: flex;flex-direction: column;align-items: center;background-color: white;}#sk-b258f852-7ee9-4c0f-80da-1a1ff4488000 div.sk-item {z-index: 1;}#sk-b258f852-7ee9-4c0f-80da-1a1ff4488000 div.sk-parallel {display: flex;align-items: stretch;justify-content: center;background-color: white;}#sk-b258f852-7ee9-4c0f-80da-1a1ff4488000 div.sk-parallel-item {display: flex;flex-direction: column;position: relative;background-color: white;}#sk-b258f852-7ee9-4c0f-80da-1a1ff4488000 div.sk-parallel-item:first-child::after {align-self: flex-end;width: 50%;}#sk-b258f852-7ee9-4c0f-80da-1a1ff4488000 div.sk-parallel-item:last-child::after {align-self: flex-start;width: 50%;}#sk-b258f852-7ee9-4c0f-80da-1a1ff4488000 div.sk-parallel-item:only-child::after {width: 0;}#sk-b258f852-7ee9-4c0f-80da-1a1ff4488000 div.sk-dashed-wrapped {border: 1px dashed gray;margin: 0.2em;box-sizing: border-box;padding-bottom: 0.1em;background-color: white;position: relative;}#sk-b258f852-7ee9-4c0f-80da-1a1ff4488000 div.sk-label label {font-family: monospace;font-weight: bold;background-color: white;display: inline-block;line-height: 1.2em;}#sk-b258f852-7ee9-4c0f-80da-1a1ff4488000 div.sk-label-container {position: relative;z-index: 2;text-align: center;}#sk-b258f852-7ee9-4c0f-80da-1a1ff4488000 div.sk-container {display: inline-block;position: relative;}</style><div id=\"sk-b258f852-7ee9-4c0f-80da-1a1ff4488000\" class\"sk-top-container\"><div class=\"sk-container\"><div class=\"sk-item sk-dashed-wrapped\"><div class=\"sk-label-container\"><div class=\"sk-label sk-toggleable\"><input class=\"sk-toggleable__control sk-hidden--visually\" id=\"daf775e8-b463-409a-9793-70129e743d1c\" type=\"checkbox\" ><label class=\"sk-toggleable__label\" for=\"daf775e8-b463-409a-9793-70129e743d1c\">Pipeline</label><div class=\"sk-toggleable__content\"><pre>Pipeline(steps=[('preprocessor',\n",
       "                 Pipeline(steps=[('column',\n",
       "                                  ColumnTransformer(transformers=[('num',\n",
       "                                                                   Pipeline(steps=[('imputer',\n",
       "                                                                                    SimpleImputer())]),\n",
       "                                                                   ['대학성적temp',\n",
       "                                                                    '연차temp',\n",
       "                                                                    '스펙점수temp',\n",
       "                                                                    '직무태그_갯수temp',\n",
       "                                                                    'NEW스펙점수temp',\n",
       "                                                                    '연차방정식temp',\n",
       "                                                                    '0temp',\n",
       "                                                                    '1temp',\n",
       "                                                                    '2temp',\n",
       "                                                                    '3temp',\n",
       "                                                                    '4temp',\n",
       "                                                                    '5temp',\n",
       "                                                                    '6temp',\n",
       "                                                                    '7temp',\n",
       "                                                                    '8temp',\n",
       "                                                                    '9temp',\n",
       "                                                                    '10temp',\n",
       "                                                                    '11temp',\n",
       "                                                                    '12temp',\n",
       "                                                                    '13temp',\n",
       "                                                                    '14temp',\n",
       "                                                                    '15temp',\n",
       "                                                                    '...\n",
       "                                                                    '자격증temp',\n",
       "                                                                    '근무형태1temp',\n",
       "                                                                    '근무형태2temp',\n",
       "                                                                    '근무형태3temp',\n",
       "                                                                    '근무형태4temp',\n",
       "                                                                    '근무1지역temp',\n",
       "                                                                    '근무2지역temp',\n",
       "                                                                    '근무3지역temp',\n",
       "                                                                    '전공1temp',\n",
       "                                                                    '전공2temp',\n",
       "                                                                    '전공3temp',\n",
       "                                                                    '대학전공_계열temp',\n",
       "                                                                    '출신대학_등급temp',\n",
       "                                                                    '근무지역_해외temp',\n",
       "                                                                    '출신대학_지역temp',\n",
       "                                                                    '세부직종_등급temp',\n",
       "                                                                    '숙련도temp',\n",
       "                                                                    '세부직종_기타temp',\n",
       "                                                                    '직무태그0temp',\n",
       "                                                                    '직무태그1temp',\n",
       "                                                                    '직무태그2temp', ...])])),\n",
       "                                 ('selector',\n",
       "                                  SelectPercentile(percentile=100))])),\n",
       "                ('classifier', LGBMRegressor(random_state=0))])</pre></div></div></div><div class=\"sk-serial\"><div class=\"sk-item\"><div class=\"sk-label-container\"><div class=\"sk-label sk-toggleable\"><input class=\"sk-toggleable__control sk-hidden--visually\" id=\"92ba5f36-60de-42c6-975e-4cb33304bad0\" type=\"checkbox\" ><label class=\"sk-toggleable__label\" for=\"92ba5f36-60de-42c6-975e-4cb33304bad0\">preprocessor: Pipeline</label><div class=\"sk-toggleable__content\"><pre>Pipeline(steps=[('column',\n",
       "                 ColumnTransformer(transformers=[('num',\n",
       "                                                  Pipeline(steps=[('imputer',\n",
       "                                                                   SimpleImputer())]),\n",
       "                                                  ['대학성적temp', '연차temp',\n",
       "                                                   '스펙점수temp', '직무태그_갯수temp',\n",
       "                                                   'NEW스펙점수temp', '연차방정식temp',\n",
       "                                                   '0temp', '1temp', '2temp',\n",
       "                                                   '3temp', '4temp', '5temp',\n",
       "                                                   '6temp', '7temp', '8temp',\n",
       "                                                   '9temp', '10temp', '11temp',\n",
       "                                                   '12temp', '13temp', '14temp',\n",
       "                                                   '15temp', '16temp', '17temp',\n",
       "                                                   '18temp', '19tem...\n",
       "                                                   '근무형태temp', '근무지역temp',\n",
       "                                                   '출신대학temp', '대학전공temp',\n",
       "                                                   '어학시험temp', '자격증temp',\n",
       "                                                   '근무형태1temp', '근무형태2temp',\n",
       "                                                   '근무형태3temp', '근무형태4temp',\n",
       "                                                   '근무1지역temp', '근무2지역temp',\n",
       "                                                   '근무3지역temp', '전공1temp',\n",
       "                                                   '전공2temp', '전공3temp',\n",
       "                                                   '대학전공_계열temp', '출신대학_등급temp',\n",
       "                                                   '근무지역_해외temp', '출신대학_지역temp',\n",
       "                                                   '세부직종_등급temp', '숙련도temp',\n",
       "                                                   '세부직종_기타temp', '직무태그0temp',\n",
       "                                                   '직무태그1temp', '직무태그2temp', ...])])),\n",
       "                ('selector', SelectPercentile(percentile=100))])</pre></div></div></div><div class=\"sk-serial\"><div class=\"sk-item sk-dashed-wrapped\"><div class=\"sk-label-container\"><div class=\"sk-label sk-toggleable\"><input class=\"sk-toggleable__control sk-hidden--visually\" id=\"48e19033-067d-4001-beda-63c152f32105\" type=\"checkbox\" ><label class=\"sk-toggleable__label\" for=\"48e19033-067d-4001-beda-63c152f32105\">column: ColumnTransformer</label><div class=\"sk-toggleable__content\"><pre>ColumnTransformer(transformers=[('num',\n",
       "                                 Pipeline(steps=[('imputer', SimpleImputer())]),\n",
       "                                 ['대학성적temp', '연차temp', '스펙점수temp',\n",
       "                                  '직무태그_갯수temp', 'NEW스펙점수temp', '연차방정식temp',\n",
       "                                  '0temp', '1temp', '2temp', '3temp', '4temp',\n",
       "                                  '5temp', '6temp', '7temp', '8temp', '9temp',\n",
       "                                  '10temp', '11temp', '12temp', '13temp',\n",
       "                                  '14temp', '15temp', '16temp', '17temp',\n",
       "                                  '18temp', '19temp', '20temp', '21temp',\n",
       "                                  '22te...\n",
       "                                 ['직종temp', '세부직종temp', '직무태그temp', '근무경력temp',\n",
       "                                  '근무형태temp', '근무지역temp', '출신대학temp',\n",
       "                                  '대학전공temp', '어학시험temp', '자격증temp',\n",
       "                                  '근무형태1temp', '근무형태2temp', '근무형태3temp',\n",
       "                                  '근무형태4temp', '근무1지역temp', '근무2지역temp',\n",
       "                                  '근무3지역temp', '전공1temp', '전공2temp', '전공3temp',\n",
       "                                  '대학전공_계열temp', '출신대학_등급temp', '근무지역_해외temp',\n",
       "                                  '출신대학_지역temp', '세부직종_등급temp', '숙련도temp',\n",
       "                                  '세부직종_기타temp', '직무태그0temp', '직무태그1temp',\n",
       "                                  '직무태그2temp', ...])])</pre></div></div></div><div class=\"sk-parallel\"><div class=\"sk-parallel-item\"><div class=\"sk-item\"><div class=\"sk-label-container\"><div class=\"sk-label sk-toggleable\"><input class=\"sk-toggleable__control sk-hidden--visually\" id=\"efff9304-ebd1-4ca0-8ae6-d4b003a41278\" type=\"checkbox\" ><label class=\"sk-toggleable__label\" for=\"efff9304-ebd1-4ca0-8ae6-d4b003a41278\">num</label><div class=\"sk-toggleable__content\"><pre>['대학성적temp', '연차temp', '스펙점수temp', '직무태그_갯수temp', 'NEW스펙점수temp', '연차방정식temp', '0temp', '1temp', '2temp', '3temp', '4temp', '5temp', '6temp', '7temp', '8temp', '9temp', '10temp', '11temp', '12temp', '13temp', '14temp', '15temp', '16temp', '17temp', '18temp', '19temp', '20temp', '21temp', '22temp', '23temp', '24temp', '25temp', '26temp', '27temp', '28temp', '29temp']</pre></div></div></div><div class=\"sk-serial\"><div class=\"sk-item\"><div class=\"sk-serial\"><div class=\"sk-item\"><div class=\"sk-estimator sk-toggleable\"><input class=\"sk-toggleable__control sk-hidden--visually\" id=\"3a4ef001-6697-48d5-8309-bbf2a2a1cafa\" type=\"checkbox\" ><label class=\"sk-toggleable__label\" for=\"3a4ef001-6697-48d5-8309-bbf2a2a1cafa\">SimpleImputer</label><div class=\"sk-toggleable__content\"><pre>SimpleImputer()</pre></div></div></div></div></div></div></div></div><div class=\"sk-parallel-item\"><div class=\"sk-item\"><div class=\"sk-label-container\"><div class=\"sk-label sk-toggleable\"><input class=\"sk-toggleable__control sk-hidden--visually\" id=\"ac1d4c8e-8e1e-4a41-9ace-b006ad37de75\" type=\"checkbox\" ><label class=\"sk-toggleable__label\" for=\"ac1d4c8e-8e1e-4a41-9ace-b006ad37de75\">cat</label><div class=\"sk-toggleable__content\"><pre>['직종temp', '세부직종temp', '직무태그temp', '근무경력temp', '근무형태temp', '근무지역temp', '출신대학temp', '대학전공temp', '어학시험temp', '자격증temp', '근무형태1temp', '근무형태2temp', '근무형태3temp', '근무형태4temp', '근무1지역temp', '근무2지역temp', '근무3지역temp', '전공1temp', '전공2temp', '전공3temp', '대학전공_계열temp', '출신대학_등급temp', '근무지역_해외temp', '출신대학_지역temp', '세부직종_등급temp', '숙련도temp', '세부직종_기타temp', '직무태그0temp', '직무태그1temp', '직무태그2temp', '직무태그3temp', '직무태그4temp', '직무태그5temp', '직무태그6temp', '직무태그7temp', '직무태그8temp', '직무태그9temp', '직무태그10temp', '직무태그11temp', '직무태그12temp', '직무태그13temp', '직무태그14temp', '직무태그15temp', '직무태그16temp', '직무태그17temp', '직무태그18temp', '직무태그19temp', '여대temp']</pre></div></div></div><div class=\"sk-serial\"><div class=\"sk-item\"><div class=\"sk-serial\"><div class=\"sk-item\"><div class=\"sk-estimator sk-toggleable\"><input class=\"sk-toggleable__control sk-hidden--visually\" id=\"43253283-f68b-4c32-a9a6-239a7228bee8\" type=\"checkbox\" ><label class=\"sk-toggleable__label\" for=\"43253283-f68b-4c32-a9a6-239a7228bee8\">SimpleImputer</label><div class=\"sk-toggleable__content\"><pre>SimpleImputer(strategy='most_frequent')</pre></div></div></div><div class=\"sk-item\"><div class=\"sk-estimator sk-toggleable\"><input class=\"sk-toggleable__control sk-hidden--visually\" id=\"0e93ef2f-4280-4190-8bc4-aed24067ffa4\" type=\"checkbox\" ><label class=\"sk-toggleable__label\" for=\"0e93ef2f-4280-4190-8bc4-aed24067ffa4\">OneHotEncoder</label><div class=\"sk-toggleable__content\"><pre>OneHotEncoder(dtype=<class 'int'>, handle_unknown='ignore')</pre></div></div></div></div></div></div></div></div></div></div><div class=\"sk-item\"><div class=\"sk-estimator sk-toggleable\"><input class=\"sk-toggleable__control sk-hidden--visually\" id=\"5823d59b-c2cd-431c-b787-02effb708430\" type=\"checkbox\" ><label class=\"sk-toggleable__label\" for=\"5823d59b-c2cd-431c-b787-02effb708430\">SelectPercentile</label><div class=\"sk-toggleable__content\"><pre>SelectPercentile(percentile=100)</pre></div></div></div></div></div><div class=\"sk-item\"><div class=\"sk-estimator sk-toggleable\"><input class=\"sk-toggleable__control sk-hidden--visually\" id=\"2eeff413-724c-447b-8139-f84b21d3d92b\" type=\"checkbox\" ><label class=\"sk-toggleable__label\" for=\"2eeff413-724c-447b-8139-f84b21d3d92b\">LGBMRegressor</label><div class=\"sk-toggleable__content\"><pre>LGBMRegressor(random_state=0)</pre></div></div></div></div></div></div></div>"
      ],
      "text/plain": [
       "Pipeline(steps=[('preprocessor',\n",
       "                 Pipeline(steps=[('column',\n",
       "                                  ColumnTransformer(transformers=[('num',\n",
       "                                                                   Pipeline(steps=[('imputer',\n",
       "                                                                                    SimpleImputer())]),\n",
       "                                                                   ['대학성적temp',\n",
       "                                                                    '연차temp',\n",
       "                                                                    '스펙점수temp',\n",
       "                                                                    '직무태그_갯수temp',\n",
       "                                                                    'NEW스펙점수temp',\n",
       "                                                                    '연차방정식temp',\n",
       "                                                                    '0temp',\n",
       "                                                                    '1temp',\n",
       "                                                                    '2temp',\n",
       "                                                                    '3temp',\n",
       "                                                                    '4temp',\n",
       "                                                                    '5temp',\n",
       "                                                                    '6temp',\n",
       "                                                                    '7temp',\n",
       "                                                                    '8temp',\n",
       "                                                                    '9temp',\n",
       "                                                                    '10temp',\n",
       "                                                                    '11temp',\n",
       "                                                                    '12temp',\n",
       "                                                                    '13temp',\n",
       "                                                                    '14temp',\n",
       "                                                                    '15temp',\n",
       "                                                                    '...\n",
       "                                                                    '자격증temp',\n",
       "                                                                    '근무형태1temp',\n",
       "                                                                    '근무형태2temp',\n",
       "                                                                    '근무형태3temp',\n",
       "                                                                    '근무형태4temp',\n",
       "                                                                    '근무1지역temp',\n",
       "                                                                    '근무2지역temp',\n",
       "                                                                    '근무3지역temp',\n",
       "                                                                    '전공1temp',\n",
       "                                                                    '전공2temp',\n",
       "                                                                    '전공3temp',\n",
       "                                                                    '대학전공_계열temp',\n",
       "                                                                    '출신대학_등급temp',\n",
       "                                                                    '근무지역_해외temp',\n",
       "                                                                    '출신대학_지역temp',\n",
       "                                                                    '세부직종_등급temp',\n",
       "                                                                    '숙련도temp',\n",
       "                                                                    '세부직종_기타temp',\n",
       "                                                                    '직무태그0temp',\n",
       "                                                                    '직무태그1temp',\n",
       "                                                                    '직무태그2temp', ...])])),\n",
       "                                 ('selector',\n",
       "                                  SelectPercentile(percentile=100))])),\n",
       "                ('classifier', LGBMRegressor(random_state=0))])"
      ]
     },
     "execution_count": 54,
     "metadata": {},
     "output_type": "execute_result"
    }
   ],
   "source": [
    "def remove_outlier(X, q=0.05):  \n",
    "    df = pd.DataFrame(X)\n",
    "    return df.apply(lambda x: x.clip(x.quantile(q), x.quantile(1-q)), axis=0).values\n",
    "\n",
    "numeric_transformer = Pipeline(\n",
    "    steps=[\n",
    "        (\"imputer\", SimpleImputer(strategy=\"mean\")),\n",
    "#         (\"outlier\", FunctionTransformer(remove_outlier, kw_args={'q':0.05})),\n",
    "#         (\"scaler\", PowerTransformer()),\n",
    "    ]\n",
    ")\n",
    "\n",
    "categorical_transformer = Pipeline(\n",
    "    steps=[\n",
    "        (\"imputer\", SimpleImputer(strategy=\"most_frequent\")),\n",
    "        (\"encoder\", OneHotEncoder(handle_unknown='ignore', dtype=int)),\n",
    "    ]\n",
    ")\n",
    "\n",
    "column_transformer = ColumnTransformer(\n",
    "    transformers=[\n",
    "        (\"num\", numeric_transformer, numeric_features),\n",
    "        (\"cat\", categorical_transformer, categorical_features),\n",
    "    ]\n",
    ")\n",
    "\n",
    "preprocessor = Pipeline(\n",
    "    steps=[\n",
    "        (\"column\", column_transformer),\n",
    "        (\"selector\", SelectPercentile(percentile=100)),\n",
    "    ]\n",
    ")\n",
    "\n",
    "model = Pipeline(\n",
    "    steps=[\n",
    "        (\"preprocessor\", preprocessor),\n",
    "        (\"classifier\", LGBMRegressor(random_state=0)),\n",
    "    ]\n",
    ")\n",
    "\n",
    "set_config(display=\"diagram\")  # To view the text pipeline, change to display='text'.\n",
    "model"
   ]
  },
  {
   "cell_type": "code",
   "execution_count": 52,
   "id": "dfbe78fd",
   "metadata": {},
   "outputs": [
    {
     "name": "stdout",
     "output_type": "stream",
     "text": [
      "model :  Pipeline\n"
     ]
    }
   ],
   "source": [
    "lgbm_train, lgbm_test = get_stacking_data(model, X_train, y_train, X_test)"
   ]
  },
  {
   "cell_type": "code",
   "execution_count": 53,
   "id": "c819221a",
   "metadata": {},
   "outputs": [],
   "source": [
    "lgbm_data = pd.concat([pd.DataFrame(lgbm_train), pd.DataFrame(lgbm_test)],axis=1)\n",
    "lgbm_data.columns = ['modelB_lgbm_train','modelB_lgbm_test']\n",
    "lgbm_data.to_csv('modelB_lgbm_data.csv')"
   ]
  },
  {
   "cell_type": "code",
   "execution_count": 55,
   "id": "1308a475",
   "metadata": {},
   "outputs": [
    {
     "name": "stdout",
     "output_type": "stream",
     "text": [
      "Default LM CV scores:  [833.69748286 813.58626314 838.26293185 835.89553031 817.16696566]\n",
      "Default LM CV mean = 827.79 with std = 130.08\n"
     ]
    }
   ],
   "source": [
    "from sklearn.model_selection import cross_val_score, ShuffleSplit\n",
    "\n",
    "sscv = ShuffleSplit(test_size=0.3334, n_splits=5,random_state=0)\n",
    "scores = cross_val_score(model, X_train, y_train, scoring='neg_mean_squared_error', cv=sscv)\n",
    "\n",
    "print(\"Default LM CV scores: \", np.sqrt(-1*scores))\n",
    "print(\"Default LM CV mean = %.2f\" % np.sqrt(-1*scores.mean()), \"with std = %.2f\" % np.sqrt(scores.std()))"
   ]
  }
 ],
 "metadata": {
  "kernelspec": {
   "display_name": "Python 3 (ipykernel)",
   "language": "python",
   "name": "python3"
  },
  "language_info": {
   "codemirror_mode": {
    "name": "ipython",
    "version": 3
   },
   "file_extension": ".py",
   "mimetype": "text/x-python",
   "name": "python",
   "nbconvert_exporter": "python",
   "pygments_lexer": "ipython3",
   "version": "3.9.7"
  }
 },
 "nbformat": 4,
 "nbformat_minor": 5
}
